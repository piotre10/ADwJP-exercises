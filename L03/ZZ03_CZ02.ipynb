{
 "cells": [
  {
   "cell_type": "markdown",
   "id": "753cba3b",
   "metadata": {
    "deletable": false,
    "editable": false,
    "nbgrader": {
     "cell_type": "markdown",
     "checksum": "4d87ed846e09cbf1c8eae4e0f16bea9b",
     "grade": false,
     "grade_id": "cell-fcd2666579131b77",
     "locked": true,
     "schema_version": 3,
     "solution": false,
     "task": false
    },
    "tags": []
   },
   "source": [
    "# Analiza danych w języku Python - ćwiczenia laboratoryjne 2022/2023\n",
    "\n",
    "Ten notatnik zalicza się do grupy zestawów zadań, na podstawie których odbywa się zaliczenie ćwiczeń i podlega zwrotowi do oceny w ustalonym na zajęciach terminie.\n",
    "\n",
    "Uwagi i wytyczne ogólne dotyczące uzupełniania i oceny notatnika:\n",
    "- Podczas wykonywania zadań należy korzystać wyłącznie z pakietów zaimportowanych na początku notatnika oraz z pakietów wchodzących w skład standardowej biblioteki Pythona, które można zaimportować samodzielnie we wskazanej komórce notatnika.\n",
    "- Swoje rozwiązania należy wprowadzać wyłącznie w miejce następujących fragmentów kodu:<br/> `# YOUR CODE HERE`<br/> `raise NotImplementedError()`<br/> \n",
    "a odpowiedzi tekstowe w komórkach oznaczonych hasłem:<br/> \n",
    "`YOUR ANSWER HERE`<br/> \n",
    "Nie należy w żaden sposób modyfikować pozostałych fragmentów kodu oraz innych elementów notatnika, w szczególności dodawać lub usuwać komórek oraz zmieniać nazwy pliku.\n",
    "- Jeżeli zestaw zadań wymaga skorzystania z fragmentów kodu opracowanego w ramach wcześniejszych zestawów zadań należy je umieścić we wskazanej komórce notatnika.\n",
    "- Otrzymywane wyniki i odpowiedzi mają być rezultatem wykonania napisanego kodu, odpowiedzi uzupełniane manualnie nie podlegają ocenie.\n",
    "- Zadanie należy wykonać w taki sposób, aby podczas wykonywania kodu nie zostały wyświetlone żadne ostrzeżenia.\n",
    "- Zawarte w notatniku automatyczne testy mają charakter poglądowy. Dotyczą one wybranych aspektów zadań i mają za zadanie wyłapać podstawowe błędy. Przejście wszystkich testów nie oznacza, że zadanie jest wykonane w całości poprawnie i zostanie ocenione na maksymalną liczbę punktów.\n",
    "- Zadania, które powodują wyświetlenie komunikatu o błędzie przerywającym wykonywanie kodu nie podlegają ocenie.\n",
    "\n",
    "Uwagi i wytyczne ogólne dotyczące wizualizacji wyników:\n",
    "- Wszystkie wykresy powinny być wykonane w jednolitym, przejrzystym i czytelnym stylu, posiadać odpowiednio dobrane proporcje i zakresy wartości osi.\n",
    "- Wykresy oraz ich osie powinny mieć nadane tytuły. Jeżeli w obrębie figury znajduje się więcej niż jeden wykres to figura również powinna mieć nadany tytuł. \n",
    "- Figury powinny mieć ustawione białe tło, tak, aby niezależnie od ustawień notatnika wszystkie elementy wykresów były dobrze widoczne (domyślnie tło jest przeźroczyste co może powodować problemy w notatnikach z ustawionym ciemnym tłem).\n",
    "- Rozmiar poziomy figur nie powinien przekraczać 20 cali.\n",
    "\n",
    "Przed odesłaniem zestawu zadań do oceny proszę uzupełnić komórkę z danymi autorów rozwiązania (`NAME` - nazwa zespołu, `COLLABORATORS` - imiona, nazwiska i numery indeksów członków zespołu) oraz upewnić się, że notatnik działa zgodnie z oczekiwaniami. W tym celu należy skorzystać z opcji **Restart Kernel and Run All Cells...** dostępnej na górnej belce notatnika pod symbolem $\\blacktriangleright\\blacktriangleright$."
   ]
  },
  {
   "cell_type": "code",
   "execution_count": null,
   "id": "d06014bd",
   "metadata": {},
   "outputs": [],
   "source": [
    "NAME = \"\"\n",
    "COLLABORATORS = \"\""
   ]
  },
  {
   "cell_type": "markdown",
   "id": "577cf028",
   "metadata": {
    "deletable": false,
    "editable": false,
    "nbgrader": {
     "cell_type": "markdown",
     "checksum": "eddc8826810e4a6f7bf68319da334bd9",
     "grade": false,
     "grade_id": "cell-109006d425e5cf83",
     "locked": true,
     "schema_version": 3,
     "solution": false,
     "task": false
    },
    "tags": []
   },
   "source": [
    "---"
   ]
  },
  {
   "cell_type": "markdown",
   "id": "3dc8b5f1-8b22-4781-876f-27826679533d",
   "metadata": {
    "deletable": false,
    "editable": false,
    "nbgrader": {
     "cell_type": "markdown",
     "checksum": "8e7246cd60e27922d20ef543ab19fe9a",
     "grade": false,
     "grade_id": "cell-a12f05a1065ccf65",
     "locked": true,
     "schema_version": 3,
     "solution": false,
     "task": false
    },
    "tags": []
   },
   "source": [
    "## Zestaw zadań 3: Elementy statystyki opisowej 3 (Notatnik 2/4)"
   ]
  },
  {
   "cell_type": "code",
   "execution_count": null,
   "id": "7f9968ab-aec5-4893-b0ad-34121d66004f",
   "metadata": {
    "deletable": false,
    "editable": false,
    "nbgrader": {
     "cell_type": "code",
     "checksum": "6a1e029ad976005b8bbf36e1fca0fca7",
     "grade": false,
     "grade_id": "cell-d7c9c710c5b409e6",
     "locked": true,
     "schema_version": 3,
     "solution": false,
     "task": false
    },
    "tags": []
   },
   "outputs": [],
   "source": [
    "import numpy as np\n",
    "import pandas as pd\n",
    "import scipy as sp\n",
    "import matplotlib as mpl\n",
    "import matplotlib.pyplot as plt\n",
    "import seaborn as sns\n",
    "import dataframe_image as dfi"
   ]
  },
  {
   "cell_type": "code",
   "execution_count": null,
   "id": "2876bbec-f433-4b3e-8187-0184b66bcbe9",
   "metadata": {
    "tags": []
   },
   "outputs": [],
   "source": [
    "# Miejsce do importu pakietów wchodzących w skład standardowej biblioteki Pythona oraz ustawienie opcji wykorzystywanych pakietów"
   ]
  },
  {
   "cell_type": "markdown",
   "id": "73cb2852-79f3-4f76-9303-a091a9be7623",
   "metadata": {
    "deletable": false,
    "editable": false,
    "nbgrader": {
     "cell_type": "markdown",
     "checksum": "f9e467a017d515b02ee9756ec1ef3ef7",
     "grade": false,
     "grade_id": "cell-7e0c91af7d9408af",
     "locked": true,
     "schema_version": 3,
     "solution": false,
     "task": false
    },
    "tags": []
   },
   "source": [
    "### Wczytanie danych\n",
    "Wczytaj dane z przygotowanych wcześniej plików bike_traffic_data.pkl i  weather_data.pkl do tablic `bike_traffic_data` oraz `weather_data`.\n",
    "\n",
    "Wyświetl przygotowane tablice."
   ]
  },
  {
   "cell_type": "code",
   "execution_count": null,
   "id": "bb86cffa-4841-45db-b09e-06fb353a4250",
   "metadata": {
    "deletable": false,
    "nbgrader": {
     "cell_type": "code",
     "checksum": "c017ee4f5c12d44701278345e77e2f32",
     "grade": true,
     "grade_id": "cell-184ec13f50fb3bfe",
     "locked": false,
     "points": 0,
     "schema_version": 3,
     "solution": true,
     "task": false
    },
    "tags": []
   },
   "outputs": [],
   "source": [
    "# Ruch rowerowy\n",
    "# YOUR CODE HERE\n",
    "raise NotImplementedError()"
   ]
  },
  {
   "cell_type": "code",
   "execution_count": null,
   "id": "b0bb9f93-b1e5-4f02-9b17-3eaa432f4d4d",
   "metadata": {
    "deletable": false,
    "nbgrader": {
     "cell_type": "code",
     "checksum": "f06273d1067e48dde68ab99b525a75ed",
     "grade": true,
     "grade_id": "cell-cf8ff5e0a8a18cb2",
     "locked": false,
     "points": 0,
     "schema_version": 3,
     "solution": true,
     "task": false
    },
    "tags": []
   },
   "outputs": [],
   "source": [
    "# Pogoda\n",
    "# YOUR CODE HERE\n",
    "raise NotImplementedError()"
   ]
  },
  {
   "cell_type": "markdown",
   "id": "fdaccd00-7a75-4926-b051-96470de901e2",
   "metadata": {
    "deletable": false,
    "editable": false,
    "nbgrader": {
     "cell_type": "markdown",
     "checksum": "d818762d8b17c042f0645f278af1b04f",
     "grade": false,
     "grade_id": "cell-e01d8f2049de027d",
     "locked": true,
     "schema_version": 3,
     "solution": false,
     "task": false
    },
    "tags": []
   },
   "source": [
    "### Zadnie 2: Przegląd danych - ruch rowerowy [15 pkt]"
   ]
  },
  {
   "cell_type": "markdown",
   "id": "bbaf2231-5755-4359-b73a-30cc5cd3b68d",
   "metadata": {
    "deletable": false,
    "editable": false,
    "nbgrader": {
     "cell_type": "markdown",
     "checksum": "2a675d4bd32d61701aef45fef7f5a282",
     "grade": false,
     "grade_id": "cell-09900b872e979ffe",
     "locked": true,
     "schema_version": 3,
     "solution": false,
     "task": false
    },
    "tags": []
   },
   "source": [
    "#### a) Tabele\n",
    "\n",
    "Przygotuj trzy tablice prezentujące różne aspekty ruchu rowerowego według poniższych wytycznych.\n",
    "\n",
    "Tablica `daily_bike_traffic_data` prezentuje sumaryczną liczbę rowerzystów przejeżdżających przez most w poszczególnych dniach roku w sumie oraz z podziałem na zachodnią i wschodnią stronę mostu.\n",
    "> Indeks: Date</br>\n",
    "> PeriodIndex zawierający okresy czasu, w których dokonywane były zliczenia rowerzystów.</br>\n",
    "\n",
    "> Kolumny: Total, West, East</br>\n",
    "> Kolumny zawierają liczbę rowerzystów przejeżdżających przez most w poszczególnych dniach roku w sumie oraz wraz z podziałem na zachodnią i wschodnią stronę mostu.\n",
    "       \n",
    "Tablica `bike_traffic_by_weekday_data` prezentuje średnią liczbę rowerzystów przejeżdżających przez most w poszczególnych dniach tygodnia w sumie oraz z podziałem na zachodnią i wschodnią stronę mostu.\n",
    "\n",
    "> Indeks: Day</br>\n",
    "> Dni tygodnia (Monday, Tuesday ... ).</br>\n",
    "\n",
    "> Kolumny: Total, West, East</br>\n",
    "> Kolumny zawierają średnią liczbę rowerzystów przejeżdżających przez most w poszczególnych dniach tygodnia w sumie oraz wraz z podziałem na zachodnią i wschodnią stronę mostu.\n",
    "    \n",
    "Tablica `weekday_weekend_hourly_bike_traffic_data`  prezentuje średnią liczbę rowerzystów przejeżdżających przez most w poszczególnych godzinach w sumie oraz z podziałem na zachodnią i wschodnią stronę mostu, a także z podziałem na dni robocze i weekend.\n",
    "\n",
    "> Indeks: Hour </br>\n",
    "> Godziny, dla których liczone są wartości średnie (0, 1, 2 ...).\n",
    "\n",
    "> Kolumny: </br>\n",
    "> 1 rzędu: Weekday, Weekend</br>\n",
    "> 2 rzędu: Total, West, East (ten sam zestaw kolumn dla każdego okresu tygodnia)</br>\n",
    "> Kolumny zawierają średnią liczbę rowerzystów przejeżdżających przez most w poszczególnych godzinach w sumie oraz wraz z podziałem na zachodnią i wschodnią stronę mostu.\n",
    "\n",
    "Wyświetl przygotowane tablice w taki sposób aby zawarte w nich liczby rowerzystów wyświetlały się z dokładnością 0 miejsc po przecinku, a średnie liczby rowerzystów z dokładnością 2 miejsc po przecinku. W przypadku tablicy `daily_bike_traffic_data` wyświetl tylko 10 pierwszych wierszy tablicy."
   ]
  },
  {
   "cell_type": "code",
   "execution_count": null,
   "id": "cb2b0402-049d-4104-83f7-a9fd616080e1",
   "metadata": {
    "deletable": false,
    "nbgrader": {
     "cell_type": "code",
     "checksum": "936b085d6b1a6a07f4c1894e1f59bb79",
     "grade": false,
     "grade_id": "cell-8be9f2f086031bd0",
     "locked": false,
     "schema_version": 3,
     "solution": true,
     "task": false
    },
    "tags": []
   },
   "outputs": [],
   "source": [
    "# Agregacja danych z poszczególnych dni roku\n",
    "# YOUR CODE HERE\n",
    "raise NotImplementedError()"
   ]
  },
  {
   "cell_type": "code",
   "execution_count": null,
   "id": "19e07d74-f924-4cfb-9410-5658a6e5182b",
   "metadata": {
    "deletable": false,
    "nbgrader": {
     "cell_type": "code",
     "checksum": "03b39dd32390ba686a04ce5cb1fff775",
     "grade": false,
     "grade_id": "cell-39ea156f9a6713c1",
     "locked": false,
     "schema_version": 3,
     "solution": true,
     "task": false
    },
    "tags": []
   },
   "outputs": [],
   "source": [
    "# Agregacja danych z poszczególnych dni tygodnia\n",
    "# YOUR CODE HERE\n",
    "raise NotImplementedError()"
   ]
  },
  {
   "cell_type": "code",
   "execution_count": null,
   "id": "cbdaaae7-13c9-42fd-b8f7-002c9610de31",
   "metadata": {
    "deletable": false,
    "nbgrader": {
     "cell_type": "code",
     "checksum": "879f83cb8c15bc5befbbcb09ef54cbd9",
     "grade": false,
     "grade_id": "cell-fcbd547739059e22",
     "locked": false,
     "schema_version": 3,
     "solution": true,
     "task": false
    },
    "tags": []
   },
   "outputs": [],
   "source": [
    "# Agregacja danych z konkretnych okresów tygodnia (dzień roboczy/weekend)\n",
    "# YOUR CODE HERE\n",
    "raise NotImplementedError()"
   ]
  },
  {
   "cell_type": "code",
   "execution_count": null,
   "id": "dcf89507-b9d7-4dcc-ad79-1c69c569a321",
   "metadata": {
    "deletable": false,
    "editable": false,
    "nbgrader": {
     "cell_type": "code",
     "checksum": "20a883c091ad1e0ea1ee4b05909afbed",
     "grade": true,
     "grade_id": "cell-83721cfb90114427",
     "locked": true,
     "points": 7,
     "schema_version": 3,
     "solution": false,
     "task": false
    },
    "tags": []
   },
   "outputs": [],
   "source": [
    "### Komórka testowa\n",
    "\n",
    "## Tabela 1\n",
    "daily_bike_traffic_data\n",
    "# Test 1 Kształt tablicy\n",
    "assert daily_bike_traffic_data.shape == (365, 3)\n",
    "# Test 2 Kolumny\n",
    "assert len(set(list(daily_bike_traffic_data.columns)) & set(['Total', 'East', 'West'])) == 3\n",
    "# Test 3 Indeks\n",
    "assert (daily_bike_traffic_data.index.name == 'Date') == True\n",
    "assert isinstance(daily_bike_traffic_data.index, pd.PeriodIndex)\n",
    "assert daily_bike_traffic_data.index.values.min() == pd.Period('2022-01-01', 'D')\n",
    "assert daily_bike_traffic_data.index.values.max() == pd.Period('2022-12-31', 'D')\n",
    "# Test 4 Zawartość kolumn\n",
    "assert np.all(np.isclose(daily_bike_traffic_data[['Total', 'East', 'West']].min().values, np.array([23., 12., 10.]))) == True\n",
    "assert np.all(np.isclose(daily_bike_traffic_data[['Total', 'East', 'West']].max().values, np.array([4233., 1733., 3031.]))) == True\n",
    "\n",
    "## Tabela 2\n",
    "# Test 1 Kształt tablicy\n",
    "assert bike_traffic_by_weekday_data.shape == (7, 3)\n",
    "# Test 2 Kolumny\n",
    "assert len(set(list(bike_traffic_by_weekday_data.columns)) & set(['Total', 'East', 'West'])) == 3\n",
    "# Test 3 Indeks\n",
    "assert (bike_traffic_by_weekday_data.index.name == 'Day') == True\n",
    "assert len(set(list(bike_traffic_by_weekday_data.index)) & set(['Monday', 'Tuesday', 'Wednesday', 'Thursday', 'Friday', 'Saturday', 'Sunday'])) == 7\n",
    "# Test 4 Zawartość kolumn\n",
    "assert np.all(np.isclose(bike_traffic_by_weekday_data.min().values, np.array([1664.44230769,  771.57692308,  892.86538462]))) == True\n",
    "assert np.all(np.isclose(bike_traffic_by_weekday_data.max().values, np.array([2579.96153846,  983.82692308, 1596.13461538]))) == True\n",
    "\n",
    "## Tabela 3\n",
    "# Test 1 Kształt tablicy\n",
    "assert weekday_weekend_hourly_bike_traffic_data.shape == (24, 6)\n",
    "# Test 2 Kolumny\n",
    "assert len(set(list(weekday_weekend_hourly_bike_traffic_data.columns)) & set(list(weekday_weekend_hourly_bike_traffic_data.columns))) == 6\n",
    "# Test 3 Indeks\n",
    "assert (weekday_weekend_hourly_bike_traffic_data.index.name == 'Hour') == True\n",
    "assert weekday_weekend_hourly_bike_traffic_data.index.values.min() == 0\n",
    "assert weekday_weekend_hourly_bike_traffic_data.index.values.max() == 23\n",
    "# Test 4 Zawartość kolumn\n",
    "assert np.all(np.isclose(weekday_weekend_hourly_bike_traffic_data.min().values, np.array([1.75, 0.87692308, 0.87307692, 2.82857143, 1.53333333, 1.07619048]))) == True\n",
    "assert np.all(np.isclose(weekday_weekend_hourly_bike_traffic_data.max().values, np.array([324.42307692, 225.72307692, 99.01923077, 187.73333333, 99.94285714, 87.79047619]))) == True"
   ]
  },
  {
   "cell_type": "markdown",
   "id": "fc2c10f7-be4f-45d1-92ee-b573ec000879",
   "metadata": {
    "deletable": false,
    "editable": false,
    "nbgrader": {
     "cell_type": "markdown",
     "checksum": "d5961ebc4dd9f3b17e16f57bacb380bb",
     "grade": false,
     "grade_id": "cell-8a0acfda9dc10291",
     "locked": true,
     "schema_version": 3,
     "solution": false,
     "task": false
    },
    "tags": []
   },
   "source": [
    "#### b) Wykresy\n",
    "\n",
    "Zwizualizuj dane z tablic `daily_bike_traffic_data`, `bike_traffic_by_weekday_data` oraz `weekday_weekend_hourly_bike_traffic_data` za pomocą wykresów liniowych. Przygotuj:\n",
    "- wykres prezentujący liczbę rowerzystów przejeżdżających przez most w poszczególnych dniach roku w sumie oraz z podziałem na zachodnią i wschodnią stronę mostu,\n",
    "- wykres prezentujący średnią liczbę rowerzystów przejeżdżających przez most w poszczególnych dniach tygodnia w sumie oraz z podziałem na zachodnią i wschodnią stronę mostu,\n",
    "- wykres prezentujący średnią liczbę rowerzystów przejeżdżających przez most w poszczególnych godzinach w dni robocze w sumie oraz z podziałem na zachodnią i wschodnią stronę mostu,\n",
    "- wykres prezentujący średnią liczbę rowerzystów przejeżdżających przez most w poszczególnych godzinach w weekendy w sumie oraz z podziałem na zachodnią i wschodnią stronę mostu.\n",
    "\n",
    "Zestaw wykresy na pojedynczej figurze (siatka wykresów 2x3, przy czym wykres sum dziennych zajmuje wszystkie trzy pola w górnym wierszu figury). Przygotuj figurę zgodnie z wytycznymi z nagłówka notatnika. Dodatkowo:\n",
    "- ustaw różne od domyślnych i od siebie nawzajem kolory wykresów poszczególnych parametrów (każdy z parametrów ma na wszystkich wykresach ten sam kolor),\n",
    "- dodaj do figury pojedynczą legendę zawierającą nazwy zwizualizowanych parametrów i zlokalizowaną w dolnej części figury, pod wykresami,\n",
    "- dopasuj zakresy osi wykresów do zakresu wartości danych."
   ]
  },
  {
   "cell_type": "code",
   "execution_count": null,
   "id": "42483633-b033-464c-929e-72b84b2bccd6",
   "metadata": {
    "deletable": false,
    "nbgrader": {
     "cell_type": "code",
     "checksum": "45fe52b891eec3886acb5af91d0ab74e",
     "grade": true,
     "grade_id": "cell-202b025e3a1ca82c",
     "locked": false,
     "points": 8,
     "schema_version": 3,
     "solution": true,
     "task": false
    },
    "tags": []
   },
   "outputs": [],
   "source": [
    "# YOUR CODE HERE\n",
    "raise NotImplementedError()"
   ]
  },
  {
   "cell_type": "markdown",
   "id": "7536cb7f-6298-453c-94e3-aa987363aa1a",
   "metadata": {
    "deletable": false,
    "editable": false,
    "nbgrader": {
     "cell_type": "markdown",
     "checksum": "e1476dc7c7e597571b611e3d45d58437",
     "grade": false,
     "grade_id": "cell-7e0f82f2a4dfb30a",
     "locked": true,
     "schema_version": 3,
     "solution": false,
     "task": false
    },
    "tags": []
   },
   "source": [
    "### Zadnie 3: Przegląd danych - pogoda [15 pkt]"
   ]
  },
  {
   "cell_type": "markdown",
   "id": "4c4e863b-ad4f-4df5-a170-4165eb79cadd",
   "metadata": {
    "deletable": false,
    "editable": false,
    "nbgrader": {
     "cell_type": "markdown",
     "checksum": "7b7f2f6eb5827f6227f698cf0d3ac1b3",
     "grade": false,
     "grade_id": "cell-ea49d6c3be4146b0",
     "locked": true,
     "schema_version": 3,
     "solution": false,
     "task": false
    },
    "tags": []
   },
   "source": [
    "#### a) Tabela\n",
    "\n",
    "Przygotuj tablicę `monthly_weather_data` zawierającą dane z tablicy `weather_data` zagregowane w obrębie poszczególnych miesięcy według następującego klucza:\n",
    "- wartość minimalna z całego miesiąca: Temperature: Min,\n",
    "- wartość maksymalna z całego miesiąca: Temperature: Max, Wind: Max speed,\n",
    "- suma z całego miesiąca: Precipitation: Total, Snow: Fall,\n",
    "- średnia z całego miesiąca: Temperature: Avg, Snow: Depth, Wind: Avg speed, Sky: Cloud cover.\n",
    "\n",
    "Tablica powinna zawierać wyłącznie następujące elementy:</br>\n",
    "> Indeks: Date</br>\n",
    "> PeriodIndex zawierający okresy czasu, których dotyczą dane z raportów pogodowych.</br>\n",
    "\n",
    "> Kolumny: W podanej niżej kolejności</br>\n",
    "> Temperature: Min, Avg, Max</br>\n",
    "> Precipitation: Total</br>\n",
    "> Snow: Fall, Depth</br>\n",
    "> Wind: Avg speed, Max speed</br>\n",
    "> Sky: Cloud cover</br>\n",
    "> (Nazwa 1 poziomu: podległe jej nazwy 2 poziomu)"
   ]
  },
  {
   "cell_type": "code",
   "execution_count": null,
   "id": "3461a217-516b-4a5f-98aa-df51b212a598",
   "metadata": {
    "deletable": false,
    "nbgrader": {
     "cell_type": "code",
     "checksum": "0407c2363855df3c01ce3976d0e4fe5f",
     "grade": false,
     "grade_id": "cell-6d40159c1f916fef",
     "locked": false,
     "schema_version": 3,
     "solution": true,
     "task": false
    },
    "tags": []
   },
   "outputs": [],
   "source": [
    "# YOUR CODE HERE\n",
    "raise NotImplementedError()"
   ]
  },
  {
   "cell_type": "code",
   "execution_count": null,
   "id": "5ce804fe-3373-496a-b957-3410cac27bfc",
   "metadata": {
    "deletable": false,
    "editable": false,
    "nbgrader": {
     "cell_type": "code",
     "checksum": "971d559cb37ef7719d50736f77251dcb",
     "grade": true,
     "grade_id": "cell-c2c51d232639ab46",
     "locked": true,
     "points": 7,
     "schema_version": 3,
     "solution": false,
     "task": false
    },
    "tags": []
   },
   "outputs": [],
   "source": [
    "### Komórka testowa\n",
    "# Test 1 Kształt tablicy\n",
    "assert monthly_weather_data.shape == (12, 9)\n",
    "# Test 2 Kolumny\n",
    "assert len(set(list(monthly_weather_data.columns)) & set([('Temperature', 'Min'), ('Temperature', 'Avg'), ('Temperature', 'Max'), ('Precipitation', 'Total'),\n",
    "            ('Snow', 'Fall'), ('Snow', 'Depth'), ('Wind', 'Avg speed'), ('Wind', 'Max speed'), ('Sky', 'Cloud cover')])) == 9\n",
    "# Test 3 Indeks\n",
    "assert (monthly_weather_data.index.name == 'Date') == True\n",
    "assert isinstance(monthly_weather_data.index, pd.PeriodIndex) == True\n",
    "assert monthly_weather_data.index.values.min() == pd.Period('2022-01', 'M')\n",
    "assert monthly_weather_data.index.values.max() == pd.Period('2022-12', 'M')\n",
    "# Test 4 Zawartość kolumn\n",
    "assert np.all(np.isclose(monthly_weather_data.min().values, np.array([-7.77777778, 3.90681004, 13.33333333, 1.27, 0., 0., 2.93603606, 8.0467, 0.43870968]))) == True\n",
    "assert np.all(np.isclose(monthly_weather_data.max().values, np.array([11.66666667,  21.27240143, 35., 191.77, 119.38, 5.08, 3.97864611, 16.54043889, 0.86774194]))) == True"
   ]
  },
  {
   "cell_type": "markdown",
   "id": "e96f8731-c0bf-4e9c-af83-f2f8029357b8",
   "metadata": {
    "deletable": false,
    "editable": false,
    "nbgrader": {
     "cell_type": "markdown",
     "checksum": "589ca44bc57f40e1445f60d24d09af44",
     "grade": false,
     "grade_id": "cell-e46a441eba08e2e8",
     "locked": true,
     "schema_version": 3,
     "solution": false,
     "task": false
    },
    "tags": []
   },
   "source": [
    "#### b) Wykresy\n",
    "\n",
    "Zwizualizuj dane z tablicy `weather_data` za pomocą następującego zestawu wykresów:\n",
    "- temperatura dzienna (minimalna, średnia i maksymalna), wypełnij kolorem przestrzeń między temperaturą minimalną i maksymalną,\n",
    "- dzienne zachmurzenie (lewa oś wykresu) i opady (prawa oś wykresu), wypełnij kolorem przestrzeń pod każdym z wykresów,\n",
    "- dzienna średnia i maksymalna prędkość wiatru.\n",
    "\n",
    "Zestaw wykresy na pojedynczej figurze (siatka wykresów 3x1). Przygotuj figurę zgodnie z wytycznymi z nagłówka notatnika. Dodatkowo:\n",
    "- ustaw różne od domyślnych i od siebie nawzajem kolory wykresów poszczególnych parametrów,\n",
    "- dodaj do figury pojedynczą legendę zawierającą nazwy wizualizowanych parametrów i zlokalizowaną w dolnej części figury, pod wykresami, uwzględnij w legendzie nie tylko kolory linii, ale również zastosowanych wypełnień,\n",
    "- dopasuj zakresy osi wykresów do zakresu danych, w szczególności dobierz skale osi Y tak, aby wykresy opadów i zachmurzenia nie przysłaniały się wzajemnie,\n",
    "- w opisach osi Y umieść jednostki, w których wyrażone są wartości widoczne na wykresach."
   ]
  },
  {
   "cell_type": "code",
   "execution_count": null,
   "id": "5dbbfa05-68d5-4972-a455-922d77d8a1bd",
   "metadata": {
    "deletable": false,
    "nbgrader": {
     "cell_type": "code",
     "checksum": "74ec31e4b6955b9017e3beff49cb3e4e",
     "grade": true,
     "grade_id": "cell-b72d17b7c9b43a58",
     "locked": false,
     "points": 8,
     "schema_version": 3,
     "solution": true,
     "task": false
    },
    "tags": []
   },
   "outputs": [],
   "source": [
    "# YOUR CODE HERE\n",
    "raise NotImplementedError()"
   ]
  }
 ],
 "metadata": {
  "kernelspec": {
   "display_name": "Python 3 (ipykernel)",
   "language": "python",
   "name": "python3"
  },
  "language_info": {
   "codemirror_mode": {
    "name": "ipython",
    "version": 3
   },
   "file_extension": ".py",
   "mimetype": "text/x-python",
   "name": "python",
   "nbconvert_exporter": "python",
   "pygments_lexer": "ipython3",
   "version": "3.10.10"
  }
 },
 "nbformat": 4,
 "nbformat_minor": 5
}
