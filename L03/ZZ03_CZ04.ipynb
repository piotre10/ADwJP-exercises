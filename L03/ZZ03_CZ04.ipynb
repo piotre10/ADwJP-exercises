{
 "cells": [
  {
   "cell_type": "markdown",
   "id": "9cf5962f",
   "metadata": {
    "deletable": false,
    "editable": false,
    "nbgrader": {
     "cell_type": "markdown",
     "checksum": "4d87ed846e09cbf1c8eae4e0f16bea9b",
     "grade": false,
     "grade_id": "cell-fcd2666579131b77",
     "locked": true,
     "schema_version": 3,
     "solution": false,
     "task": false
    },
    "tags": []
   },
   "source": [
    "# Analiza danych w języku Python - ćwiczenia laboratoryjne 2022/2023\n",
    "\n",
    "Ten notatnik zalicza się do grupy zestawów zadań, na podstawie których odbywa się zaliczenie ćwiczeń i podlega zwrotowi do oceny w ustalonym na zajęciach terminie.\n",
    "\n",
    "Uwagi i wytyczne ogólne dotyczące uzupełniania i oceny notatnika:\n",
    "- Podczas wykonywania zadań należy korzystać wyłącznie z pakietów zaimportowanych na początku notatnika oraz z pakietów wchodzących w skład standardowej biblioteki Pythona, które można zaimportować samodzielnie we wskazanej komórce notatnika.\n",
    "- Swoje rozwiązania należy wprowadzać wyłącznie w miejce następujących fragmentów kodu:<br/> `# YOUR CODE HERE`<br/> `raise NotImplementedError()`<br/> \n",
    "a odpowiedzi tekstowe w komórkach oznaczonych hasłem:<br/> \n",
    "`YOUR ANSWER HERE`<br/> \n",
    "Nie należy w żaden sposób modyfikować pozostałych fragmentów kodu oraz innych elementów notatnika, w szczególności dodawać lub usuwać komórek oraz zmieniać nazwy pliku.\n",
    "- Jeżeli zestaw zadań wymaga skorzystania z fragmentów kodu opracowanego w ramach wcześniejszych zestawów zadań należy je umieścić we wskazanej komórce notatnika.\n",
    "- Otrzymywane wyniki i odpowiedzi mają być rezultatem wykonania napisanego kodu, odpowiedzi uzupełniane manualnie nie podlegają ocenie.\n",
    "- Zadanie należy wykonać w taki sposób, aby podczas wykonywania kodu nie zostały wyświetlone żadne ostrzeżenia.\n",
    "- Zawarte w notatniku automatyczne testy mają charakter poglądowy. Dotyczą one wybranych aspektów zadań i mają za zadanie wyłapać podstawowe błędy. Przejście wszystkich testów nie oznacza, że zadanie jest wykonane w całości poprawnie i zostanie ocenione na maksymalną liczbę punktów.\n",
    "- Zadania, które powodują wyświetlenie komunikatu o błędzie przerywającym wykonywanie kodu nie podlegają ocenie.\n",
    "\n",
    "Uwagi i wytyczne ogólne dotyczące wizualizacji wyników:\n",
    "- Wszystkie wykresy powinny być wykonane w jednolitym, przejrzystym i czytelnym stylu, posiadać odpowiednio dobrane proporcje i zakresy wartości osi.\n",
    "- Wykresy oraz ich osie powinny mieć nadane tytuły. Jeżeli w obrębie figury znajduje się więcej niż jeden wykres to figura również powinna mieć nadany tytuł. \n",
    "- Figury powinny mieć ustawione białe tło, tak, aby niezależnie od ustawień notatnika wszystkie elementy wykresów były dobrze widoczne (domyślnie tło jest przeźroczyste co może powodować problemy w notatnikach z ustawionym ciemnym tłem).\n",
    "- Rozmiar poziomy figur nie powinien przekraczać 20 cali.\n",
    "\n",
    "Przed odesłaniem zestawu zadań do oceny proszę uzupełnić komórkę z danymi autorów rozwiązania (`NAME` - nazwa zespołu, `COLLABORATORS` - imiona, nazwiska i numery indeksów członków zespołu) oraz upewnić się, że notatnik działa zgodnie z oczekiwaniami. W tym celu należy skorzystać z opcji **Restart Kernel and Run All Cells...** dostępnej na górnej belce notatnika pod symbolem $\\blacktriangleright\\blacktriangleright$."
   ]
  },
  {
   "cell_type": "code",
   "execution_count": null,
   "id": "c986566b",
   "metadata": {},
   "outputs": [],
   "source": [
    "NAME = \"IAD28\"\n",
    "COLLABORATORS = \"Radosław Matuszczyk 405124, Piotr Łukasiewicz 406163\""
   ]
  },
  {
   "cell_type": "markdown",
   "id": "40e8aab2",
   "metadata": {
    "deletable": false,
    "editable": false,
    "nbgrader": {
     "cell_type": "markdown",
     "checksum": "eddc8826810e4a6f7bf68319da334bd9",
     "grade": false,
     "grade_id": "cell-109006d425e5cf83",
     "locked": true,
     "schema_version": 3,
     "solution": false,
     "task": false
    },
    "tags": []
   },
   "source": [
    "---"
   ]
  },
  {
   "cell_type": "markdown",
   "id": "3dc8b5f1-8b22-4781-876f-27826679533d",
   "metadata": {
    "deletable": false,
    "editable": false,
    "nbgrader": {
     "cell_type": "markdown",
     "checksum": "cf47339c6e0a9533830524800e5ebaa3",
     "grade": false,
     "grade_id": "cell-a12f05a1065ccf65",
     "locked": true,
     "schema_version": 3,
     "solution": false,
     "task": false
    },
    "tags": []
   },
   "source": [
    "## Zestaw zadań 3: Elementy statystyki opisowej 3 (Notatnik 4/4)"
   ]
  },
  {
   "cell_type": "code",
   "execution_count": null,
   "id": "a0f0ba49-958b-41f6-befc-cf77d7364345",
   "metadata": {
    "deletable": false,
    "editable": false,
    "nbgrader": {
     "cell_type": "code",
     "checksum": "9c1f9f1a79efb2ea5cdbaa8129434777",
     "grade": false,
     "grade_id": "cell-50608d099c9a113d",
     "locked": true,
     "schema_version": 3,
     "solution": false,
     "task": false
    },
    "tags": []
   },
   "outputs": [],
   "source": [
    "import numpy as np\n",
    "import pandas as pd\n",
    "import scipy as sp\n",
    "import matplotlib as mpl\n",
    "import matplotlib.pyplot as plt\n",
    "import seaborn as sns\n",
    "import dataframe_image as dfi"
   ]
  },
  {
   "cell_type": "code",
   "execution_count": null,
   "id": "3afcbcf4-e4a1-4435-a432-bbc51129910d",
   "metadata": {
    "tags": []
   },
   "outputs": [],
   "source": [
    "# Miejsce do importu pakietów wchodzących w skład standardowej biblioteki Pythona oraz ustawienie opcji wykorzystywanych pakietów"
   ]
  },
  {
   "cell_type": "markdown",
   "id": "73cb2852-79f3-4f76-9303-a091a9be7623",
   "metadata": {
    "deletable": false,
    "editable": false,
    "nbgrader": {
     "cell_type": "markdown",
     "checksum": "c8a3387fecf14ec08412e86c0b053249",
     "grade": false,
     "grade_id": "cell-7e0c91af7d9408af",
     "locked": true,
     "schema_version": 3,
     "solution": false,
     "task": false
    },
    "tags": []
   },
   "source": [
    "### Zadanie 6: Analiza wyników [15 pkt]\n",
    "Scharakteryzuj ruch rowerowy moście Fremont Bridge w Seattle w 2022 roku na podstawie wyników analizy przeprowadzonej we wcześniejszych zadaniach zgodnie z poniższymi wytycznymi:\n",
    "- Umieść treść analizy w pojedynczej komórce Markdown. Oprócz tekstu wklej do niej wszystkie wykresy i tablice, do których odnosi się analiza.\n",
    "- Zawrzyj w analizie wnioski odnośnie zmian w natężeniu ruchu rowerowego w ciągu roku, w poszczególnych dniach tygodnia, w dni robocze i weekendy (tygodniowy charakter ruchu) oraz w poszczególnych godzinach z podziałem na dni robocze i weekendy (dzienny charakter ruchu).\n",
    "- Jeżeli dane wskazują na różnicę w charakterze ruchu pomiędzy wschodnią i zachodnią stroną mostu należy zawrzeć w analizie tę informację oraz wyciągnięte na jej podstawie wnioski.\n",
    "- Dokonaj analizy wpływu pogody na natężenie ruchu rowerowego.\n",
    "- Nie ograniczaj się wyłącznie do stwierdzeń typu \"średnia liczba osób przejeżdżających przez most w poniedziałki była niższa niż średnia liczba osób przejeżdżających przez most we wtorki\", tam gdzie to możliwe spróbuj wyciągnąć szersze, dalej idące wnioski o badanym zjawisku.\n",
    "- Wskaż problemy w analizie przeprowadzonej w ramach wykonanych wcześniej zadań i zaproponuj jakie zmiany należy do niej wprowadzić w celu ich rozwiązania.\n",
    "- Jeżeli widzisz taką potrzebę możesz wygenerować dodatkowe tablice i grafiki, w takim przypadku generujący je kod powinien zostać umieszczony w komórce poprzedzającej komórkę z treścią analizy.\n",
    "\n",
    "Wskazówki dotyczące pozyskiwania i wklejania grafik do komórki markdown:\n",
    "- przygotowane wykresy można zapisać do plików za pomocą kodu: `fig.savefig('image.png')`, gdzie `fig` to zmienna zawierająca wykres przygotowany z wykorzystaniem `plt.subplots()`, a `'image.png'` to nazwa pliku, do którego ma zostać zapisana.\n",
    "- przygotowane tablice można zapisać do plików za pomocą kodu: `dfi.export(styled_df, 'df.png')`, gdzie `styled_df` to zmienna zawierająca odpowiednio sformatowaną tablicę, a `'df.png'` to nazwa pliku, do którego ma zostać zapisana.\n",
    "- zapisane do plików grafiki można wklejać do komórki markdown za pomocą następującej formuły: `![](table.png)`, gdzie `table.png` to nazwa pliku, do którego ma zostać wstawiony do komórki.\n",
    "\n",
    "Po wygenerowaniu plików z grafikami nie należy uzuwać z notatników kodu wykorzystanego podczas ich przygotowywania, w tym formuł `fig.savefig()` i `dfi.export()`."
   ]
  },
  {
   "cell_type": "code",
   "execution_count": null,
   "id": "e789ed69-15b2-4b3e-8ff0-41e7137b6f60",
   "metadata": {
    "tags": []
   },
   "outputs": [],
   "source": [
    "# Miejsce na dodatkowy kod\n",
    "bike_traffic_data = pd.read_pickle('bike_traffic_data.pkl')\n",
    "daily_bike_traffic_data = bike_traffic_data.resample('D').sum()\n",
    "daily_bike_traffic_data.corr()"
   ]
  },
  {
   "cell_type": "markdown",
   "id": "79045acb-3c92-4e3e-a418-d020c5375d69",
   "metadata": {
    "deletable": false,
    "nbgrader": {
     "cell_type": "markdown",
     "checksum": "aeaa48637c159e037354ad072c54f33c",
     "grade": true,
     "grade_id": "cell-152c404baa500092",
     "locked": false,
     "points": 15,
     "schema_version": 3,
     "solution": true,
     "task": false
    },
    "tags": []
   },
   "source": [
    "YOUR ANSWER HERE\n",
    "\n",
    "## Charakterystyka w czasie\n",
    "![](bikers.png)\n",
    "\n",
    "Jak widać na powyższej figurze (niebieski - Total, zielony - West, czerwony - East) ruch rowerowy na tym moście jest najbardziej nasilony na początku tygodnia oraz można zauważyć znaczną rozbieżność w ruchu rowerowym w trakcie dnia pomiędzy dniami roboczymi a weekendami. W dni robocze ruch nasila się znacząco w dwóch pikach w okolicach godzin 8:00 i 16:00 co może sugerować że większość osób poruszających się rowerami w tych dniach dojeżdża nimi do pracy. Natomiast w weekendy widzimy łagodny wzrost ruchu w godzinach popołudniowych, co może sugerować bardziej rekreacyjną jazdę. Możemy także zauważyć że średnio więcej osób dojeżdża do pracy na rowerze niż jeździ rekreacyjnie\n",
    "\n",
    "Można także zauważyć że jazda na rowerze jest znacznie bardziej popularna w miesiącach letnich niż zimowych (co nie powinno dziwić), oraz znaczną dysproporcję pomiędzy wschodnią a zachodnią częścią mostu. Po szybkim sprawdzeniu są to wschodni i zachodni chodnik mostu (nie końce jak początkowo myślałem), może to sugerować że z jakiegoś powodu związanego z układem przestrzennym miasta i bliskością/łatwością dostania się do odpowiednich miejsc dla większości ludzi.\n",
    "\n",
    "Problemem powyższej figury jest dość poszarpany górny wykres, co sprawia że jest dość mocno nieczytelny (podobnie jak nieumieszczone tu wykresy pogodowe), co utrudnia wnioskowanie o ogólniejszych trendach w danych. Dodatkowym problemem jest fakt że niezbadano wpływu np. temperatury na średnią ilość osób jeżdżących w danych dniach tygodnia. Mogłoby się okazać np. że gdy jest zimno osoby dojeżdżające do pracy nadal to robią, jednak jazda rekreacyjna jest już mniej popularna, \n",
    "\n",
    "## Związek liczby rowerzystów z pogodą\n",
    "\n",
    "![](correlations.png)\n",
    "\n",
    "Jak widzimy jest duża pozytywna korelacja między temperaturą a liczbą rowerzystów przejeżdżających przez most oraz całkiem duża ujemna korelacja między zachmurzeniem i wielkoścą opadów a liczbą rowerzystów (warto zaznaczyć że zachmurzenie i wielkość opadów są ze sobą skorelowane ze współczynnikiem 0.354). Natomiast jak można zobaczyć na poniższej figurze:\n",
    "\n",
    "![](corr_plots.png)\n",
    "\n",
    "Ze względu na dużą ilość dni bez opadów oraz bez śniegu, sugerowanie się współczynnikiem korelacji dla tych dwóch parametrów może prowadzić do niepoprawnych wniosków (ze względu na asymetrię ilości obserwacji). Podsumowując powyższa analiza pozwala na stwierdzenie prostych i oczekiwanych faktów jak np:\n",
    "\n",
    "- w tygodniu ludzie najczęściej jeżdżą rowerem po to by dojechać do pracy\n",
    "- na weekendach ludzie jeżdżą rowerami bardziej rekreacyjnie a co za tym idzie w godzinach popołudniowych\n",
    "- jak jest ciepło to ludzie jeżdżą na rowerach więcej\n",
    "- jak jest pochmurno to ludzie jeżdżą na rowerach mniej\n",
    "\n",
    "Ale nie odpowiada na pytania związane z tym jak gorsza pogoda wpływa na ilość obu kategorii rowerzystów, oraz nie dokońca radzi sobie z opisywaniem tego jak zjawiska stosunkowo rzadkie takie jak deszcz czy śnieg wpływają na ruch rowerowy i przede wszystkim nie odpowiada na najważniejsze pytanie, czyli dlaczego jest taka dysproporcja pomiędzy wschodnią a zachodnią częścią mostu.\n",
    "\n"
   ]
  },
  {
   "cell_type": "code",
   "execution_count": null,
   "id": "75ea3538-ca05-4ccd-84dd-8d28eb1449c3",
   "metadata": {},
   "outputs": [],
   "source": []
  }
 ],
 "metadata": {
  "kernelspec": {
   "display_name": "Python 3 (ipykernel)",
   "language": "python",
   "name": "python3"
  },
  "language_info": {
   "codemirror_mode": {
    "name": "ipython",
    "version": 3
   },
   "file_extension": ".py",
   "mimetype": "text/x-python",
   "name": "python",
   "nbconvert_exporter": "python",
   "pygments_lexer": "ipython3",
   "version": "3.11.3"
  }
 },
 "nbformat": 4,
 "nbformat_minor": 5
}
