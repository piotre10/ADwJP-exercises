{
 "cells": [
  {
   "cell_type": "markdown",
   "id": "1f03cdc0",
   "metadata": {
    "deletable": false,
    "editable": false,
    "nbgrader": {
     "cell_type": "markdown",
     "checksum": "4d87ed846e09cbf1c8eae4e0f16bea9b",
     "grade": false,
     "grade_id": "cell-fcd2666579131b77",
     "locked": true,
     "schema_version": 3,
     "solution": false,
     "task": false
    },
    "tags": []
   },
   "source": [
    "# Analiza danych w języku Python - ćwiczenia laboratoryjne 2022/2023\n",
    "\n",
    "Ten notatnik zalicza się do grupy zestawów zadań, na podstawie których odbywa się zaliczenie ćwiczeń i podlega zwrotowi do oceny w ustalonym na zajęciach terminie.\n",
    "\n",
    "Uwagi i wytyczne ogólne dotyczące uzupełniania i oceny notatnika:\n",
    "- Podczas wykonywania zadań należy korzystać wyłącznie z pakietów zaimportowanych na początku notatnika oraz z pakietów wchodzących w skład standardowej biblioteki Pythona, które można zaimportować samodzielnie we wskazanej komórce notatnika.\n",
    "- Swoje rozwiązania należy wprowadzać wyłącznie w miejce następujących fragmentów kodu:<br/> `# YOUR CODE HERE`<br/> `raise NotImplementedError()`<br/> \n",
    "a odpowiedzi tekstowe w komórkach oznaczonych hasłem:<br/> \n",
    "`YOUR ANSWER HERE`<br/> \n",
    "Nie należy w żaden sposób modyfikować pozostałych fragmentów kodu oraz innych elementów notatnika, w szczególności dodawać lub usuwać komórek oraz zmieniać nazwy pliku.\n",
    "- Jeżeli zestaw zadań wymaga skorzystania z fragmentów kodu opracowanego w ramach wcześniejszych zestawów zadań należy je umieścić we wskazanej komórce notatnika.\n",
    "- Otrzymywane wyniki i odpowiedzi mają być rezultatem wykonania napisanego kodu, odpowiedzi uzupełniane manualnie nie podlegają ocenie.\n",
    "- Zadanie należy wykonać w taki sposób, aby podczas wykonywania kodu nie zostały wyświetlone żadne ostrzeżenia.\n",
    "- Zawarte w notatniku automatyczne testy mają charakter poglądowy. Dotyczą one wybranych aspektów zadań i mają za zadanie wyłapać podstawowe błędy. Przejście wszystkich testów nie oznacza, że zadanie jest wykonane w całości poprawnie i zostanie ocenione na maksymalną liczbę punktów.\n",
    "- Zadania, które powodują wyświetlenie komunikatu o błędzie przerywającym wykonywanie kodu nie podlegają ocenie.\n",
    "\n",
    "Uwagi i wytyczne ogólne dotyczące wizualizacji wyników:\n",
    "- Wszystkie wykresy powinny być wykonane w jednolitym, przejrzystym i czytelnym stylu, posiadać odpowiednio dobrane proporcje i zakresy wartości osi.\n",
    "- Wykresy oraz ich osie powinny mieć nadane tytuły. Jeżeli w obrębie figury znajduje się więcej niż jeden wykres to figura również powinna mieć nadany tytuł. \n",
    "- Figury powinny mieć ustawione białe tło, tak, aby niezależnie od ustawień notatnika wszystkie elementy wykresów były dobrze widoczne (domyślnie tło jest przeźroczyste co może powodować problemy w notatnikach z ustawionym ciemnym tłem).\n",
    "- Rozmiar poziomy figur nie powinien przekraczać 20 cali.\n",
    "\n",
    "Przed odesłaniem zestawu zadań do oceny proszę uzupełnić komórkę z danymi autorów rozwiązania (`NAME` - nazwa zespołu, `COLLABORATORS` - imiona, nazwiska i numery indeksów członków zespołu) oraz upewnić się, że notatnik działa zgodnie z oczekiwaniami. W tym celu należy skorzystać z opcji **Restart Kernel and Run All Cells...** dostępnej na górnej belce notatnika pod symbolem $\\blacktriangleright\\blacktriangleright$."
   ]
  },
  {
   "cell_type": "code",
   "execution_count": null,
   "id": "f7209940",
   "metadata": {},
   "outputs": [],
   "source": [
    "NAME = \"IAD28\"\n",
    "COLLABORATORS = \"Radosław Matuszczyk 405124, Piotr Łukasiewicz 406163\""
   ]
  },
  {
   "cell_type": "markdown",
   "id": "1fa9cff2",
   "metadata": {
    "deletable": false,
    "editable": false,
    "nbgrader": {
     "cell_type": "markdown",
     "checksum": "eddc8826810e4a6f7bf68319da334bd9",
     "grade": false,
     "grade_id": "cell-109006d425e5cf83",
     "locked": true,
     "schema_version": 3,
     "solution": false,
     "task": false
    },
    "tags": []
   },
   "source": [
    "---"
   ]
  },
  {
   "cell_type": "markdown",
   "id": "fe74743f-1998-4812-ac65-974bd8469d8d",
   "metadata": {
    "deletable": false,
    "editable": false,
    "nbgrader": {
     "cell_type": "markdown",
     "checksum": "bb2121d9398c589c477395f3e2cbe057",
     "grade": false,
     "grade_id": "cell-21ac76da9323c36f",
     "locked": true,
     "schema_version": 3,
     "solution": false,
     "task": false
    },
    "tags": []
   },
   "source": [
    "## Zestaw zadań 3: Elementy statystyki opisowej 3 (Notatnik 1/4)"
   ]
  },
  {
   "cell_type": "code",
   "execution_count": null,
   "id": "7f9968ab-aec5-4893-b0ad-34121d66004f",
   "metadata": {
    "deletable": false,
    "editable": false,
    "nbgrader": {
     "cell_type": "code",
     "checksum": "13fce11c9aa1c5bf83764c476647dd97",
     "grade": false,
     "grade_id": "cell-4a5af93ac80c2e34",
     "locked": true,
     "schema_version": 3,
     "solution": false,
     "task": false
    },
    "tags": []
   },
   "outputs": [],
   "source": [
    "import numpy as np\n",
    "import pandas as pd\n",
    "import scipy as sp\n",
    "import matplotlib as mpl\n",
    "import matplotlib.pyplot as plt\n",
    "import seaborn as sns\n",
    "import dataframe_image as dfi"
   ]
  },
  {
   "cell_type": "code",
   "execution_count": null,
   "id": "c444ab45-1fe7-4008-8c3c-2b1b526a1fbc",
   "metadata": {},
   "outputs": [],
   "source": [
    "# Miejsce do importu pakietów wchodzących w skład standardowej biblioteki Pythona oraz ustawienie opcji wykorzystywanych pakietów"
   ]
  },
  {
   "cell_type": "markdown",
   "id": "3e77dfbb-90cf-463e-b9a7-62e85b221474",
   "metadata": {
    "deletable": false,
    "editable": false,
    "nbgrader": {
     "cell_type": "markdown",
     "checksum": "ab1d10b19246a4564923a5d15a91cf9a",
     "grade": false,
     "grade_id": "cell-8251a8dc1dba0354",
     "locked": true,
     "schema_version": 3,
     "solution": false,
     "task": false
    },
    "tags": []
   },
   "source": [
    "### Zadanie 1: Przygotowanie danych [10 pkt]\n",
    "\n",
    "Pliki bike_traffic_raw_data.csv, 2022_01.txt, 2022_02.txt ...  2022_12.txt zawierają dane pobrane ze stron:</br>\n",
    "https://data.seattle.gov/Transportation/Fremont-Bridge-Bicycle-Counter/65db-xm6k,</br>\n",
    "https://forecast.weather.gov/product.php?site=SEW&product=CF6&issuedby=SEW."
   ]
  },
  {
   "cell_type": "markdown",
   "id": "b40ddb30-cba0-45be-8c74-e392a6f874c3",
   "metadata": {
    "deletable": false,
    "editable": false,
    "nbgrader": {
     "cell_type": "markdown",
     "checksum": "036f6e3680f1c7d083ed49513256d3de",
     "grade": false,
     "grade_id": "cell-74aa0f18c872083e",
     "locked": true,
     "schema_version": 3,
     "solution": false,
     "task": false
    },
    "tags": []
   },
   "source": [
    "#### a) Natężenie ruchu rowerowego \n",
    "\n",
    "Plik raw_bike_traffic_data.csv zawiera dane na temat ruchu rowerowego na moście Fremont Bridge w Seattle.\n",
    "\n",
    "Zaimportuj zawarte w pliku dane do notatnika i utwórz na ich podstawie tablicę `bike_traffic_data` wykonaną według następujących wytycznych:\n",
    "\n",
    "- Tablica powinna zawierać wyłącznie następujące elementy:</br>\n",
    "    > Indeks: Date</br>\n",
    "    > PeriodIndex zawierający okresy czasu, w których dokonywane były zliczenia rowerzystów.\n",
    "    \n",
    "    > Kolumny: Total, East, West</br>\n",
    "    > Kolumny zawierają liczbę rowerzystów przejeżdżających przez most w poszczególnych godzinach w sumie oraz z podziałem na zachodnią i wschodnią stronę mostu.\n",
    "- Pozostaw w tablicy wyłącznie wiersze dotyczące 2022 roku.\n",
    "\n",
    "Zapisz tablicę do pliku bike_traffic_data.pkl.\n",
    "\n",
    "Wyświetl przygotowaną tablicę w taki sposób aby widoczne było po 12 pierwszych i ostatnich wierszy, a zawarte w tablicy wartości wyświetlały się bez miejsc po przecinku."
   ]
  },
  {
   "cell_type": "code",
   "execution_count": null,
   "id": "a1a3f1e9-3392-41a0-a73d-167b235303dd",
   "metadata": {
    "deletable": false,
    "nbgrader": {
     "cell_type": "code",
     "checksum": "69701381bad47b312d4a37590f131714",
     "grade": false,
     "grade_id": "cell-aa85199b5cb633d2",
     "locked": false,
     "schema_version": 3,
     "solution": true,
     "task": false
    },
    "tags": []
   },
   "outputs": [],
   "source": [
    "bike_traffic_data = pd.read_csv('raw_bike_traffic_data.csv', index_col=0)\n",
    "bike_traffic_data.columns = ['Total', 'East', 'West'] \n",
    "bike_traffic_data.index = pd.to_datetime(bike_traffic_data.index).to_period()\n",
    "bike_traffic_data = bike_traffic_data[bike_traffic_data.index.year == 2022]\n",
    "bike_traffic_data = bike_traffic_data.convert_dtypes()\n",
    "\n",
    "bike_traffic_data.to_pickle('bike_traffic_data.pkl')\n",
    "\n",
    "pd.io.formats.style.Styler(bike_traffic_data).hide(subset=bike_traffic_data.index[12:-12])"
   ]
  },
  {
   "cell_type": "code",
   "execution_count": null,
   "id": "e39740a0-38f2-4b64-83f3-28b3c612b28c",
   "metadata": {
    "deletable": false,
    "editable": false,
    "nbgrader": {
     "cell_type": "code",
     "checksum": "46849aa3637d7997c84fb4c840f6e852",
     "grade": true,
     "grade_id": "cell-683b0a3c6c74d0c6",
     "locked": true,
     "points": 2,
     "schema_version": 3,
     "solution": false,
     "task": false
    },
    "tags": []
   },
   "outputs": [],
   "source": [
    "### Komórka testowa\n",
    "# Test 1 Kształt tablicy\n",
    "assert bike_traffic_data.shape == (8760, 3)\n",
    "# Test 2 Kolumny\n",
    "assert len(set(list(bike_traffic_data.columns)) & set(['Total', 'East', 'West'])) == 3\n",
    "# Test 3 Indeks\n",
    "assert (bike_traffic_data.index.name == 'Date') == True\n",
    "assert isinstance(bike_traffic_data.index, pd.PeriodIndex)\n",
    "assert bike_traffic_data.index.values.min() == pd.Period('2022-01-01 00:00', 'H')\n",
    "assert bike_traffic_data.index.values.max() == pd.Period('2022-12-31 23:00', 'H')\n",
    "# Test 4 Zawartość kolumn\n",
    "assert np.all(np.isclose(bike_traffic_data[['Total', 'East', 'West']].min().values, np.array([0, 0, 0]))) == True\n",
    "assert np.all(np.isclose(bike_traffic_data[['Total', 'East', 'West']].max().values, np.array([717, 464, 635]))) == True"
   ]
  },
  {
   "cell_type": "markdown",
   "id": "f24c1ec2-ae66-4ff0-b0b6-9a8c72465b1c",
   "metadata": {
    "deletable": false,
    "editable": false,
    "nbgrader": {
     "cell_type": "markdown",
     "checksum": "cd9afa31c9c2d11fac14ee4a6ff0cbc3",
     "grade": false,
     "grade_id": "cell-573405bbd6e6471e",
     "locked": true,
     "schema_version": 3,
     "solution": false,
     "task": false
    },
    "tags": []
   },
   "source": [
    "#### b) Pogoda\n",
    "\n",
    "Pliki 2022_01.txt, 2022_02.txt ...  2022_12.txt zawierają miesięczne raporty pogodowe (F6 Preliminary Local Climate Data Report) ze stacji NWS Seattle/Tacoma, WA.\n",
    "Wyjaśnienie wykorzystanych w raportach symboli i skrótów można znaleźć pod następującym linkiem: https://www.weather.gov/grr/climateF6explain.\n",
    "\n",
    "Zaimportuj zawarte w plikach dane do notatnika i utwórz na ich podstawie tablicę `weather_data` wykonaną według następujących wytycznych:\n",
    "\n",
    "- Tablica powinna zawierać wyłącznie następujące elementy:</br>\n",
    "    > Indeks: Date</br>\n",
    "    > PeriodIndex zawierający okresy czasu, których dotyczą dane z raportów pogodowych.</br>\n",
    "    \n",
    "    > Kolumny: W podanej niżej kolejności</br>\n",
    "    > Temperature: Min, Avg, Max</br>\n",
    "    > Precipitation: Total</br>\n",
    "    > Snow: Fall, Depth</br>\n",
    "    > Wind:  Avg speed, Max speed</br>\n",
    "    > Sky: Cloud cover</br>\n",
    "    > (Nazwa 1 poziomu: podległe jej nazwy 2 poziomu)\n",
    "- Zamień oznaczenia opadów śladowych na wartość 0.\n",
    "- Przelicz występujące w tablicy wartości do *C (temperatura), mm (opady), m/s (wiatr) i ułamków (zachmurzenie).\n",
    "\n",
    "Zapisz tablicę do pliku weather_data.pkl.\n",
    "\n",
    "Wyświetl przygotowaną tablicę w taki sposób aby widoczne było po 10 pierwszych i ostatnich wierszy, a zawarte w tablicy liczby wyświetlały się z dokładnością 2 miejsc po przecinku."
   ]
  },
  {
   "cell_type": "code",
   "execution_count": null,
   "id": "b6a63e4b-3065-4aab-8ae3-7859d3471bf9",
   "metadata": {
    "deletable": false,
    "nbgrader": {
     "cell_type": "code",
     "checksum": "7672db233c633d96ab05f5f5dd5e7f3b",
     "grade": false,
     "grade_id": "cell-186c2f35c4f9aca6",
     "locked": false,
     "schema_version": 3,
     "solution": true,
     "task": false
    },
    "tags": []
   },
   "outputs": [],
   "source": [
    "weather_data = pd.DataFrame()\n",
    "daysInMonths = [31, 28, 31, 30, 31, 30, 31, 31, 30, 31, 30, 31]\n",
    "for ix, daysInMonth in enumerate(daysInMonths):\n",
    "    df = pd.read_table('raw_weather_data/2022_{:02}.txt'.format(ix+1), skiprows=15, nrows=daysInMonth+1, sep='\\s+', na_values='M').drop(0)\n",
    "    weather_data = pd.concat((weather_data, df))\n",
    "\n",
    "start_date = '2022-01-01'\n",
    "end_date = '2022-12-31'\n",
    "weather_data.index = period_index = pd.period_range(start=start_date, end=end_date, freq='D')\n",
    "weather_data.index.name = 'Date'\n",
    "\n",
    "columns = ['MIN', 'AVG', 'MAX', 'WTR', 'SNW', 'DPTH', 'SPD', 'SPD.1', 'S-S']\n",
    "weather_data = weather_data[columns]\n",
    "\n",
    "levels = [('Temperature', 'Min'), ('Temperature', 'Avg'), ('Temperature', 'Max'),\n",
    "          ('Precipitation', 'Total'),\n",
    "          ('Snow', 'Fall'), ('Snow', 'Depth'),\n",
    "          ('Wind', 'Avg speed'), ('Wind', 'Max speed'),\n",
    "          ('Sky', 'Cloud cover')] \n",
    "weather_data.columns = pd.MultiIndex.from_tuples(levels)\n",
    "\n",
    "weather_data.replace('T', 0, inplace=True)\n",
    "weather_data = weather_data.astype('float')\n",
    "weather_data['Temperature'] = (weather_data['Temperature']-32)/1.8\n",
    "weather_data['Precipitation'] = weather_data['Precipitation']*25.4\n",
    "weather_data['Snow'] = weather_data['Snow']*25.4\n",
    "weather_data['Wind'] = weather_data['Wind']*0.44704\n",
    "weather_data['Sky'] = weather_data['Sky']/10\n",
    "\n",
    "weather_data.to_pickle('weather_data.pkl')\n",
    "\n",
    "pd.io.formats.style.Styler(weather_data, precision=2).hide(subset=weather_data.index[10:-10])"
   ]
  },
  {
   "cell_type": "code",
   "execution_count": null,
   "id": "c7778655-5942-4aa7-b44f-eb9bef4f0a5c",
   "metadata": {
    "deletable": false,
    "editable": false,
    "nbgrader": {
     "cell_type": "code",
     "checksum": "1d099eab90198a9210294c9187ad092e",
     "grade": true,
     "grade_id": "cell-e70d426962ca7e21",
     "locked": true,
     "points": 8,
     "schema_version": 3,
     "solution": false,
     "task": false
    },
    "tags": []
   },
   "outputs": [],
   "source": [
    "### Komórka testowa\n",
    "# Test 1 Kształt tablicy\n",
    "assert weather_data.shape == (365, 9)\n",
    "# Test 2 Kolumny\n",
    "assert len(set(list(weather_data.columns)) & set([('Temperature', 'Min'), ('Temperature', 'Avg'), ('Temperature', 'Max'), ('Precipitation', 'Total'),\n",
    "            ('Snow', 'Fall'), ('Snow', 'Depth'), ('Wind', 'Avg speed'), ('Wind', 'Max speed'), ('Sky', 'Cloud cover')])) == 9\n",
    "# Test 3 Indeks\n",
    "assert (weather_data.index.name == 'Date') == True\n",
    "assert isinstance(weather_data.index, pd.PeriodIndex) == True\n",
    "assert weather_data.index.values.min() == pd.Period('2022-01-01', 'D')\n",
    "assert weather_data.index.values.max() == pd.Period('2022-12-31', 'D')\n",
    "# Test 4 Zawartość kolumn\n",
    "assert np.all(np.isclose(weather_data.min().values, np.array([-7.77777778, -5.55555556, -3.33333333, 0., 0., 0., 0.89407778, 3.12927222, 0.]))) == True\n",
    "assert np.all(np.isclose(weather_data.max().values, np.array([20., 26.66666667, 35., 75.438, 66.04, 76.2, 8.31492333, 16.54043889, 1.]))) == True"
   ]
  }
 ],
 "metadata": {
  "kernelspec": {
   "display_name": "Python 3 (ipykernel)",
   "language": "python",
   "name": "python3"
  },
  "language_info": {
   "codemirror_mode": {
    "name": "ipython",
    "version": 3
   },
   "file_extension": ".py",
   "mimetype": "text/x-python",
   "name": "python",
   "nbconvert_exporter": "python",
   "pygments_lexer": "ipython3",
   "version": "3.10.2"
  }
 },
 "nbformat": 4,
 "nbformat_minor": 5
}
