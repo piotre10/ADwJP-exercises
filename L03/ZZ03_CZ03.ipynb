{
 "cells": [
  {
   "cell_type": "markdown",
   "id": "d5a7efb9",
   "metadata": {
    "deletable": false,
    "editable": false,
    "nbgrader": {
     "cell_type": "markdown",
     "checksum": "4d87ed846e09cbf1c8eae4e0f16bea9b",
     "grade": false,
     "grade_id": "cell-fcd2666579131b77",
     "locked": true,
     "schema_version": 3,
     "solution": false,
     "task": false
    },
    "tags": []
   },
   "source": [
    "# Analiza danych w języku Python - ćwiczenia laboratoryjne 2022/2023\n",
    "\n",
    "Ten notatnik zalicza się do grupy zestawów zadań, na podstawie których odbywa się zaliczenie ćwiczeń i podlega zwrotowi do oceny w ustalonym na zajęciach terminie.\n",
    "\n",
    "Uwagi i wytyczne ogólne dotyczące uzupełniania i oceny notatnika:\n",
    "- Podczas wykonywania zadań należy korzystać wyłącznie z pakietów zaimportowanych na początku notatnika oraz z pakietów wchodzących w skład standardowej biblioteki Pythona, które można zaimportować samodzielnie we wskazanej komórce notatnika.\n",
    "- Swoje rozwiązania należy wprowadzać wyłącznie w miejce następujących fragmentów kodu:<br/> `# YOUR CODE HERE`<br/> `raise NotImplementedError()`<br/> \n",
    "a odpowiedzi tekstowe w komórkach oznaczonych hasłem:<br/> \n",
    "`YOUR ANSWER HERE`<br/> \n",
    "Nie należy w żaden sposób modyfikować pozostałych fragmentów kodu oraz innych elementów notatnika, w szczególności dodawać lub usuwać komórek oraz zmieniać nazwy pliku.\n",
    "- Jeżeli zestaw zadań wymaga skorzystania z fragmentów kodu opracowanego w ramach wcześniejszych zestawów zadań należy je umieścić we wskazanej komórce notatnika.\n",
    "- Otrzymywane wyniki i odpowiedzi mają być rezultatem wykonania napisanego kodu, odpowiedzi uzupełniane manualnie nie podlegają ocenie.\n",
    "- Zadanie należy wykonać w taki sposób, aby podczas wykonywania kodu nie zostały wyświetlone żadne ostrzeżenia.\n",
    "- Zawarte w notatniku automatyczne testy mają charakter poglądowy. Dotyczą one wybranych aspektów zadań i mają za zadanie wyłapać podstawowe błędy. Przejście wszystkich testów nie oznacza, że zadanie jest wykonane w całości poprawnie i zostanie ocenione na maksymalną liczbę punktów.\n",
    "- Zadania, które powodują wyświetlenie komunikatu o błędzie przerywającym wykonywanie kodu nie podlegają ocenie.\n",
    "\n",
    "Uwagi i wytyczne ogólne dotyczące wizualizacji wyników:\n",
    "- Wszystkie wykresy powinny być wykonane w jednolitym, przejrzystym i czytelnym stylu, posiadać odpowiednio dobrane proporcje i zakresy wartości osi.\n",
    "- Wykresy oraz ich osie powinny mieć nadane tytuły. Jeżeli w obrębie figury znajduje się więcej niż jeden wykres to figura również powinna mieć nadany tytuł. \n",
    "- Figury powinny mieć ustawione białe tło, tak, aby niezależnie od ustawień notatnika wszystkie elementy wykresów były dobrze widoczne (domyślnie tło jest przeźroczyste co może powodować problemy w notatnikach z ustawionym ciemnym tłem).\n",
    "- Rozmiar poziomy figur nie powinien przekraczać 20 cali.\n",
    "\n",
    "Przed odesłaniem zestawu zadań do oceny proszę uzupełnić komórkę z danymi autorów rozwiązania (`NAME` - nazwa zespołu, `COLLABORATORS` - imiona, nazwiska i numery indeksów członków zespołu) oraz upewnić się, że notatnik działa zgodnie z oczekiwaniami. W tym celu należy skorzystać z opcji **Restart Kernel and Run All Cells...** dostępnej na górnej belce notatnika pod symbolem $\\blacktriangleright\\blacktriangleright$."
   ]
  },
  {
   "cell_type": "code",
   "execution_count": null,
   "id": "27eb7c1e",
   "metadata": {
    "tags": []
   },
   "outputs": [],
   "source": [
    "NAME = \"IAD28\"\n",
    "COLLABORATORS = \"Radosław Matuszczyk 405124, Piotr Łukasiewicz 406163\""
   ]
  },
  {
   "cell_type": "markdown",
   "id": "3244e4e1",
   "metadata": {
    "deletable": false,
    "editable": false,
    "nbgrader": {
     "cell_type": "markdown",
     "checksum": "eddc8826810e4a6f7bf68319da334bd9",
     "grade": false,
     "grade_id": "cell-109006d425e5cf83",
     "locked": true,
     "schema_version": 3,
     "solution": false,
     "task": false
    },
    "tags": []
   },
   "source": [
    "---"
   ]
  },
  {
   "cell_type": "markdown",
   "id": "9a7ee525-0a8e-41bb-9720-4e6340cdff83",
   "metadata": {
    "deletable": false,
    "editable": false,
    "nbgrader": {
     "cell_type": "markdown",
     "checksum": "e7efb26060b4e5fa27482a57c7393726",
     "grade": false,
     "grade_id": "cell-66bb61a51ba56557",
     "locked": true,
     "schema_version": 3,
     "solution": false,
     "task": false
    },
    "tags": []
   },
   "source": [
    "## Zestaw zadań 3: Elementy statystyki opisowej 3 (Notatnik 3/4)"
   ]
  },
  {
   "cell_type": "code",
   "execution_count": null,
   "id": "b44cd824-58cf-485b-be23-464bc8ac43a3",
   "metadata": {
    "deletable": false,
    "editable": false,
    "nbgrader": {
     "cell_type": "code",
     "checksum": "2906ac927cbdb89fa71ce2bafbbc63d5",
     "grade": false,
     "grade_id": "cell-e81a192030aea7a0",
     "locked": true,
     "schema_version": 3,
     "solution": false,
     "task": false
    },
    "tags": []
   },
   "outputs": [],
   "source": [
    "import numpy as np\n",
    "import pandas as pd\n",
    "import scipy as sp\n",
    "import matplotlib as mpl\n",
    "import matplotlib.pyplot as plt\n",
    "import seaborn as sns\n",
    "import dataframe_image as dfi"
   ]
  },
  {
   "cell_type": "code",
   "execution_count": null,
   "id": "6a879329-e778-4a4a-84b8-2109ca081f87",
   "metadata": {
    "tags": []
   },
   "outputs": [],
   "source": [
    "# Miejsce do importu pakietów wchodzących w skład standardowej biblioteki Pythona oraz ustawienie opcji wykorzystywanych pakietów"
   ]
  },
  {
   "cell_type": "markdown",
   "id": "478ecfa0-76e9-47a6-b21c-94ec75054828",
   "metadata": {
    "deletable": false,
    "editable": false,
    "nbgrader": {
     "cell_type": "markdown",
     "checksum": "889479e76ea04fa9a1798c3d613a00b1",
     "grade": false,
     "grade_id": "cell-b69108b9a424e219",
     "locked": true,
     "schema_version": 3,
     "solution": false,
     "task": false
    },
    "tags": []
   },
   "source": [
    "### Wczytanie danych\n",
    "Wczytaj dane z przygotowanych wcześniej plików daily_bike_traffic_data.pkl i  weather_data.pkl do tablic `daily_bike_traffic_data` oraz `weather_data`.\n",
    "\n",
    "Wyświetl przygotowane tablice."
   ]
  },
  {
   "cell_type": "code",
   "execution_count": null,
   "id": "96339ba5-29dd-4dcc-b6c1-712037442af2",
   "metadata": {
    "deletable": false,
    "nbgrader": {
     "cell_type": "code",
     "checksum": "cf2c9fb2739462f1e527b68adbc6cb7d",
     "grade": true,
     "grade_id": "cell-544ce9dee6fc7f1d",
     "locked": false,
     "points": 0,
     "schema_version": 3,
     "solution": true,
     "task": false
    },
    "tags": []
   },
   "outputs": [],
   "source": [
    "# Ruch rowerowy\n",
    "bike_traffic_data = pd.read_pickle('bike_traffic_data.pkl')\n",
    "bike_traffic_data"
   ]
  },
  {
   "cell_type": "code",
   "execution_count": null,
   "id": "68419def-d498-4bd8-af56-5d23132e63c4",
   "metadata": {
    "deletable": false,
    "nbgrader": {
     "cell_type": "code",
     "checksum": "5731fdf4192ca127996435b02a1be9bb",
     "grade": true,
     "grade_id": "cell-9786e9ae8383ab30",
     "locked": false,
     "points": 0,
     "schema_version": 3,
     "solution": true,
     "task": false
    },
    "tags": []
   },
   "outputs": [],
   "source": [
    "# Pogoda\n",
    "weather_data = pd.read_pickle('weather_data.pkl')\n",
    "weather_data_cols = weather_data.columns\n",
    "weather_data"
   ]
  },
  {
   "cell_type": "markdown",
   "id": "55b9489f-7dcd-4892-b5cb-ad657811b6ba",
   "metadata": {
    "deletable": false,
    "editable": false,
    "nbgrader": {
     "cell_type": "markdown",
     "checksum": "952b756c2c6f12b2acd1a277728e6e12",
     "grade": false,
     "grade_id": "cell-a5b2c52e6089193b",
     "locked": true,
     "schema_version": 3,
     "solution": false,
     "task": false
    },
    "tags": []
   },
   "source": [
    "### Zadnie 4: Analiza korelacji [10 pkt]"
   ]
  },
  {
   "cell_type": "markdown",
   "id": "453a4039-4d8a-44eb-9519-40f1d85ec102",
   "metadata": {
    "deletable": false,
    "editable": false,
    "nbgrader": {
     "cell_type": "markdown",
     "checksum": "ddc68f6267c9815aad1b4572d2646dbd",
     "grade": false,
     "grade_id": "cell-ece67d6bbf9563db",
     "locked": true,
     "schema_version": 3,
     "solution": false,
     "task": false
    },
    "tags": []
   },
   "source": [
    "#### a) Korelacje liniowe pomiędzy parametrami pogody a liczbą rowerzystów\n",
    "\n",
    "Przygotuj tablicę zawierającą wartości współczynników korelacji liniowej Pearsona `R_corr_1` oraz tablicę wyliczonych na ich podstawie współczynników determinacji liniowej `R2_corr_1` pomiędzy wartościami parametrów pogody, a liczbą rowerzystów przejeżdżających przez most danego dnia.\n",
    "\n",
    "Tablice powinna zawierać wyłącznie następujące elementy:</br>\n",
    "> Indeks: zestaw indeksów identycznych z nazwami kolumn tablicy `weather_data` </br>\n",
    "\n",
    "> Kolumny: zestaw indeksów identycznych z nazwami kolumn tablicy `daily_bike_traffic_data`</br>\n",
    "    \n",
    "Wyświetl przygotowane tablice w taki sposób aby zawarte w nich wartości wyświetlały się z dokładnością 3 miejsc po przecinku.\n",
    "\n",
    "Następnie przedstaw dane zawarte w tablicach w postaci wykresów heatmap. Zestaw wykresy na pojedynczej figurze (siatka wykresów 1x2). Przygotuj figurę zgodnie z wytycznymi z nagłówka notatnika. Dodatkowo:\n",
    "- ustaw różną od domyślnej skalę kolorów wykresów,\n",
    "- do każdego z wykresów dołącz pasek kolorów,\n",
    "- skale kolorów oraz paski kolorów powinny mieć zakresy wartości docięte do teoretycznego zakresu wartości jakie może osiągać wizualizowany na wykresie parametr,\n",
    "- ustaw parametry wykresu tak, aby wartości współczynników wyświetlały się z dokładnością 3 miejsc po przecinku."
   ]
  },
  {
   "cell_type": "code",
   "execution_count": null,
   "id": "056d966c-7381-4a81-b9f3-6145141405f2",
   "metadata": {
    "deletable": false,
    "nbgrader": {
     "cell_type": "code",
     "checksum": "22304156a179b375acf0a5b6feeef8b6",
     "grade": false,
     "grade_id": "cell-3888c2f514489dbf",
     "locked": false,
     "schema_version": 3,
     "solution": true,
     "task": false
    },
    "tags": []
   },
   "outputs": [],
   "source": [
    "# Tabela R\n",
    "daily_bike_traffic_data = bike_traffic_data.resample('D').sum()\n",
    "weather_data.columns = ['-'.join(col) for col in weather_data.columns.values]\n",
    "merged = weather_data.merge(daily_bike_traffic_data, left_index=True, right_index=True)\n",
    "R_corr_1 = merged.corr()\n",
    "R_corr_1.drop(index=['Total', 'East', 'West'], inplace=True)\n",
    "R_corr_1 = R_corr_1[['Total', 'East', 'West']]\n",
    "R_corr_1.index = weather_data_cols\n",
    "R_corr_1"
   ]
  },
  {
   "cell_type": "code",
   "execution_count": null,
   "id": "7507a58f-901e-454d-bb75-fd5d2e584a28",
   "metadata": {
    "deletable": false,
    "nbgrader": {
     "cell_type": "code",
     "checksum": "8e768b58b6242d96aaf1312c04103aaf",
     "grade": false,
     "grade_id": "cell-a5fdd0501bbbcde9",
     "locked": false,
     "schema_version": 3,
     "solution": true,
     "task": false
    },
    "tags": []
   },
   "outputs": [],
   "source": [
    "# Tabela R^2\n",
    "R2_corr_1 = R_corr_1**2\n",
    "R2_corr_1"
   ]
  },
  {
   "cell_type": "code",
   "execution_count": null,
   "id": "b2556bb4-b4a6-4d2b-9d02-b75c03e98673",
   "metadata": {
    "deletable": false,
    "editable": false,
    "nbgrader": {
     "cell_type": "code",
     "checksum": "f2776452174cc12d112db476293227ba",
     "grade": true,
     "grade_id": "cell-d2e72c72ef26da0f",
     "locked": true,
     "points": 3,
     "schema_version": 3,
     "solution": false,
     "task": false
    },
    "tags": []
   },
   "outputs": [],
   "source": [
    "### Komórka testowa\n",
    "\n",
    "# Testy wybranych wartości z tablicy R\n",
    "assert np.isclose(R_corr_1.loc[(\"Temperature\", \"Min\"), \"Total\"], 0.7016549936827619)\n",
    "assert np.isclose(R_corr_1.loc[('Snow', 'Fall'), \"East\"], -0.1513545851889312)\n",
    "assert np.isclose(R_corr_1.loc[('Wind', 'Max speed'), \"West\"], -0.3394814202230162)\n",
    "\n",
    "# Testy wybranych wartości z tablicy R^2\n",
    "assert np.isclose(R2_corr_1.loc[(\"Temperature\", \"Avg\"), \"Total\"], 0.5941735252448272)\n",
    "assert np.isclose(R2_corr_1.loc[(\"Precipitation\", \"Total\"), \"East\"], 0.21602605629121266)\n",
    "assert np.isclose(R2_corr_1.loc[(\"Sky\", \"Cloud cover\"), \"West\"], 0.3012666920823503)"
   ]
  },
  {
   "cell_type": "code",
   "execution_count": null,
   "id": "e6a5d605-f6a2-485e-99f2-2430bf083b21",
   "metadata": {
    "deletable": false,
    "nbgrader": {
     "cell_type": "code",
     "checksum": "19a87113f9fda7a3cdd3a9cd8c8692b9",
     "grade": true,
     "grade_id": "cell-adae11ff3542b6c7",
     "locked": false,
     "points": 3,
     "schema_version": 3,
     "solution": true,
     "task": false
    },
    "tags": []
   },
   "outputs": [],
   "source": [
    "# Wykresy\n",
    "# YOUR CODE HERE\n",
    "fig, (ax1, ax2) = plt.subplots(1, 2, figsize=[15,6])\n",
    "sns.heatmap(data=R_corr_1, ax=ax1, annot=True, fmt='.3f', cmap=\"mako\", vmin=-1, vmax=1)\n",
    "ax1.set_title('Współczynnik korelacji Pearsona')\n",
    "ax1.set_xlabel('Liczba rowerzystów')\n",
    "ax1.set_ylabel('Wskaźniki pogodowe')\n",
    "sns.heatmap(data=R2_corr_1, ax=ax2, annot=True, fmt='.3f', cmap=\"magma\", vmin=0, vmax=1)\n",
    "ax2.set_title('Współczynnik determinacji liniowej')\n",
    "ax2.set_xlabel('Liczba rowerzystów')\n",
    "ax2.set_ylabel('Wskaźniki pogodowe')\n",
    "fig.suptitle('Związek pomiędzy pogodą a liczbą rowerzystów przejeżdżających most')\n",
    "fig.tight_layout()\n",
    "fig.savefig('correlations.png')"
   ]
  },
  {
   "cell_type": "markdown",
   "id": "c50b9544-0e5c-48f6-a4f5-322cc9262db2",
   "metadata": {
    "deletable": false,
    "editable": false,
    "nbgrader": {
     "cell_type": "markdown",
     "checksum": "10fb45d1e2dec3a8b32074c9b7df0df2",
     "grade": false,
     "grade_id": "cell-091770619428cf4f",
     "locked": true,
     "schema_version": 3,
     "solution": false,
     "task": false
    },
    "tags": []
   },
   "source": [
    "#### b) Korelacje liniowe między parametrami pogody\n",
    "\n",
    "Przygotuj tablicę zawierającą wartości współczynników korelacji liniowej Pearsona `R_corr_2` oraz tablicę wyliczonych na ich podstawie współczynników determinacji liniowej `R2_corr_2` pomiędzy wartościami parametrów pogody.\n",
    "\n",
    "- Tablice powinna zawierać wyłącznie następujące elementy:</br>\n",
    "    > Indeks: Zestaw indeksów identycznych z nazwami kolumn tablicy `weather_data`</br>\n",
    "    \n",
    "    > Kolumny: Zestaw indeksów identycznych z nazwami kolumn tablicy `weather_data`</br>\n",
    "    \n",
    "Wyświetl przygotowane tablice w taki sposób aby zawarte w nich wartości wyświetlały się z dokładnością 3 miejsc po przecinku.\n",
    "\n",
    "Następnie przedstaw dane zawarte w tablicach w postaci wykresów heatmap. Zestaw wykresy na pojedynczej figurze (siatka wykresów 1x2). Przygotuj figurę zgodnie z wytycznymi z nagłówka notatnika. Dodatkowo:\n",
    "- ustaw różną od domyślnej skalę kolorów wykresów,\n",
    "- do każdego z wykresów dołącz pasek kolorów,\n",
    "- skale kolorów oraz paski kolorów powinny mieć zakresy wartości docięte do teoretycznego zakresu wartości jakie może osiągać wizualizowany na wykresie parametr,\n",
    "- ustaw parametry wykresu tak, aby wartości współczynników wyświetlały się z dokładnością 3 miejsc po przecinku."
   ]
  },
  {
   "cell_type": "code",
   "execution_count": null,
   "id": "285178cf-2e2b-41eb-9741-eaa7ac4fa2c0",
   "metadata": {
    "deletable": false,
    "nbgrader": {
     "cell_type": "code",
     "checksum": "8d973f95383c8fb5b80c86286a737d9a",
     "grade": false,
     "grade_id": "cell-0cc651ac4ff31da0",
     "locked": false,
     "schema_version": 3,
     "solution": true,
     "task": false
    },
    "tags": []
   },
   "outputs": [],
   "source": [
    "# Tablica R\n",
    "daily_bike_traffic_data = bike_traffic_data.resample('D').sum()\n",
    "R_corr_2 = weather_data.corr()\n",
    "R_corr_2.index = R_corr_2.columns = weather_data_cols\n",
    "R_corr_2"
   ]
  },
  {
   "cell_type": "code",
   "execution_count": null,
   "id": "055cba90-b813-4154-a074-b392a9de1037",
   "metadata": {
    "deletable": false,
    "nbgrader": {
     "cell_type": "code",
     "checksum": "ba1dcb2ba4816a4e478dece8f4475579",
     "grade": false,
     "grade_id": "cell-d9b0f6fb3ab8ecd4",
     "locked": false,
     "schema_version": 3,
     "solution": true,
     "task": false
    },
    "tags": []
   },
   "outputs": [],
   "source": [
    "# Tablica R^2\n",
    "# YOUR CODE HERE\n",
    "R2_corr_2 = R_corr_2**2\n",
    "R2_corr_2"
   ]
  },
  {
   "cell_type": "code",
   "execution_count": null,
   "id": "0ad74dee-e854-4d53-acbc-ae282a90660d",
   "metadata": {
    "deletable": false,
    "editable": false,
    "nbgrader": {
     "cell_type": "code",
     "checksum": "300658957a0957d5e791acb3477dcb66",
     "grade": true,
     "grade_id": "cell-4f5b38477af4d4b3",
     "locked": true,
     "points": 1,
     "schema_version": 3,
     "solution": false,
     "task": false
    },
    "tags": []
   },
   "outputs": [],
   "source": [
    "### Komórka testowa\n",
    "\n",
    "# Testy wybranych wartości z tablicy R\n",
    "assert np.isclose(R_corr_2.loc[(\"Temperature\", \"Avg\"), ('Snow', 'Fall')], -0.15332754676249075)\n",
    "assert np.isclose(R_corr_2.loc[(\"Precipitation\", \"Total\"), (\"Wind\", \"Max speed\")], 0.27117268223209673)\n",
    "assert np.isclose(R_corr_2.loc[(\"Sky\", \"Cloud cover\"), (\"Temperature\", \"Max\")], -0.6248338895216168)\n",
    "\n",
    "# Testy wybranych wartości z tablicy R^2\n",
    "assert np.isclose(R2_corr_2.loc[(\"Snow\", \"Depth\"), (\"Wind\", \"Max speed\")], 0.004732081693920376)\n",
    "assert np.isclose(R2_corr_2.loc[(\"Temperature\", \"Min\"), (\"Temperature\", \"Avg\")], 0.9373738975008452)\n",
    "assert np.isclose(R2_corr_2.loc[(\"Precipitation\", \"Total\"), (\"Sky\", \"Cloud cover\")], 0.12532191894477251)"
   ]
  },
  {
   "cell_type": "code",
   "execution_count": null,
   "id": "119a73bd-7e35-4f52-840b-4fb4232f1276",
   "metadata": {
    "deletable": false,
    "nbgrader": {
     "cell_type": "code",
     "checksum": "92ce6f063eb7a8b7e5313d48166ab890",
     "grade": true,
     "grade_id": "cell-58da74d00180dfb3",
     "locked": false,
     "points": 3,
     "schema_version": 3,
     "solution": true,
     "task": false
    },
    "tags": []
   },
   "outputs": [],
   "source": [
    "# Wykresy\n",
    "fig, (ax1, ax2) = plt.subplots(1, 2, figsize=[15,6])\n",
    "sns.heatmap(data=R_corr_2, ax=ax1, annot=True, fmt='.3f', cmap=\"mako\", vmin=-1, vmax=1)\n",
    "ax1.set_title('Współczynnik korelacji Pearsona')\n",
    "ax1.set_xlabel('Wskaźniki pogodowe')\n",
    "ax1.set_ylabel('Wskaźniki pogodowe')\n",
    "sns.heatmap(data=R2_corr_2, ax=ax2, annot=True, fmt='.3f', cmap=\"magma\", vmin=0, vmax=1)\n",
    "ax2.set_title('Współczynnik determinacji liniowej')\n",
    "ax2.set_xlabel('Wskaźniki pogodowe')\n",
    "ax2.set_ylabel('Wskaźniki pogodowe')\n",
    "fig.suptitle('Związki pomiędzy poszczególnymi wskaźnikami pogodowymi')\n",
    "fig.tight_layout()"
   ]
  },
  {
   "cell_type": "markdown",
   "id": "e73d7da7-a92a-44e6-a693-4bf06fafa09f",
   "metadata": {
    "deletable": false,
    "editable": false,
    "nbgrader": {
     "cell_type": "markdown",
     "checksum": "d5ab1db9f0b2048d7e2b35c2f2f454f5",
     "grade": false,
     "grade_id": "cell-24fc3bab1f3b3e91",
     "locked": true,
     "schema_version": 3,
     "solution": false,
     "task": false
    },
    "tags": []
   },
   "source": [
    "### Zadnie 5: Analiza regresji [25 pkt]"
   ]
  },
  {
   "cell_type": "markdown",
   "id": "7cf1a0f7-5cf5-4459-a4ec-ff289f570320",
   "metadata": {
    "deletable": false,
    "editable": false,
    "nbgrader": {
     "cell_type": "markdown",
     "checksum": "543b82ebde698bed38a4d617c44f091d",
     "grade": false,
     "grade_id": "cell-6feb87812e7563df",
     "locked": true,
     "schema_version": 3,
     "solution": false,
     "task": false
    },
    "tags": []
   },
   "source": [
    "#### a) Regresja liniowa\n",
    "\n",
    "Korzystając z funkcji `scipy.stats.linregress()` przygotuj tablicę `regression_data_1` zawierającą wartości współczynników równania regresji liniowej pomiędzy wartościami parametrów pogody (zmienna niezależna, objaśniająca), a liczbą rowerzystów przejeżdżających przez most danego dnia (zmienna zależna, objaśniana).\n",
    "\n",
    "- Tablica powinna zawierać wyłącznie następujące elementy:</br>\n",
    "    > Indeks: Zestaw indeksów identycznych z nazwami kolumn tablicy weather_data</br>\n",
    "    \n",
    "    > Kolumny:</br>\n",
    "    > 1 rzędu: Total, East, West</br>\n",
    "    > 2 rzędu: a, b (ten sam zestaw kolumn dla każdego indeksu 1 rzędu)</br>\n",
    "    \n",
    "Wyświetl przygotowaną tablicę w taki sposób aby zawarte w tablicy wartości wyświetlały się z dokładnością 3 miejsc po przecinku.\n",
    "\n",
    "Następnie przedstaw wyniki analizy w postaci wykresów korelacyjnych poszczególnych parametrów pogody z całkowitą liczbą rowerzystów przejeżdżających przes most danego dnia z nałożonymi na nie prostymi regresji. Zestaw wykresy na pojedynczej figurze (siatka wykresów 3x3). Przygotuj figurę zgodnie z wytycznymi z nagłówka notatnika. Dodatkowo:\n",
    "- ustaw różne od domyślnych i od siebie nawzajem kolory widocznych na wykresach punktów i linii,\n",
    "- w tytule lub legendzie każdego z wykresów załącz równania regresji sformatowane tak, aby parametry równania były wyświetlone z dokładnością 3 miejsc po przecinku,\n",
    "- w przypadku zastosowania legend należy je umiejscowić tak, aby znajdowały się w obrębie pól wykresów, ale nie zasłaniały znajdujących się na nich danych."
   ]
  },
  {
   "cell_type": "code",
   "execution_count": null,
   "id": "c3ec0ad7-989b-419a-9510-558300ec3d37",
   "metadata": {
    "deletable": false,
    "nbgrader": {
     "cell_type": "code",
     "checksum": "52ce86ca8522a67f0717de3627e0be89",
     "grade": false,
     "grade_id": "cell-8526fb1527f05850",
     "locked": false,
     "schema_version": 3,
     "solution": true,
     "task": false
    },
    "tags": []
   },
   "outputs": [],
   "source": [
    "# Tabela\n",
    "# YOUR CODE HERE\n",
    "weather_data.columns = weather_data_cols\n",
    "regression_data_1 = pd.DataFrame(index=weather_data.columns, columns=pd.MultiIndex.from_product([bike_traffic_data.columns, ['a', 'b']]))\n",
    "\n",
    "for w_col in weather_data.columns:\n",
    "    for b_col in daily_bike_traffic_data:\n",
    "        df = pd.DataFrame()\n",
    "        df['x'] = weather_data[w_col]\n",
    "        df['y'] = daily_bike_traffic_data[b_col]\n",
    "        df.dropna(inplace=True)\n",
    "        res = sp.stats.linregress(df['x'].to_numpy().astype('float'), df['y'].to_numpy().astype('float'))\n",
    "        regression_data_1.loc[w_col][b_col, 'a'] = res.slope\n",
    "        regression_data_1.loc[w_col][b_col, 'b'] = res.intercept\n",
    "\n",
    "regression_data_1"
   ]
  },
  {
   "cell_type": "code",
   "execution_count": null,
   "id": "1fba4548-c16c-4efb-8e58-3ed292bd2fb1",
   "metadata": {
    "deletable": false,
    "editable": false,
    "nbgrader": {
     "cell_type": "code",
     "checksum": "1ca5549a846ee7f35657d9e30a602f73",
     "grade": true,
     "grade_id": "cell-23f05a6138c32783",
     "locked": true,
     "points": 8,
     "schema_version": 3,
     "solution": false,
     "task": false
    },
    "tags": []
   },
   "outputs": [],
   "source": [
    "### Komórka testowa\n",
    "\n",
    "# Testy wybranych wartości z tablicy regression_data_1\n",
    "assert np.isclose(regression_data_1.loc[(\"Temperature\", \"Avg\"), ('Total', 'a')], 118.37455627981312)\n",
    "assert np.isclose(regression_data_1.loc[(\"Snow\", \"Depth\"), ('Total', 'b')], 2219.810729613734)\n",
    "assert np.isclose(regression_data_1.loc[(\"Wind\", \"Avg speed\"), ('East', 'a')], -74.72308463717329)\n",
    "assert np.isclose(regression_data_1.loc[(\"Precipitation\", \"Total\"), ('East', 'b')], 956.7960528263079)\n",
    "assert np.isclose(regression_data_1.loc[(\"Temperature\", \"Min\"), ('West', 'a')], 77.54619929276554)\n",
    "assert np.isclose(regression_data_1.loc[(\"Wind\", \"Max speed\"), ('West', 'b')], 1970.6955983993344)"
   ]
  },
  {
   "cell_type": "code",
   "execution_count": null,
   "id": "771dd150-b99e-409d-ae9c-98b8e01ff0dd",
   "metadata": {
    "deletable": false,
    "nbgrader": {
     "cell_type": "code",
     "checksum": "ad52155f21a9b0777b4732a35c6c97e4",
     "grade": true,
     "grade_id": "cell-e5c4780ad5b9aafd",
     "locked": false,
     "points": 6,
     "schema_version": 3,
     "solution": true,
     "task": false
    },
    "tags": []
   },
   "outputs": [],
   "source": [
    "# Wykresy\n",
    "\n",
    "fig, ax = plt.subplots(3,3, figsize=[20, 9])\n",
    "\n",
    "def plot_corr(weather_col, ax):\n",
    "    sns.scatterplot(x=weather_data[weather_col], y=daily_bike_traffic_data['Total'], ax=ax, s=6, c='royalblue')\n",
    "    x_range = np.linspace(weather_data[weather_col].min(), weather_data[weather_col].max(), 100)\n",
    "    a = regression_data_1.loc[weather_col]['Total', 'a']\n",
    "    b = regression_data_1.loc[weather_col]['Total', 'b']\n",
    "    sns.lineplot(x=x_range, y = a*x_range + b, ax=ax, c='red')\n",
    "    ax.set_title(f'{\"-\".join(weather_col)}\\nProsta dopasowania: y={a :.3f}*x + {b :.3f}')\n",
    "    ax.set_xlabel(\"-\".join(weather_col))\n",
    "    ax.set_ylabel('Liczba rowerzystów')\n",
    "    ax.legend(['data points', 'best fit line'], loc='best')\n",
    "    \n",
    "                 \n",
    "plot_corr(('Temperature', 'Min'), ax[0,0])\n",
    "plot_corr(('Temperature', 'Avg'), ax[0,1])\n",
    "plot_corr(('Temperature', 'Max'), ax[0,2])\n",
    "plot_corr(('Precipitation', 'Total'), ax[1,0])\n",
    "plot_corr(('Snow', 'Fall'), ax[1,1])\n",
    "plot_corr(('Snow', 'Depth'), ax[1,2])\n",
    "plot_corr(('Wind', 'Avg speed'), ax[2,0])\n",
    "plot_corr(('Wind', 'Max speed'), ax[2,1])\n",
    "plot_corr(('Sky', 'Cloud cover'), ax[2,2])\n",
    "\n",
    "fig.suptitle('Wykresy korelacyjne pomiędzy poszczególnymi wskaźnikami pogodowymi a liczbą rowerzystów w danym dniu')\n",
    "fig.tight_layout()\n",
    "plt.show(fig)\n",
    "fig.savefig('corr_plots.png')"
   ]
  },
  {
   "cell_type": "markdown",
   "id": "1297c155-7807-4fb4-8322-e6ac1538433d",
   "metadata": {
    "deletable": false,
    "editable": false,
    "nbgrader": {
     "cell_type": "markdown",
     "checksum": "ce5db322ce215dfd726b72dd1e6e4383",
     "grade": false,
     "grade_id": "cell-e4cbeb0dc15ef3ab",
     "locked": true,
     "schema_version": 3,
     "solution": false,
     "task": false
    },
    "tags": []
   },
   "source": [
    "#### b) Regresja krzywoliniowa\n",
    "\n",
    "Pobieżna analiza wykresów przygotowanych we wcześniejszym podpunkcie pokazuje, że w kilku przypadkach relacje między zmiennymi są bardziej skomplikowane i prosta regresja liniowa nie jest dobrym przybliżeniem obserwowanego trendu.\n",
    "\n",
    "Korzystając z funkcji `scipy.optimize.curve_fit()` przygotuj tablicę `regression_data_2` zawierającą współczynniki równań regresji między zachmurzeniem, a liczbą rowerzystów przejeżdżających przez most danego dnia oraz między dziennymi opadami, a liczbą rowerzystów przejeżdżających przez most danego dnia. W obu przypadkach skorzystaj z następującego równania regresji:\n",
    "$$ y = a e^{-bx} + c$$ \n",
    "gdzie: a, b, c - współczynniki równania dobierane metodą najmniejszych kwadratów.\n",
    "\n",
    "W przypadku regresji między dziennymi opadami, a liczbą rowerzystów przejeżdżających przez most danego dnia ustaw parametry funkcji w taki sposób, aby wartość współczynnika c zawierała się w przedziale 90% - 110% wartości średniej liczby rowerzystów z 10 dni w roku z największą ilością opadów.\n",
    "\n",
    "- Tablice powinna zawierać wyłącznie następujące elementy:</br>\n",
    "    > Indeks: </br>\n",
    "    > 1 rzędu: Sky, Precipitation</br>\n",
    "    > 2 rzędu: Cloud cover, Total (sparowane pojedynczo z odpowiadającymi im indeksami 1 rzędu tak jak w nazwach kolumn tablicy `weather_data`)</br>    \n",
    "    \n",
    "    > Kolumny:</br>\n",
    "    > 1 rzędu: Total, East, West</br>\n",
    "    > 2 rzędu: a, b, c (ten sam zestaw kolumn dla każdego indeksu 1 rzędu)</br>\n",
    "    \n",
    "Wyświetl przygotowaną tablicę w taki sposób aby zawarte w tablicy liczby wyświetlały się z dokładnością 3 miejsc po przecinku.\n",
    "\n",
    "Następnie przedstaw wyniki analizy w postaci wykresów korelacyjnych poszczególnych parametrów pogody z całkowitą liczbą rowerzystów przejeżdżających przes most danego dnia z nałożonymi na nie krzywymi regresji. Zestaw wykresy na pojedynczej figurze (siatka wykresów 1x2). Przygotuj figurę zgodnie z wytycznymi z nagłówka notatnika. Dodatkowo:\n",
    "- ustaw różne od domyślnych i od siebie nawzajem kolory widocznych na wykresach punktów i linii,\n",
    "- w tytule lub legendzie każdego z wykresów załącz równania regresji sformatowane tak, aby parametry równania były wyświetlone z dokładnością 3 miejsc po przecinku,\n",
    "- w przypadku zastosowania legend należy je umiejscowić tak, aby znajdowały się w obrębie pól wykresów, ale nie zasłaniały znajdujących się na nich danych."
   ]
  },
  {
   "cell_type": "code",
   "execution_count": null,
   "id": "1c54096e-4a8f-444d-8a8c-bd6064069c2e",
   "metadata": {
    "deletable": false,
    "nbgrader": {
     "cell_type": "code",
     "checksum": "36c74e35b5e65b3c15f0034eeb46f6d1",
     "grade": false,
     "grade_id": "cell-a8cc8ff7c6204af0",
     "locked": false,
     "schema_version": 3,
     "solution": true,
     "task": false
    },
    "tags": []
   },
   "outputs": [],
   "source": [
    "# Obliczenia i tablica\n",
    "# YOUR CODE HERE\n",
    "def func(x, a, b, c):\n",
    "    return a * np.exp(-b * x) + c\n",
    "\n",
    "regression_data_2 = pd.DataFrame(index=pd.MultiIndex.from_arrays([('Sky', 'Precipitation'), ('Cloud cover', 'Total')]), columns=pd.MultiIndex.from_product([bike_traffic_data.columns, ['a', 'b', 'c']]))\n",
    "\n",
    "for w_col in regression_data_2.index:\n",
    "    for b_col in daily_bike_traffic_data:\n",
    "        df = pd.DataFrame()\n",
    "        df['x'] = weather_data[w_col]\n",
    "        df['y'] = daily_bike_traffic_data[b_col]\n",
    "        df.dropna(inplace=True)\n",
    "        if w_col[0] == 'Precipitation':\n",
    "            a = df['x'].to_numpy()\n",
    "            ind = np.argpartition(a, -10)[-10:]\n",
    "            b = df['y'].to_numpy()\n",
    "            m = b[ind].mean()\n",
    "            params, cov = sp.optimize.curve_fit(func, df['x'].to_numpy().astype('float64'), df['y'].to_numpy().astype('float64'), \n",
    "                                               bounds=((-np.inf, -np.inf, 0.9*m) ,(np.inf, np.inf, 1.1*m)))\n",
    "        else:\n",
    "            params, cov = sp.optimize.curve_fit(func, df['x'].to_numpy().astype('float64'), df['y'].to_numpy().astype('float64'))\n",
    "        \n",
    "        regression_data_2.loc[w_col][b_col, 'a'] = params[0]\n",
    "        regression_data_2.loc[w_col][b_col, 'b'] = params[1]\n",
    "        regression_data_2.loc[w_col][b_col, 'c'] = params[2]\n",
    "\n",
    "regression_data_2"
   ]
  },
  {
   "cell_type": "code",
   "execution_count": null,
   "id": "2cbacb2f-c8c4-4023-8aed-5514f269c449",
   "metadata": {
    "deletable": false,
    "editable": false,
    "nbgrader": {
     "cell_type": "code",
     "checksum": "76eb60fe1e1e60943ff800e036a03bfe",
     "grade": true,
     "grade_id": "cell-2656942b90144b61",
     "locked": true,
     "points": 8,
     "schema_version": 3,
     "solution": false,
     "task": false
    },
    "tags": []
   },
   "outputs": [],
   "source": [
    "### Komórka testowa\n",
    "\n",
    "# Testy wybranych wartości z tablicy regression_data_2\n",
    "assert np.isclose(regression_data_2.loc[(\"Precipitation\", \"Total\"), ('Total', 'a')], 1897.3445607675376)\n",
    "assert np.isclose(regression_data_2.loc[((\"Sky\", \"Cloud cover\")), ('East', 'b')], -3.5974646434134456)\n",
    "assert np.isclose(regression_data_2.loc[(\"Precipitation\", \"Total\"), ('Total', 'c')], 697.29)"
   ]
  },
  {
   "cell_type": "code",
   "execution_count": null,
   "id": "c99f5a8b-3335-4c21-8554-adf254112736",
   "metadata": {
    "deletable": false,
    "nbgrader": {
     "cell_type": "code",
     "checksum": "b87ae1445b6a252e8c3213a4c9d1cc48",
     "grade": true,
     "grade_id": "cell-2912e7f077f442bd",
     "locked": false,
     "points": 3,
     "schema_version": 3,
     "solution": true,
     "task": false
    },
    "tags": []
   },
   "outputs": [],
   "source": [
    "# Wykres\n",
    "# Wykresy\n",
    "\n",
    "fig, (ax1, ax2) = plt.subplots(1,2, figsize=[12, 7])\n",
    "\n",
    "def plot_corr(weather_col, ax):\n",
    "    sns.scatterplot(x=weather_data[weather_col], y=daily_bike_traffic_data['Total'], ax=ax, s=6, c='royalblue')\n",
    "    x_range = np.linspace(weather_data[weather_col].min(), weather_data[weather_col].max(), 100)\n",
    "    a = regression_data_2.loc[weather_col]['Total', 'a']\n",
    "    b = regression_data_2.loc[weather_col]['Total', 'b']\n",
    "    c = regression_data_2.loc[weather_col]['Total', 'c']\n",
    "    sns.lineplot(x=x_range, y = func(x_range, a, b, c), ax=ax, c='red')\n",
    "    ax.set_title(f'{\"-\".join(weather_col)}\\nKrzywa dopasowania: y={a :.3f}*exp({-b :.3f}*x) + {c :.3f}')\n",
    "    ax.set_xlabel(\"-\".join(weather_col))\n",
    "    ax.set_ylabel('Liczba rowerzystów')\n",
    "    ax.legend(['data points', 'best fit line'], loc='best')\n",
    "    \n",
    "                 \n",
    "plot_corr(('Precipitation', 'Total'), ax1)\n",
    "plot_corr(('Sky', 'Cloud cover'), ax2)\n",
    "\n",
    "fig.suptitle('Wykresy zależności pomiędzy poszczególnymi wskaźnikami pogodowymi a liczbą rowerzystów w danym dniu')\n",
    "fig.tight_layout()\n",
    "plt.show(fig)"
   ]
  }
 ],
 "metadata": {
  "kernelspec": {
   "display_name": "Python 3 (ipykernel)",
   "language": "python",
   "name": "python3"
  },
  "language_info": {
   "codemirror_mode": {
    "name": "ipython",
    "version": 3
   },
   "file_extension": ".py",
   "mimetype": "text/x-python",
   "name": "python",
   "nbconvert_exporter": "python",
   "pygments_lexer": "ipython3",
   "version": "3.11.3"
  }
 },
 "nbformat": 4,
 "nbformat_minor": 5
}
