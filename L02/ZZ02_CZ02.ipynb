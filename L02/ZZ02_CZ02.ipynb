{
 "cells": [
  {
   "cell_type": "markdown",
   "id": "07ac9a4d",
   "metadata": {
    "deletable": false,
    "editable": false,
    "nbgrader": {
     "cell_type": "markdown",
     "checksum": "4d87ed846e09cbf1c8eae4e0f16bea9b",
     "grade": false,
     "grade_id": "cell-fcd2666579131b77",
     "locked": true,
     "schema_version": 3,
     "solution": false,
     "task": false
    },
    "tags": []
   },
   "source": [
    "# Analiza danych w języku Python - ćwiczenia laboratoryjne 2022/2023\n",
    "\n",
    "Ten notatnik zalicza się do grupy zestawów zadań, na podstawie których odbywa się zaliczenie ćwiczeń i podlega zwrotowi do oceny w ustalonym na zajęciach terminie.\n",
    "\n",
    "Uwagi i wytyczne ogólne dotyczące uzupełniania i oceny notatnika:\n",
    "- Podczas wykonywania zadań należy korzystać wyłącznie z pakietów zaimportowanych na początku notatnika oraz z pakietów wchodzących w skład standardowej biblioteki Pythona, które można zaimportować samodzielnie we wskazanej komórce notatnika.\n",
    "- Swoje rozwiązania należy wprowadzać wyłącznie w miejce następujących fragmentów kodu:<br/> `# YOUR CODE HERE`<br/> `raise NotImplementedError()`<br/> \n",
    "a odpowiedzi tekstowe w komórkach oznaczonych hasłem:<br/> \n",
    "`YOUR ANSWER HERE`<br/> \n",
    "Nie należy w żaden sposób modyfikować pozostałych fragmentów kodu oraz innych elementów notatnika, w szczególności dodawać lub usuwać komórek oraz zmieniać nazwy pliku.\n",
    "- Jeżeli zestaw zadań wymaga skorzystania z fragmentów kodu opracowanego w ramach wcześniejszych zestawów zadań należy je umieścić we wskazanej komórce notatnika.\n",
    "- Otrzymywane wyniki i odpowiedzi mają być rezultatem wykonania napisanego kodu, odpowiedzi uzupełniane manualnie nie podlegają ocenie.\n",
    "- Zadanie należy wykonać w taki sposób, aby podczas wykonywania kodu nie zostały wyświetlone żadne ostrzeżenia.\n",
    "- Zawarte w notatniku automatyczne testy mają charakter poglądowy. Dotyczą one wybranych aspektów zadań i mają za zadanie wyłapać podstawowe błędy. Przejście wszystkich testów nie oznacza, że zadanie jest wykonane w całości poprawnie i zostanie ocenione na maksymalną liczbę punktów.\n",
    "- Zadania, które powodują wyświetlenie komunikatu o błędzie przerywającym wykonywanie kodu nie podlegają ocenie.\n",
    "\n",
    "Uwagi i wytyczne ogólne dotyczące wizualizacji wyników:\n",
    "- Wszystkie wykresy powinny być wykonane w jednolitym, przejrzystym i czytelnym stylu, posiadać odpowiednio dobrane proporcje i zakresy wartości osi.\n",
    "- Wykresy oraz ich osie powinny mieć nadane tytuły. Jeżeli w obrębie figury znajduje się więcej niż jeden wykres to figura również powinna mieć nadany tytuł. \n",
    "- Figury powinny mieć ustawione białe tło, tak, aby niezależnie od ustawień notatnika wszystkie elementy wykresów były dobrze widoczne (domyślnie tło jest przeźroczyste co może powodować problemy w notatnikach z ustawionym ciemnym tłem).\n",
    "- Rozmiar poziomy figur nie powinien przekraczać 20 cali.\n",
    "\n",
    "Przed odesłaniem zestawu zadań do oceny proszę uzupełnić komórkę z danymi autorów rozwiązania (`NAME` - nazwa zespołu, `COLLABORATORS` - imiona, nazwiska i numery indeksów członków zespołu) oraz upewnić się, że notatnik działa zgodnie z oczekiwaniami. W tym celu należy skorzystać z opcji **Restart Kernel and Run All Cells...** dostępnej na górnej belce notatnika pod symbolem $\\blacktriangleright\\blacktriangleright$."
   ]
  },
  {
   "cell_type": "code",
   "execution_count": null,
   "id": "1b99a3e8",
   "metadata": {},
   "outputs": [],
   "source": [
    "NAME = \"\"\n",
    "COLLABORATORS = \"\""
   ]
  },
  {
   "cell_type": "markdown",
   "id": "d3b5f820",
   "metadata": {
    "deletable": false,
    "editable": false,
    "nbgrader": {
     "cell_type": "markdown",
     "checksum": "eddc8826810e4a6f7bf68319da334bd9",
     "grade": false,
     "grade_id": "cell-109006d425e5cf83",
     "locked": true,
     "schema_version": 3,
     "solution": false,
     "task": false
    },
    "tags": []
   },
   "source": [
    "---"
   ]
  },
  {
   "cell_type": "markdown",
   "id": "3dc8b5f1-8b22-4781-876f-27826679533d",
   "metadata": {
    "deletable": false,
    "editable": false,
    "nbgrader": {
     "cell_type": "markdown",
     "checksum": "9f3e888613f1e39eedf1ca6986a2780c",
     "grade": false,
     "grade_id": "cell-a12f05a1065ccf65",
     "locked": true,
     "schema_version": 3,
     "solution": false,
     "task": false
    },
    "tags": []
   },
   "source": [
    "## Zestaw zadań 2: Elementy statystyki opisowej 2 (Notatnik 2/4)"
   ]
  },
  {
   "cell_type": "code",
   "execution_count": null,
   "id": "7f9968ab-aec5-4893-b0ad-34121d66004f",
   "metadata": {
    "deletable": false,
    "editable": false,
    "nbgrader": {
     "cell_type": "code",
     "checksum": "6a1e029ad976005b8bbf36e1fca0fca7",
     "grade": false,
     "grade_id": "cell-d7c9c710c5b409e6",
     "locked": true,
     "schema_version": 3,
     "solution": false,
     "task": false
    },
    "tags": []
   },
   "outputs": [],
   "source": [
    "import numpy as np\n",
    "import pandas as pd\n",
    "import scipy as sp\n",
    "import matplotlib as mpl\n",
    "import matplotlib.pyplot as plt\n",
    "import seaborn as sns\n",
    "import dataframe_image as dfi"
   ]
  },
  {
   "cell_type": "code",
   "execution_count": null,
   "id": "2876bbec-f433-4b3e-8187-0184b66bcbe9",
   "metadata": {
    "tags": []
   },
   "outputs": [],
   "source": [
    "# Miejsce do importu pakietów wchodzących w skład standardowej biblioteki Pythona oraz ustawienie opcji wykorzystywanych pakietów"
   ]
  },
  {
   "cell_type": "markdown",
   "id": "73cb2852-79f3-4f76-9303-a091a9be7623",
   "metadata": {
    "deletable": false,
    "editable": false,
    "nbgrader": {
     "cell_type": "markdown",
     "checksum": "44cc5a5805d57df53506aaabe16559fc",
     "grade": false,
     "grade_id": "cell-7e0c91af7d9408af",
     "locked": true,
     "schema_version": 3,
     "solution": false,
     "task": false
    },
    "tags": []
   },
   "source": [
    "### Wczytanie danych\n",
    "Wczytaj dane z przygotowanego wcześniej pliku recession_data_1.csv do tablicy `recession_data_1` w taki sposób, aby kolumna Country Code stanowiła indeks tablicy.\n",
    "\n",
    "Wyświetl przygotowaną tablicę."
   ]
  },
  {
   "cell_type": "code",
   "execution_count": null,
   "id": "bb86cffa-4841-45db-b09e-06fb353a4250",
   "metadata": {
    "deletable": false,
    "nbgrader": {
     "cell_type": "code",
     "checksum": "68bec47ead37b0063f7536f252c32c14",
     "grade": true,
     "grade_id": "cell-184ec13f50fb3bfe",
     "locked": false,
     "points": 0,
     "schema_version": 3,
     "solution": true,
     "task": false
    },
    "tags": []
   },
   "outputs": [],
   "source": [
    "# YOUR CODE HERE\n",
    "raise NotImplementedError()"
   ]
  },
  {
   "cell_type": "markdown",
   "id": "fdaccd00-7a75-4926-b051-96470de901e2",
   "metadata": {
    "deletable": false,
    "editable": false,
    "nbgrader": {
     "cell_type": "markdown",
     "checksum": "531cb245cf06c5160d85440deb7a78e7",
     "grade": false,
     "grade_id": "cell-e01d8f2049de027d",
     "locked": true,
     "schema_version": 3,
     "solution": false,
     "task": false
    },
    "tags": []
   },
   "source": [
    "### Zadnie 2: Prezentacja danych w formie tabelarycznej [10 pkt]\n",
    "\n",
    "Przygotuj trzy tablice szeregów rodzielczych przedziałowych częstości wskaźnika GDP growth (annual %) dla poszczególnych lat.\n",
    "\n",
    "Pierwsza tablica (`recession_table_1`) powinna zawierać szeregi skonstruowane w obarciu o całość danych.\n",
    "\n",
    "Indeks:\n",
    " - Year (wszystkie lata)\n",
    " \n",
    "Kolumny:\n",
    " - Kolejne przedziały (-20, -15]\t(-15, -10] ... (30, 35] zdefiniowane jako IntervalIndex\n",
    "\n",
    "Druga tablica (`recession_table_2`) powinna zawierać szeregi skonstruowane indywidualnie dla każdego z rejonów geograficznych.\n",
    "\n",
    "Indeks:\n",
    " - 1 poziomu: Region Name\n",
    " - 2 poziomu: Year (wszystkie lata dla każdego z rejonów)\n",
    " \n",
    "Kolumny:\n",
    " - Kolejne przedziały (-20, -15]\t(-15, -10] ... (30, 35] zdefiniowane jako IntervalIndex\n",
    "\n",
    "Trzecia tablica (`recession_table_3`) powinna zawierać szeregi skonstruowane indywidualnie dla każdego stopnia zamożności.\n",
    "\n",
    "Indeks:\n",
    " - 1 poziomu: Income Group\n",
    " - 2 poziomu: Year (wszystkie lata dla każdej z grup)\n",
    " \n",
    "Kolumny:\n",
    " - Kolejne przedziały (-20, -15]\t(-15, -10] ... (30, 35] zdefiniowane jako IntervalIndex\n",
    " \n",
    "Wyświetl przygotowane tablice w taki sposób aby zawarte w tablicy liczby (za wyjątkiem lat i granic przedziałów w nagłówkach kolumn i wierszy) wyświetlały się z dokładnością do 2 miejsca po przecinku."
   ]
  },
  {
   "cell_type": "code",
   "execution_count": null,
   "id": "5dbbfa05-68d5-4972-a455-922d77d8a1bd",
   "metadata": {
    "deletable": false,
    "nbgrader": {
     "cell_type": "code",
     "checksum": "7c3eca78549dabf08894806879e4861d",
     "grade": false,
     "grade_id": "cell-0b76c13943ac3c6b",
     "locked": false,
     "schema_version": 3,
     "solution": true,
     "task": false
    },
    "tags": []
   },
   "outputs": [],
   "source": [
    "# Całość danych\n",
    "# YOUR CODE HERE\n",
    "raise NotImplementedError()"
   ]
  },
  {
   "cell_type": "code",
   "execution_count": null,
   "id": "cff294d3-d46a-4edd-aa04-aa6e434e347d",
   "metadata": {
    "deletable": false,
    "nbgrader": {
     "cell_type": "code",
     "checksum": "65f7eab314145a691b71ed20acd2de5b",
     "grade": false,
     "grade_id": "cell-9a1b92247ccba7a2",
     "locked": false,
     "schema_version": 3,
     "solution": true,
     "task": false
    },
    "tags": []
   },
   "outputs": [],
   "source": [
    "# Podział na rejony\n",
    "# YOUR CODE HERE\n",
    "raise NotImplementedError()"
   ]
  },
  {
   "cell_type": "code",
   "execution_count": null,
   "id": "290e8cf0-17cb-4395-9924-774478436446",
   "metadata": {
    "deletable": false,
    "nbgrader": {
     "cell_type": "code",
     "checksum": "89f3003ab0abdd657a18988b48f7e6ea",
     "grade": false,
     "grade_id": "cell-a931928e53b6f707",
     "locked": false,
     "schema_version": 3,
     "solution": true,
     "task": false
    },
    "tags": []
   },
   "outputs": [],
   "source": [
    "# Podział pod względem stopnia zamożności\n",
    "# YOUR CODE HERE\n",
    "raise NotImplementedError()"
   ]
  },
  {
   "cell_type": "code",
   "execution_count": null,
   "id": "02a670a2-8817-43bf-b380-e9b47c007b21",
   "metadata": {
    "deletable": false,
    "editable": false,
    "nbgrader": {
     "cell_type": "code",
     "checksum": "f3f6f4a6de5440ed6fb3b6e8ece3577a",
     "grade": true,
     "grade_id": "cell-c759195a85d2912b",
     "locked": true,
     "points": 10,
     "schema_version": 3,
     "solution": false,
     "task": false
    },
    "tags": []
   },
   "outputs": [],
   "source": [
    "### Komórka testowa\n",
    "## Tablica 1\n",
    "# Kolumny\n",
    "#if recession_table_1.columns.inferred_type == 'interval':\n",
    "lower_boundaries = np.arange(-20, 35, 5)\n",
    "for i in range(len(lower_boundaries)):\n",
    "    assert recession_table_1.columns[i] == pd.Interval(lower_boundaries[i], lower_boundaries[i]+5, closed='right')\n",
    "# Indeks\n",
    "assert len(set(list(recession_table_1.index)) & set([2006, 2007, 2008, 2009, 2010, 2011])) == 6 \\\n",
    "    or len(set(list(recession_table_1.index)) & set(['2006', '2007', '2008', '2009', '2010', '2011'])) == 6\n",
    "# Wartości w obrębie tablicy\n",
    "assert recession_table_1.values.min() >= 0.0\n",
    "assert recession_table_1.values.max() <= 1.0\n",
    "assert np.all(np.isclose(recession_table_1.sum(axis=1), 1.0))==True\n",
    "\n",
    "## Tablica 2\n",
    "# Kolumny\n",
    "lower_boundaries = np.arange(-20, 35, 5)\n",
    "for i in range(len(lower_boundaries)):\n",
    "    assert recession_table_2.columns[i] == pd.Interval(lower_boundaries[i], lower_boundaries[i]+5, closed='right')\n",
    "# Indeks\n",
    "assert set(list(recession_table_2.index.levels[0])) == set(['Africa', 'Americas', 'Asia', 'Europe', 'Oceania'])\n",
    "set(list(recession_table_2.index.levels[1]))\n",
    "assert set(list(recession_table_2.index.levels[1])) == set([2006, 2007, 2008, 2009, 2010, 2011]) \\\n",
    "    or set(list(recession_table_2.index.levels[1])) == set(['2006', '2007', '2008', '2009', '2010', '2011'])\n",
    "# # Wartości w obrębie tablicy\n",
    "assert recession_table_2.values.min() >= 0.0\n",
    "assert recession_table_2.values.max() <= 1.0\n",
    "assert np.all(np.isclose(recession_table_2.sum(axis=1), 1.0))==True\n",
    "\n",
    "## Tablica 3\n",
    "# Kolumny\n",
    "lower_boundaries = np.arange(-20, 35, 5)\n",
    "for i in range(len(lower_boundaries)):\n",
    "    assert recession_table_3.columns[i] == pd.Interval(lower_boundaries[i], lower_boundaries[i]+5, closed='right')\n",
    "# Indeks\n",
    "assert set(list(recession_table_3.index.levels[0])) == set(['High', 'Low', 'Lower middle', 'Upper middle'])\n",
    "assert set(list(recession_table_3.index.levels[1])) == set([2006, 2007, 2008, 2009, 2010, 2011]) \\\n",
    "    or set(list(recession_table_3.index.levels[1])) == set(['2006', '2007', '2008', '2009', '2010', '2011'])\n",
    "# Wartości w obrębie tablicy\n",
    "assert recession_table_3.values.min() >= 0.0\n",
    "assert recession_table_3.values.max() <= 1.0\n",
    "assert np.all(np.isclose(recession_table_3.sum(axis=1), 1.0))==True"
   ]
  },
  {
   "cell_type": "markdown",
   "id": "c163957b-46f6-4339-8078-1805d4b78600",
   "metadata": {
    "deletable": false,
    "editable": false,
    "nbgrader": {
     "cell_type": "markdown",
     "checksum": "40a4b7b4a6c6addc5a8c0dc9bce4ef89",
     "grade": false,
     "grade_id": "cell-a370a3f8277883da",
     "locked": true,
     "schema_version": 3,
     "solution": false,
     "task": false
    },
    "tags": []
   },
   "source": [
    "### Zadanie 3: Prezentacja danych w formie graficznej [25 pkt]"
   ]
  },
  {
   "cell_type": "markdown",
   "id": "1c002900-b2f4-4066-9951-ed4b286514a5",
   "metadata": {
    "deletable": false,
    "editable": false,
    "nbgrader": {
     "cell_type": "markdown",
     "checksum": "64fcc89088a30bf8b066b6c904d11b44",
     "grade": false,
     "grade_id": "cell-7825486f2cd68a32",
     "locked": true,
     "schema_version": 3,
     "solution": false,
     "task": false
    },
    "tags": []
   },
   "source": [
    "#### a) Diagramy częstości\n",
    "\n",
    "Bazując na wczytanych do notatnika danych przygotuj diagramy częstości odpowiadające danym zawartym w przygotowanych wcześniej tabelach (podział na identyczne przedziały, skonstruowane w obarciu o całość danych oraz indywidualnie dla każdego z rejonów geograficznych i dla każdego stopnia zamożności, osobne diagramy dla poszczególnych lat). \n",
    "\n",
    "Zestaw wyniki na pojedynczej figurze (siatka wykresów 2x5). W górnym wierszu zawszyj diagram skonstruowany w oparciu o całość danych oraz cztery diagramy skonstruowane indywidualnie dla poszczególnych stopni zamożności, a w dolnym wierszu pięć dziagramów skonstruowanych indywidualnie dla poszczególnych rejonów geograficznych). Przygotuj figurę zgodnie z wytycznymi z nagłówka notatnika. Dodatkowo:\n",
    "- ustaw identyczne zakresy wartości na odpowiadających sobie osiach wszystkich wykresów,\n",
    "- ustaw różne od domyślnych i od siebie nawzajem kolory diagramów poszczególnych lat (kolory przyporządkowane poszczególnym latom powinny być identyczne na wszystkich wykresach),\n",
    "- dodaj do figury lub wykresów legendę zawierającą nazwę wizualizowanego parametru oraz kolory przypisane poszczególnym latom w taki sposób, aby nie zasłaniała/zasłaniały znajdujących się na wykresach danych.\n",
    "\n",
    "Uwaga! Zadanie należy wykonać w oparciu o wczytane do notatnika szeregi szczegółowe, a nie w oparciu o szeregi rozdzielcze częstości przygotowane w zadaniu 2."
   ]
  },
  {
   "cell_type": "code",
   "execution_count": null,
   "id": "077e6e36-e05f-4b55-acf4-6e781ce9095d",
   "metadata": {
    "deletable": false,
    "nbgrader": {
     "cell_type": "code",
     "checksum": "b24c238d315f5f6f43401ce391f7a07f",
     "grade": true,
     "grade_id": "cell-20f667f95ac4349e",
     "locked": false,
     "points": 10,
     "schema_version": 3,
     "solution": true,
     "task": false
    },
    "tags": []
   },
   "outputs": [],
   "source": [
    "# YOUR CODE HERE\n",
    "raise NotImplementedError()"
   ]
  },
  {
   "cell_type": "markdown",
   "id": "095e028d-fc68-4c4f-af05-cb2368cf8a87",
   "metadata": {
    "deletable": false,
    "editable": false,
    "nbgrader": {
     "cell_type": "markdown",
     "checksum": "e1b0db21f7c9dc92a9e6ce5f14b9a7f7",
     "grade": false,
     "grade_id": "cell-f62fe7c574f73939",
     "locked": true,
     "schema_version": 3,
     "solution": false,
     "task": false
    },
    "tags": []
   },
   "source": [
    "#### b) Inne typy wykresów\n",
    "Bazując na wczytanych do notatnika danych przygotuj wykresy typu boxplot, violinplot, swarmplot i stripplot.\n",
    "\n",
    "W przypadku każdego z typów wykresów zestaw wyniki na pojedynczej figurze (siatka wykresów 3x1). W górnym wierszu zawszyj wykres skonstruowany w oparciu o całość danych, w wierszu środkowym wykres zawierajacy podział na poszczególne stopnie zamożności, a w wierszu dolnym wykres zawierajacy podział na poszczególne rejony geograficzne. Przygotuj figurę zgodnie z wytycznymi z nagłówka notatnika. Dodatkowo:\n",
    "- ustaw identyczne zakresy wartości na odpowiadających sobie osiach wszystkich wykresów,\n",
    "- na górnych wykresach dla całości danych użyj pojedynczego koloru jako wypełnienia,\n",
    "- dla stopni zamożności ustaw jako wypełnienie skalę kolorów coolwarm,\n",
    "- poszczególnym rejonom geograficznym przypisz jasne/wypłowiałe wersje kolorów przypisanych im na fladze olimpijskiej (Afryka szary, Europa jasnoniebieski itd.),\n",
    "- w przypadku wykresów swarmplot i stripplot dobierz ich parametry tak by chmury punktów powiązanych z opisanymi w legendzie wariantami parametrów były rozdzielone,\n",
    "- do dwóch dolnych wykresów dodaj legendę zawierającą nazwę wizualizowanego parametru oraz kolory przypisane poszczególnym rejonom geograficznym/stopniom zamożności w taki sposób, aby nie zasłaniała znajdujących się na wykresach danych.\n",
    "\n",
    "Wykresy pudełkowe powinny zawierać oznaczenia wartości średniej, mediany oraz wartości odstających.\n",
    "\n",
    "Uwaga! Zadanie należy wykonać w oparciu o wczytane do notatnika szeregi szczegółowe, a nie w oparciu o szeregi rozdzielcze częstości przygotowane w zadaniu 2."
   ]
  },
  {
   "cell_type": "code",
   "execution_count": null,
   "id": "a7594c74-c087-427b-a28f-75dbc6c15b10",
   "metadata": {
    "deletable": false,
    "nbgrader": {
     "cell_type": "code",
     "checksum": "d1e5971bfa63eb84148ec83e2a5b5952",
     "grade": true,
     "grade_id": "cell-ae4385a252fa931d",
     "locked": false,
     "points": 2.5,
     "schema_version": 3,
     "solution": true,
     "task": false
    },
    "tags": []
   },
   "outputs": [],
   "source": [
    "# Boxplot\n",
    "# YOUR CODE HERE\n",
    "raise NotImplementedError()"
   ]
  },
  {
   "cell_type": "code",
   "execution_count": null,
   "id": "6684a75b-4c3c-4254-98ef-a52b0f371afc",
   "metadata": {
    "deletable": false,
    "nbgrader": {
     "cell_type": "code",
     "checksum": "9532522290891e0febe4e9a0d81a0cd3",
     "grade": true,
     "grade_id": "cell-bf9c7c83e4f80572",
     "locked": false,
     "points": 2.5,
     "schema_version": 3,
     "solution": true,
     "task": false
    },
    "tags": []
   },
   "outputs": [],
   "source": [
    "# Violinplot\n",
    "# YOUR CODE HERE\n",
    "raise NotImplementedError()"
   ]
  },
  {
   "cell_type": "code",
   "execution_count": null,
   "id": "e2538aec-a9dc-453b-a68c-fe13bf7f827d",
   "metadata": {
    "deletable": false,
    "nbgrader": {
     "cell_type": "code",
     "checksum": "66d4f4a0cb3f6ae9fc36fd28c43c2be5",
     "grade": true,
     "grade_id": "cell-55f5e27c0761428a",
     "locked": false,
     "points": 2.5,
     "schema_version": 3,
     "solution": true,
     "task": false
    },
    "tags": []
   },
   "outputs": [],
   "source": [
    "# Swarmplot\n",
    "# YOUR CODE HERE\n",
    "raise NotImplementedError()"
   ]
  },
  {
   "cell_type": "code",
   "execution_count": null,
   "id": "ac6d162f-274b-4c2a-8d9b-9750047a9769",
   "metadata": {
    "deletable": false,
    "nbgrader": {
     "cell_type": "code",
     "checksum": "4bea612c9473c5de128faa8d88e99013",
     "grade": true,
     "grade_id": "cell-ede6fce5fff8ebdd",
     "locked": false,
     "points": 2.5,
     "schema_version": 3,
     "solution": true,
     "task": false
    },
    "tags": []
   },
   "outputs": [],
   "source": [
    "# Stripplot\n",
    "# YOUR CODE HERE\n",
    "raise NotImplementedError()"
   ]
  },
  {
   "cell_type": "markdown",
   "id": "d8c6cb9b-31b4-434a-9312-5868da5ce39c",
   "metadata": {
    "deletable": false,
    "editable": false,
    "nbgrader": {
     "cell_type": "markdown",
     "checksum": "47e826d87cc9f842650d0b5039901480",
     "grade": false,
     "grade_id": "cell-76b8c9cf7fea8bfa",
     "locked": true,
     "schema_version": 3,
     "solution": false,
     "task": false
    },
    "tags": []
   },
   "source": [
    "#### c) Dyskusja wyników\n",
    "\n",
    "Zastanów się jakie są mocne i słabe strony poszczególnych typów wykresów wykonanych w tym zadaniu. W jakich przypadkach wykorzystanie konkretnych typów wykresów do wizualizacji może sprawiać problemy?"
   ]
  },
  {
   "cell_type": "markdown",
   "id": "4163cec7-9656-4524-95e1-4f7e792450ad",
   "metadata": {
    "deletable": false,
    "nbgrader": {
     "cell_type": "markdown",
     "checksum": "d9cbcb3159d74160cd67fa81c2198236",
     "grade": true,
     "grade_id": "cell-343f7f2b58b388ba",
     "locked": false,
     "points": 5,
     "schema_version": 3,
     "solution": true,
     "task": false
    },
    "tags": []
   },
   "source": [
    "YOUR ANSWER HERE"
   ]
  }
 ],
 "metadata": {
  "kernelspec": {
   "display_name": "Python 3 (ipykernel)",
   "language": "python",
   "name": "python3"
  },
  "language_info": {
   "codemirror_mode": {
    "name": "ipython",
    "version": 3
   },
   "file_extension": ".py",
   "mimetype": "text/x-python",
   "name": "python",
   "nbconvert_exporter": "python",
   "pygments_lexer": "ipython3",
   "version": "3.9.12"
  }
 },
 "nbformat": 4,
 "nbformat_minor": 5
}
