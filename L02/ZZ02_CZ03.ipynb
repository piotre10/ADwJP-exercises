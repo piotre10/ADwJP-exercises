{
 "cells": [
  {
   "cell_type": "markdown",
   "id": "46477a3e",
   "metadata": {
    "deletable": false,
    "editable": false,
    "nbgrader": {
     "cell_type": "markdown",
     "checksum": "4d87ed846e09cbf1c8eae4e0f16bea9b",
     "grade": false,
     "grade_id": "cell-fcd2666579131b77",
     "locked": true,
     "schema_version": 3,
     "solution": false,
     "task": false
    },
    "tags": []
   },
   "source": [
    "# Analiza danych w języku Python - ćwiczenia laboratoryjne 2022/2023\n",
    "\n",
    "Ten notatnik zalicza się do grupy zestawów zadań, na podstawie których odbywa się zaliczenie ćwiczeń i podlega zwrotowi do oceny w ustalonym na zajęciach terminie.\n",
    "\n",
    "Uwagi i wytyczne ogólne dotyczące uzupełniania i oceny notatnika:\n",
    "- Podczas wykonywania zadań należy korzystać wyłącznie z pakietów zaimportowanych na początku notatnika oraz z pakietów wchodzących w skład standardowej biblioteki Pythona, które można zaimportować samodzielnie we wskazanej komórce notatnika.\n",
    "- Swoje rozwiązania należy wprowadzać wyłącznie w miejce następujących fragmentów kodu:<br/> `# YOUR CODE HERE`<br/> `raise NotImplementedError()`<br/> \n",
    "a odpowiedzi tekstowe w komórkach oznaczonych hasłem:<br/> \n",
    "`YOUR ANSWER HERE`<br/> \n",
    "Nie należy w żaden sposób modyfikować pozostałych fragmentów kodu oraz innych elementów notatnika, w szczególności dodawać lub usuwać komórek oraz zmieniać nazwy pliku.\n",
    "- Jeżeli zestaw zadań wymaga skorzystania z fragmentów kodu opracowanego w ramach wcześniejszych zestawów zadań należy je umieścić we wskazanej komórce notatnika.\n",
    "- Otrzymywane wyniki i odpowiedzi mają być rezultatem wykonania napisanego kodu, odpowiedzi uzupełniane manualnie nie podlegają ocenie.\n",
    "- Zadanie należy wykonać w taki sposób, aby podczas wykonywania kodu nie zostały wyświetlone żadne ostrzeżenia.\n",
    "- Zawarte w notatniku automatyczne testy mają charakter poglądowy. Dotyczą one wybranych aspektów zadań i mają za zadanie wyłapać podstawowe błędy. Przejście wszystkich testów nie oznacza, że zadanie jest wykonane w całości poprawnie i zostanie ocenione na maksymalną liczbę punktów.\n",
    "- Zadania, które powodują wyświetlenie komunikatu o błędzie przerywającym wykonywanie kodu nie podlegają ocenie.\n",
    "\n",
    "Uwagi i wytyczne ogólne dotyczące wizualizacji wyników:\n",
    "- Wszystkie wykresy powinny być wykonane w jednolitym, przejrzystym i czytelnym stylu, posiadać odpowiednio dobrane proporcje i zakresy wartości osi.\n",
    "- Wykresy oraz ich osie powinny mieć nadane tytuły. Jeżeli w obrębie figury znajduje się więcej niż jeden wykres to figura również powinna mieć nadany tytuł. \n",
    "- Figury powinny mieć ustawione białe tło, tak, aby niezależnie od ustawień notatnika wszystkie elementy wykresów były dobrze widoczne (domyślnie tło jest przeźroczyste co może powodować problemy w notatnikach z ustawionym ciemnym tłem).\n",
    "- Rozmiar poziomy figur nie powinien przekraczać 20 cali.\n",
    "\n",
    "Przed odesłaniem zestawu zadań do oceny proszę uzupełnić komórkę z danymi autorów rozwiązania (`NAME` - nazwa zespołu, `COLLABORATORS` - imiona, nazwiska i numery indeksów członków zespołu) oraz upewnić się, że notatnik działa zgodnie z oczekiwaniami. W tym celu należy skorzystać z opcji **Restart Kernel and Run All Cells...** dostępnej na górnej belce notatnika pod symbolem $\\blacktriangleright\\blacktriangleright$."
   ]
  },
  {
   "cell_type": "code",
   "execution_count": null,
   "id": "1dce17a4",
   "metadata": {},
   "outputs": [],
   "source": [
    "NAME = \"IAD28\"\n",
    "COLLABORATORS = \"Radosław Matuszczyk 405124, Piotr Łukasiewicz 406163\""
   ]
  },
  {
   "cell_type": "markdown",
   "id": "976a9d99",
   "metadata": {
    "deletable": false,
    "editable": false,
    "nbgrader": {
     "cell_type": "markdown",
     "checksum": "eddc8826810e4a6f7bf68319da334bd9",
     "grade": false,
     "grade_id": "cell-109006d425e5cf83",
     "locked": true,
     "schema_version": 3,
     "solution": false,
     "task": false
    },
    "tags": []
   },
   "source": [
    "---"
   ]
  },
  {
   "cell_type": "markdown",
   "id": "3dc8b5f1-8b22-4781-876f-27826679533d",
   "metadata": {
    "deletable": false,
    "editable": false,
    "nbgrader": {
     "cell_type": "markdown",
     "checksum": "fe980111aa06870071953cf7ca5ad4fe",
     "grade": false,
     "grade_id": "cell-a12f05a1065ccf65",
     "locked": true,
     "schema_version": 3,
     "solution": false,
     "task": false
    },
    "tags": []
   },
   "source": [
    "## Zestaw zadań 2: Elementy statystyki opisowej 2 (Notatnik 3/4)"
   ]
  },
  {
   "cell_type": "code",
   "execution_count": null,
   "id": "7f9968ab-aec5-4893-b0ad-34121d66004f",
   "metadata": {
    "deletable": false,
    "editable": false,
    "nbgrader": {
     "cell_type": "code",
     "checksum": "6a1e029ad976005b8bbf36e1fca0fca7",
     "grade": false,
     "grade_id": "cell-d7c9c710c5b409e6",
     "locked": true,
     "schema_version": 3,
     "solution": false,
     "task": false
    },
    "tags": []
   },
   "outputs": [],
   "source": [
    "import numpy as np\n",
    "import pandas as pd\n",
    "import scipy as sp\n",
    "import matplotlib as mpl\n",
    "import matplotlib.pyplot as plt\n",
    "import seaborn as sns\n",
    "import dataframe_image as dfi"
   ]
  },
  {
   "cell_type": "code",
   "execution_count": null,
   "id": "2876bbec-f433-4b3e-8187-0184b66bcbe9",
   "metadata": {
    "tags": []
   },
   "outputs": [],
   "source": [
    "# Miejsce do importu pakietów wchodzących w skład standardowej biblioteki Pythona oraz ustawienie opcji wykorzystywanych pakietów\n",
    "from scipy.stats import kurtosis"
   ]
  },
  {
   "cell_type": "markdown",
   "id": "73cb2852-79f3-4f76-9303-a091a9be7623",
   "metadata": {
    "deletable": false,
    "editable": false,
    "nbgrader": {
     "cell_type": "markdown",
     "checksum": "777fe210411fa2740b346a81897f1a06",
     "grade": false,
     "grade_id": "cell-7e0c91af7d9408af",
     "locked": true,
     "schema_version": 3,
     "solution": false,
     "task": false
    },
    "tags": []
   },
   "source": [
    "### Wczytanie danych\n",
    "Wczytaj dane z przygotowanego wcześniej pliku recession_data_1.csv do tablicy `recession_data_1` w taki sposób, aby kolumna Country Code stanowiła indeks tablicy oraz dane z pliku recession_table_1.pkl do tablicy `recession_table_1`.\n",
    "\n",
    "Wyświetl przygotowane tablice."
   ]
  },
  {
   "cell_type": "code",
   "execution_count": null,
   "id": "bb86cffa-4841-45db-b09e-06fb353a4250",
   "metadata": {
    "deletable": false,
    "nbgrader": {
     "cell_type": "code",
     "checksum": "ace349d1ec67a1ad07dcdfe6347c9156",
     "grade": true,
     "grade_id": "cell-184ec13f50fb3bfe",
     "locked": false,
     "points": 0,
     "schema_version": 3,
     "solution": true,
     "task": false
    },
    "tags": []
   },
   "outputs": [],
   "source": [
    "# recession_data_1\n",
    "recession_data_1 = pd.read_csv('recession_data_1.csv', index_col=0)\n",
    "recession_data_1"
   ]
  },
  {
   "cell_type": "code",
   "execution_count": null,
   "id": "d54b4d37-33c1-4e5d-a40c-c9cdbc95ae2e",
   "metadata": {
    "deletable": false,
    "nbgrader": {
     "cell_type": "code",
     "checksum": "91558f14de01bc6f6c7f4541102010af",
     "grade": true,
     "grade_id": "cell-d6790089c311e0c1",
     "locked": false,
     "points": 0,
     "schema_version": 3,
     "solution": true,
     "task": false
    },
    "tags": []
   },
   "outputs": [],
   "source": [
    "# recession_table_1\n",
    "recession_table_1 = pd.read_pickle('recession_table_1.pkl')\n",
    "recession_table_1"
   ]
  },
  {
   "cell_type": "markdown",
   "id": "af4f55fa-6ed5-4321-b00f-9749d024cfec",
   "metadata": {
    "deletable": false,
    "editable": false,
    "nbgrader": {
     "cell_type": "markdown",
     "checksum": "1244f4e4ea59ffe4c2deb802bd9adf93",
     "grade": false,
     "grade_id": "cell-58d78f451b6dc5cf",
     "locked": true,
     "schema_version": 3,
     "solution": false,
     "task": false
    },
    "tags": []
   },
   "source": [
    "### Zadanie 4: Obliczanie wartości wybranych opisowych charakterystyk rozkładu w oparciu o szereg szczegółowy [5 pkt]\n",
    "\n",
    "Korzystając z danych zawartych w tablicy `recession_data_1` oraz funkcji pakietu pandas oblicz dla każdego roku następujące opisowe charakterystyki rozkładu:\n",
    "- wartość średnia (ang. mean),\n",
    "- odchylenie standardowe (ang. standart deviation),\n",
    "- wartość minimalna (ang. minimum),\n",
    "- kwartyle (ang. quartiles),\n",
    "- wartość maksymalna (ang. maximum),\n",
    "- eksces/kurtoza (ang. excess kurtosis),\n",
    "- skośność (ang. skew).\n",
    "\n",
    "Zestaw wyniki w tablicy `descriptive_parameters_1`.\n",
    "\n",
    "Indeks:\n",
    " - zawiera następujące nazwy wierszy: mean, std, min, Q1, Q2, Q3, max, kurt, skew.\n",
    " \n",
    "Kolumny:\n",
    " - lata (osobna kolumna dla każdego roku opatrzona nagłówkiem 2006, 2007 itd. sformatowanym jako str)"
   ]
  },
  {
   "cell_type": "code",
   "execution_count": null,
   "id": "7a273fcc-b987-40ed-bcb1-f071a5898f15",
   "metadata": {
    "deletable": false,
    "nbgrader": {
     "cell_type": "code",
     "checksum": "71d942de66eb72946c6501d975c5252f",
     "grade": false,
     "grade_id": "cell-791350554b49d2a1",
     "locked": false,
     "schema_version": 3,
     "solution": true,
     "task": false
    },
    "tags": []
   },
   "outputs": [],
   "source": [
    "# YOUR CODE HERE\n",
    "def quantile(n): # n = 1,2,3\n",
    "    p = n*25\n",
    "    def percentile_(a):\n",
    "        return np.percentile(a, p, axis=0)\n",
    "    percentile_.__name__ = f'Q{n}'\n",
    "    return percentile_\n",
    "\n",
    "\n",
    "descriptive_parameters_1 = recession_data_1[['2006', '2007', '2008', '2009', '2010', '2011']].agg(['mean', 'std', 'min', quantile(1), quantile(2), quantile(3), 'max', 'kurt', 'skew'])\n",
    "\n",
    "descriptive_parameters_1"
   ]
  },
  {
   "cell_type": "code",
   "execution_count": null,
   "id": "fa89c1f6-23bc-4502-8576-b5eda0d74061",
   "metadata": {
    "deletable": false,
    "editable": false,
    "nbgrader": {
     "cell_type": "code",
     "checksum": "3d46cf1d35bcf5028e41f97a5503448f",
     "grade": true,
     "grade_id": "cell-14cc60d0f688ac23",
     "locked": true,
     "points": 5,
     "schema_version": 3,
     "solution": false,
     "task": false
    },
    "tags": []
   },
   "outputs": [],
   "source": [
    "### Komórka testowa\n",
    "# Testy wybranych wartości z tablicy\n",
    "assert np.isclose(descriptive_parameters_1.loc[\"mean\", \"2006\"], 5.678241)\n",
    "assert np.isclose(descriptive_parameters_1.loc[\"std\", \"2007\"], 4.128360)\n",
    "assert np.isclose(descriptive_parameters_1.loc[\"min\", \"2008\"], -17.668946)\n",
    "assert np.isclose(descriptive_parameters_1.loc[\"Q1\", \"2009\"], -3.739051)\n",
    "assert np.isclose(descriptive_parameters_1.loc[\"Q2\", \"2010\"], 4.132582)\n",
    "assert np.isclose(descriptive_parameters_1.loc[\"Q3\", \"2011\"], 6.316869)\n",
    "assert np.isclose(descriptive_parameters_1.loc[\"max\", \"2006\"], 34.5)\n",
    "assert np.isclose(descriptive_parameters_1.loc[\"kurt\", \"2007\"], 2.877701)\n",
    "assert np.isclose(descriptive_parameters_1.loc[\"skew\", \"2008\"], -0.597186)"
   ]
  },
  {
   "cell_type": "markdown",
   "id": "66a5b8a4-a060-428b-94dd-e9d9782a2b35",
   "metadata": {
    "deletable": false,
    "editable": false,
    "nbgrader": {
     "cell_type": "markdown",
     "checksum": "e35a1e9bd086937ecdc4a5490c15a21f",
     "grade": false,
     "grade_id": "cell-0b3e4e045bf3522a",
     "locked": true,
     "schema_version": 3,
     "solution": false,
     "task": false
    },
    "tags": []
   },
   "source": [
    "### Zadanie 5: Praca z szeregami rozdzielczymi (25 pkt)\n",
    "Na potrzeby realizacji tego zadania załóżmy, że nie były dostępne dane szczegółowe, a jedynie tablica szeregu rozdzielczego przedziałowego. Ma to istotny wpływ na proces dokonywania obliczeń i wizualizacji wyników. Wykonaj poniższe zadanie bazując wyłącznie na danych z tablicy `recession_table_1`.\n",
    "\n",
    "Uwaga! Zadanie nie zawiera pełnej analizy danych, i ma wyłącznie charakter demonstracji pokazującej jak można prowadzić analizę, gdy nie są dostępne dane szczegółowe."
   ]
  },
  {
   "cell_type": "markdown",
   "id": "1a82ea6c-18d3-462c-8d8c-72776b97acd6",
   "metadata": {
    "deletable": false,
    "editable": false,
    "nbgrader": {
     "cell_type": "markdown",
     "checksum": "a693427641cae9d0828c2cf73e744db5",
     "grade": false,
     "grade_id": "cell-c4446d6ec83c4c21",
     "locked": true,
     "schema_version": 3,
     "solution": false,
     "task": false
    },
    "tags": []
   },
   "source": [
    "#### a) Obliczanie wartości wybranych opisowych charakterystyk rozkładu\n",
    "\n",
    "Korzystając z danych zawartych w tablicy `recession_table_1` oblicz dla każdego roku następujące opisowe charakterystyki rozkładu:\n",
    "- wartość średnia (ang. mean),\n",
    "- odchylenie standardowe (ang. standart deviation),\n",
    "- kwartyle (ang. quartiles),\n",
    "- moda (ang. mode).\n",
    "\n",
    "Zestaw wyniki w tablicy `descriptive_parameters_2`.\n",
    "\n",
    "Indeks:\n",
    " - zawiera następujące nazwy wierszy: mean, std, Q1, Q2, Q3, mode.\n",
    " \n",
    "Kolumny:\n",
    " - lata (osobna kolumna dla każdego roku opatrzona nagłówkiem 2006, 2007 itd. sformatowanym jako str)\n",
    " \n",
    "Uwaga! W celu otrzymania maksymalnej liczby punktów otrzymane wyniki powinny być w całości wynikiem pracy napisanego kodu, bez manualnego określania, w którym przedziale znajdują się określone statystyki itp."
   ]
  },
  {
   "cell_type": "code",
   "execution_count": null,
   "id": "548eaefe-27c4-478e-8782-8668e9616fb5",
   "metadata": {
    "deletable": false,
    "nbgrader": {
     "cell_type": "code",
     "checksum": "abea54626637d39d04167c5b0da25e74",
     "grade": false,
     "grade_id": "cell-badd1a625f30ace8",
     "locked": false,
     "schema_version": 3,
     "solution": true,
     "task": false
    },
    "tags": []
   },
   "outputs": [],
   "source": [
    "# YOUR CODE HERE4\n",
    "def interval_mean(series):\n",
    "    midpoints = series.index.mid.to_numpy()\n",
    "    counts = series.values\n",
    "    return midpoints @ counts / counts.sum()\n",
    "\n",
    "interval_mean.__name__ = 'mean'\n",
    "\n",
    "def interval_std(series):\n",
    "    counts = series.values\n",
    "    mean = interval_mean(series)\n",
    "    midpoints = series.index.mid.to_numpy()\n",
    "    return np.sqrt((midpoints - mean)**2 @ counts / counts.sum())\n",
    "\n",
    "interval_std.__name__ = 'std'\n",
    "\n",
    "def interval_quartile(k):\n",
    "    if k not in [1,2,3]:\n",
    "        raise ValueError\n",
    "    def quartile_(series):\n",
    "        counts = series.values\n",
    "        quartile_estimated_index = k*counts.sum()/4\n",
    "        cumulative_counts = counts.cumsum()\n",
    "        quartile_interval_index = np.where(cumulative_counts > quartile_estimated_index)[0][0]\n",
    "        quartile_interval = series.index[quartile_interval_index]\n",
    "        return quartile_interval.left + (k*counts.sum()/4 - counts[:quartile_interval_index].sum()) / counts[quartile_interval_index] * quartile_interval.length\n",
    "\n",
    "    quartile_.__name__ = f'Q{k}'\n",
    "    return quartile_\n",
    "\n",
    "\n",
    "def interval_mode(series):\n",
    "    counts = series.values\n",
    "    mode_interval_indexes = np.where(counts == np.max(counts))\n",
    "    if len(mode_interval_indexes) > 1:\n",
    "        return np.nan\n",
    "    mode_index = mode_interval_indexes[0].item()\n",
    "    mode_interval = series.index[mode_index]\n",
    "    before_count = counts[mode_index - 1] if mode_index > 0 else 0\n",
    "    next_count = counts[mode_index + 1] if mode_index < len(counts) else 0\n",
    "    mode_count = counts[mode_index]\n",
    "    return mode_interval.left + (mode_count - before_count) / ((mode_count - before_count) + (mode_count - next_count)) * mode_interval.length\n",
    "\n",
    "interval_mode.__name__ = 'mode'\n",
    "\n",
    "descriptive_parameters_2 = recession_table_1[['2006', '2007', '2008', '2009', '2010', '2011']] \\\n",
    "    .agg([interval_mean, interval_std, interval_quartile(1), interval_quartile(2), interval_quartile(3), interval_mode])\n",
    "\n",
    "descriptive_parameters_2"
   ]
  },
  {
   "cell_type": "code",
   "execution_count": null,
   "id": "be36e1ef-34b9-4d68-80c9-2c5136e5084c",
   "metadata": {
    "deletable": false,
    "editable": false,
    "nbgrader": {
     "cell_type": "code",
     "checksum": "c06226c8e1b9710912023b03c822bfc0",
     "grade": true,
     "grade_id": "cell-393ecccd80326459",
     "locked": true,
     "points": 15,
     "schema_version": 3,
     "solution": false,
     "task": false
    },
    "tags": []
   },
   "outputs": [],
   "source": [
    "### Komórka testowa\n",
    "# Testy wybranych wartości z tablicy\n",
    "assert np.isclose(descriptive_parameters_2.loc[\"mean\", \"2006\"], 5.606061)\n",
    "assert np.isclose(descriptive_parameters_2.loc[\"std\", \"2007\"], 4.184001)\n",
    "assert np.isclose(descriptive_parameters_2.loc[\"Q1\", \"2008\"], 0.916667)\n",
    "assert np.isclose(descriptive_parameters_2.loc[\"Q2\", \"2009\"], 0.220588)\n",
    "assert np.isclose(descriptive_parameters_2.loc[\"Q3\", \"2010\"], 7.604167)\n",
    "assert np.isclose(descriptive_parameters_2.loc[\"mode\", \"2011\"], 3.691589)"
   ]
  },
  {
   "cell_type": "markdown",
   "id": "54ec9964-beea-4faf-9f3d-6a370781c7d6",
   "metadata": {
    "deletable": false,
    "editable": false,
    "nbgrader": {
     "cell_type": "markdown",
     "checksum": "c4fff2b0dd2c12953da23e06d1dc8b49",
     "grade": false,
     "grade_id": "cell-b945747222cb3131",
     "locked": true,
     "schema_version": 3,
     "solution": false,
     "task": false
    },
    "tags": []
   },
   "source": [
    "#### b) Wizualizacja\n",
    "Zwizualizuj dane z tablic `recession_table_1` oraz `descriptive_parameters_2` za pomocą:\n",
    " - histogramu zliczeń (lewa oś wykresu) z nałożonym na niego łamaną częstości skumulowanej (prawa oś wykresu) wykonanych dla jednego, wybranego przez siebie roku,\n",
    " - diagramów częstości wyliczonych dla poszczególnych lat i skonstruowanych w obarciu o całość danych,\n",
    " - wykresów pudełkowych wyliczonych dla poszczególnych lat i skonstruowanych w obarciu o całość danych.\n",
    " \n",
    "Zestaw wykresy na pojedynczej figurze (siatka wykresów 2x2, przy czym wykres pudełkowy zajmuje oba pola w dolnym wierszu figury). Przygotuj figurę zgodnie z wytycznymi z nagłówka notatnika. Postaraj się, w miarę istniejących możliwości, aby formatowanie wykresów było jak najbardziej zbliżone do formatowania wykresów przygotowanych w poprzednim notatniku, dodatkowo:\n",
    "\n",
    "dla histogramu i łamanej częstości skumulowanej:\n",
    "- ustaw różne od domyślnych i od siebie nawzajem kolory wykresu słupkowego oraz łamanej częstości,\n",
    "- ustaw kolory lewej i prawej osi oraz ich opisów identyczne z kolorem elementu wykresu, którego dotyczą,\n",
    "- jako etykiety danych na osi x ustaw przedziały danych z tablicy `recession_table_1`,\n",
    "\n",
    "dla diagramów częstości:\n",
    "- ustaw kolory identyczne z tymi przypisanymi poszczególnym latom w zadaniu 3a,\n",
    "- dodaj do wykresu legendę zawierającą nazwę wizualizowanego parametru oraz kolory przypisane poszczególnym latom w taki sposób, aby nie zasłaniała/zasłaniały znajdujących się na wykresach danych,\n",
    "- jako etykiety danych na osi x ustaw przedziały danych z tablicy `recession_table_1`,\n",
    "\n",
    "dla wykresu pudełkowego:\n",
    "- ustaw kolor linii pudełka identyczny z kolorem ich wypełnienia w zadaniu 3b,\n",
    "- ustaw kolor linii wąsów identyczny z ich kolorem w zadaniu 3b.\n",
    "\n",
    "Wykresy pudełkowe powinny zawierać oznaczenia wartości średniej oraz mediany."
   ]
  },
  {
   "cell_type": "code",
   "execution_count": null,
   "id": "95aa8660-3c1e-437e-93ea-72d29f92f9ef",
   "metadata": {
    "deletable": false,
    "nbgrader": {
     "cell_type": "code",
     "checksum": "7fbf135ebcc0b3da13e87752c7dddc72",
     "grade": true,
     "grade_id": "cell-4c59ff00c0a0bb97",
     "locked": false,
     "points": 10,
     "schema_version": 3,
     "solution": true,
     "task": false
    },
    "tags": []
   },
   "outputs": [],
   "source": [
    "# YOUR CODE HERE\n",
    "raise NotImplementedError()"
   ]
  }
 ],
 "metadata": {
  "kernelspec": {
   "display_name": "Python 3 (ipykernel)",
   "language": "python",
   "name": "python3"
  },
  "language_info": {
   "codemirror_mode": {
    "name": "ipython",
    "version": 3
   },
   "file_extension": ".py",
   "mimetype": "text/x-python",
   "name": "python",
   "nbconvert_exporter": "python",
   "pygments_lexer": "ipython3",
   "version": "3.9.12"
  }
 },
 "nbformat": 4,
 "nbformat_minor": 5
}
