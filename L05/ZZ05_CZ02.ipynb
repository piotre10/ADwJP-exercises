{
 "cells": [
  {
   "cell_type": "markdown",
   "id": "92693001",
   "metadata": {
    "deletable": false,
    "editable": false,
    "nbgrader": {
     "cell_type": "markdown",
     "checksum": "4d87ed846e09cbf1c8eae4e0f16bea9b",
     "grade": false,
     "grade_id": "cell-fcd2666579131b77",
     "locked": true,
     "schema_version": 3,
     "solution": false,
     "task": false
    },
    "tags": []
   },
   "source": [
    "# Analiza danych w języku Python - ćwiczenia laboratoryjne 2022/2023\n",
    "\n",
    "Ten notatnik zalicza się do grupy zestawów zadań, na podstawie których odbywa się zaliczenie ćwiczeń i podlega zwrotowi do oceny w ustalonym na zajęciach terminie.\n",
    "\n",
    "Uwagi i wytyczne ogólne dotyczące uzupełniania i oceny notatnika:\n",
    "- Podczas wykonywania zadań należy korzystać wyłącznie z pakietów zaimportowanych na początku notatnika oraz z pakietów wchodzących w skład standardowej biblioteki Pythona, które można zaimportować samodzielnie we wskazanej komórce notatnika.\n",
    "- Swoje rozwiązania należy wprowadzać wyłącznie w miejce następujących fragmentów kodu:<br/> `# YOUR CODE HERE`<br/> `raise NotImplementedError()`<br/> \n",
    "a odpowiedzi tekstowe w komórkach oznaczonych hasłem:<br/> \n",
    "`YOUR ANSWER HERE`<br/> \n",
    "Nie należy w żaden sposób modyfikować pozostałych fragmentów kodu oraz innych elementów notatnika, w szczególności dodawać lub usuwać komórek oraz zmieniać nazwy pliku.\n",
    "- Jeżeli zestaw zadań wymaga skorzystania z fragmentów kodu opracowanego w ramach wcześniejszych zestawów zadań należy je umieścić we wskazanej komórce notatnika.\n",
    "- Otrzymywane wyniki i odpowiedzi mają być rezultatem wykonania napisanego kodu, odpowiedzi uzupełniane manualnie nie podlegają ocenie.\n",
    "- Zadanie należy wykonać w taki sposób, aby podczas wykonywania kodu nie zostały wyświetlone żadne ostrzeżenia.\n",
    "- Zawarte w notatniku automatyczne testy mają charakter poglądowy. Dotyczą one wybranych aspektów zadań i mają za zadanie wyłapać podstawowe błędy. Przejście wszystkich testów nie oznacza, że zadanie jest wykonane w całości poprawnie i zostanie ocenione na maksymalną liczbę punktów.\n",
    "- Zadania, które powodują wyświetlenie komunikatu o błędzie przerywającym wykonywanie kodu nie podlegają ocenie.\n",
    "\n",
    "Uwagi i wytyczne ogólne dotyczące wizualizacji wyników:\n",
    "- Wszystkie wykresy powinny być wykonane w jednolitym, przejrzystym i czytelnym stylu, posiadać odpowiednio dobrane proporcje i zakresy wartości osi.\n",
    "- Wykresy oraz ich osie powinny mieć nadane tytuły. Jeżeli w obrębie figury znajduje się więcej niż jeden wykres to figura również powinna mieć nadany tytuł. \n",
    "- Figury powinny mieć ustawione białe tło, tak, aby niezależnie od ustawień notatnika wszystkie elementy wykresów były dobrze widoczne (domyślnie tło jest przeźroczyste co może powodować problemy w notatnikach z ustawionym ciemnym tłem).\n",
    "- Rozmiar poziomy figur nie powinien przekraczać 20 cali.\n",
    "\n",
    "Przed odesłaniem zestawu zadań do oceny proszę uzupełnić komórkę z danymi autorów rozwiązania (`NAME` - nazwa zespołu, `COLLABORATORS` - imiona, nazwiska i numery indeksów członków zespołu) oraz upewnić się, że notatnik działa zgodnie z oczekiwaniami. W tym celu należy skorzystać z opcji **Restart Kernel and Run All Cells...** dostępnej na górnej belce notatnika pod symbolem $\\blacktriangleright\\blacktriangleright$."
   ]
  },
  {
   "cell_type": "code",
   "execution_count": null,
   "id": "33ca7cac",
   "metadata": {},
   "outputs": [],
   "source": [
    "NAME = \"IAD28\"\n",
    "COLLABORATORS = \"Radosław Matuszczyk 405124, Piotr Łukasiewicz 406163\""
   ]
  },
  {
   "cell_type": "markdown",
   "id": "fa39ef5d",
   "metadata": {
    "deletable": false,
    "editable": false,
    "nbgrader": {
     "cell_type": "markdown",
     "checksum": "eddc8826810e4a6f7bf68319da334bd9",
     "grade": false,
     "grade_id": "cell-109006d425e5cf83",
     "locked": true,
     "schema_version": 3,
     "solution": false,
     "task": false
    },
    "tags": []
   },
   "source": [
    "---"
   ]
  },
  {
   "cell_type": "markdown",
   "id": "a234133b-21c9-477b-aebd-210c0417cac2",
   "metadata": {
    "deletable": false,
    "editable": false,
    "nbgrader": {
     "cell_type": "markdown",
     "checksum": "480c6a30b115ec9fee0103e72dd32e66",
     "grade": false,
     "grade_id": "cell-0f6bab42a8d2cae3",
     "locked": true,
     "schema_version": 3,
     "solution": false,
     "task": false
    },
    "tags": []
   },
   "source": [
    "## Zestaw zadań 5: Weryfikacja hipotez statystycznych (Notatnik 2/2)"
   ]
  },
  {
   "cell_type": "code",
   "execution_count": null,
   "id": "d381e407-f057-40f6-9e5f-69db59b9985d",
   "metadata": {
    "deletable": false,
    "editable": false,
    "nbgrader": {
     "cell_type": "code",
     "checksum": "9589072a6a4ffc81b5ed14e30c2350d8",
     "grade": false,
     "grade_id": "cell-07c32fd193c88e2a",
     "locked": true,
     "schema_version": 3,
     "solution": false,
     "task": false
    },
    "tags": []
   },
   "outputs": [],
   "source": [
    "import numpy as np\n",
    "import pandas as pd\n",
    "import scipy as sp\n",
    "import matplotlib as mpl\n",
    "import matplotlib.pyplot as plt\n",
    "import seaborn as sns"
   ]
  },
  {
   "cell_type": "code",
   "execution_count": null,
   "id": "34b6beba-d49e-4f64-9d8d-bfc20c713f07",
   "metadata": {},
   "outputs": [],
   "source": [
    "# Miejsce do importu pakietów wchodzących w skład standardowej biblioteki Pythona oraz ustawienie opcji wykorzystywanych pakietów"
   ]
  },
  {
   "cell_type": "code",
   "execution_count": null,
   "id": "183a7860-e1a8-423e-9a9d-d52322c7534e",
   "metadata": {
    "deletable": false,
    "editable": false,
    "nbgrader": {
     "cell_type": "code",
     "checksum": "8342f0c630e90619c35fdc93edaa4a67",
     "grade": false,
     "grade_id": "cell-4814a6e43b50a5e2",
     "locked": true,
     "schema_version": 3,
     "solution": false,
     "task": false
    },
    "tags": []
   },
   "outputs": [],
   "source": [
    "# Dane do testów\n",
    "x = sp.stats.norm.rvs(loc=10, scale=1.5, size=120, random_state=7)\n",
    "y = sp.stats.norm.rvs(loc=0, scale=0.25, size=120, random_state=10) * x + 5\n",
    "test_data_1 = pd.DataFrame(data=np.vstack([x, y]).T, columns=[\"x\", \"y\"])\n",
    "test_data_1.head()"
   ]
  },
  {
   "cell_type": "code",
   "execution_count": null,
   "id": "37a1377f-cb09-4be4-a974-7281b8b0040d",
   "metadata": {
    "deletable": false,
    "editable": false,
    "nbgrader": {
     "cell_type": "code",
     "checksum": "1c98512d7b24caf5511bb6ee60d5e7b7",
     "grade": false,
     "grade_id": "cell-a41da285cadb2160",
     "locked": true,
     "schema_version": 3,
     "solution": false,
     "task": false
    },
    "tags": []
   },
   "outputs": [],
   "source": [
    "# Dane do testów\n",
    "x = sp.stats.uniform.rvs(loc=0, scale=10, size=90, random_state=7)\n",
    "y = 0.75*x  + sp.stats.norm.rvs(loc=0, scale=0.75, size=90, random_state=42) + 2\n",
    "test_data_2 = pd.DataFrame(data=np.vstack([x, y]).T, columns=[\"x\", \"y\"])\n",
    "test_data_2.head()"
   ]
  },
  {
   "cell_type": "code",
   "execution_count": null,
   "id": "d2ea1069-c5d2-4bfe-9a7f-4c8c1b64add8",
   "metadata": {
    "deletable": false,
    "editable": false,
    "nbgrader": {
     "cell_type": "code",
     "checksum": "a783d266ef7b20d5700fd0466306f6e3",
     "grade": false,
     "grade_id": "cell-c831c5548504f0a5",
     "locked": true,
     "schema_version": 3,
     "solution": false,
     "task": false
    },
    "tags": []
   },
   "outputs": [],
   "source": [
    "# Dane do testów\n",
    "x = sp.stats.uniform.rvs(loc=0, scale=10, size=70, random_state=17)\n",
    "y = x  + 1.25*np.sin(x) + sp.stats.norm.rvs(loc=1, scale=1.5, size=70, random_state=5)\n",
    "test_data_3 = pd.DataFrame(data=np.vstack([x, y]).T, columns=[\"x\", \"y\"])\n",
    "test_data_3.head()"
   ]
  },
  {
   "cell_type": "markdown",
   "id": "f83a1f96-c7db-4135-9bf7-2296ad200678",
   "metadata": {
    "deletable": false,
    "editable": false,
    "nbgrader": {
     "cell_type": "markdown",
     "checksum": "9c65ddb47e594eae8bd1ba3f2025cd6b",
     "grade": false,
     "grade_id": "cell-9f057a395f7dff8a",
     "locked": true,
     "schema_version": 3,
     "solution": false,
     "task": false
    },
    "tags": []
   },
   "source": [
    "### Zadanie 4: Weryfikacja hipotezy o wartości współczynnika prostej regresji [10 pkt]\n",
    "\n",
    "Przygotuj funkcję `regression_coefficient_NHST()`, która będzie weryfikować hipotezę o wartości współczynnika równania regresji liniowej i wyświetlać wynik testu statystycznego zgodnie z wytycznymi zawartymi w treści zadania oraz w docstring funkcji.\n",
    "\n",
    "Poza zwracaniem zmiennych wymienionych w docsting funkcji, które są potrzebne do przeprowadzenia automatycznych testów funkcji powinna ona generować wykres zawierający:\n",
    "- funkcję gęstości prawdopodobieństwa rozkładu teoretycznego wykorzystywanego w teście w zakresie od wartości, dla której dystrybuanta tego rozkładu przyjmuje wartość 0.0001 do wartości, dla której dystrybuanta tego rozkładu przyjmuje wartość 0.9999,\n",
    "- zaznaczony wyróżniającym się kolorem fragmentem pola pod krzywą odpowiadający wyznaczonemu w teście obszarowi krytycznemu,\n",
    "- wyróżniającą się kolorem pionowę linię wysokości 1/3 maksymalnej wartości funkcji gęstości prawdopodobieństwa wskazującą obliczoną wartość statystyki t.\n",
    "\n",
    "Tytuł wykresu powinien zawierać w kolejnych liniach informację o:\n",
    "- postaci hipotezy zerowej,\n",
    "- postaci hipotezy alternatywnej,\n",
    "- wartości wyznaczonych statystyk t i t_alpha,\n",
    "- zależność między wartościami statystyk decydującą o wyniku testu,\n",
    "- informację o wyniku testu: \"Wynik testu istotności nie daje podstaw do odrzucenia H0 na rzecz H1 na poziomie istotności 1-alpha = A\" lub \"Odrzucenie H0 na rzecz H1 na poziomie istotności 1-alpha = A\".\n",
    "\n",
    "Wszystkie występująca w tytule informacja o testowanym współczynniku (a, b) oraz wartości liczbowe powinny być automatycznie uzupełniane przez funkcję i odpowiednio sformatowane (4 miejsca po przecinku w przypadku t i t_alpha, pozostałe wartości z formatowaniem domyślnym).\n",
    "\n",
    "Przykład komunikatu zawartego w tytule figury:</br>\n",
    "    `H0: a = 0.3`</br>\n",
    "    `H1: a ≠ 0.3`</br>\n",
    "    `t = 1.2140, t_alpha = 2.1448`</br>\n",
    "    `|t| < t_alpha`</br>\n",
    "    `Wynik testu istotności nie daje podstaw do odrzucenia H0 na rzecz H1 na poziomie istotności 1-alpha = 0.95`</br>"
   ]
  },
  {
   "cell_type": "code",
   "execution_count": null,
   "id": "ad31cf34-2ea3-4c95-a248-981d93f8ecc9",
   "metadata": {
    "deletable": false,
    "nbgrader": {
     "cell_type": "code",
     "checksum": "886842a86b9b2d8be33e9d105722967c",
     "grade": false,
     "grade_id": "cell-76bed301339216ae",
     "locked": false,
     "schema_version": 3,
     "solution": true,
     "task": false
    },
    "tags": []
   },
   "outputs": [],
   "source": [
    "def regression_coefficient_NHST(data, coef, H0, H1, alpha):\n",
    "    \"\"\"\n",
    "    Parameters\n",
    "    -------\n",
    "    data: DataFrame\n",
    "        Tablica zawierająca domyślny indeks oraz kolumny \"x\" i \"y\" z wynikami próby losowej.\n",
    "    coef: str\n",
    "        \"a\" lub \"b\" w zależności od testowanego współczynnika równania regresji.\n",
    "    H0: float\n",
    "        Wartość współczynnika przyjęta jako hipoteza zerowa.\n",
    "    H1: str\n",
    "        Postać hipotezy alternatywnej, przyjmuje wartości:\n",
    "        - two-sided: wartość współczynnika jest różna od wartości przyjętej w H0,\n",
    "        - less: wartość współczynnika jest mniejsza od wartości przyjętej w H0,\n",
    "        - greater: wartość współczynnika jest większa od wartości przyjętej w H0.\n",
    "    alpha: float\n",
    "        Wartość określająca poziom istotności.\n",
    "    \n",
    "    Returns\n",
    "    -------\n",
    "    t: float\n",
    "        Wyliczona na podstawie próby losowej wartość statystyki t.\n",
    "    t_alpha: float\n",
    "        Wartość statystyki t_alpha.\n",
    "    H: int\n",
    "        Wynik testu statystycznego, przyjmuje wartość:\n",
    "        0 - gdy wynik testu istotności nie daje podstaw do odrzucenia H0 na rzecz H1 na poziomie istotności 1-alpha,\n",
    "        1 - gdy następuje odrzucenie H0 na rzecz H1 na poziomie istotności 1-alpha.\n",
    "    \"\"\"\n",
    "    # YOUR CODE HERE\n",
    "    \n",
    "    res = sp.stats.linregress(data['x'], data['y'])\n",
    "    a = res.slope\n",
    "    b = res.intercept\n",
    "    n = len(data)\n",
    "    \n",
    "    y_pred = a*data['x'] + b\n",
    "    \n",
    "    S2 = np.sum((data['y'] - y_pred)**2) / (n-2)\n",
    "    \n",
    "    \n",
    "    x_start = sp.stats.t.ppf(0.0001, n-2)\n",
    "    x_stop = sp.stats.t.ppf(0.9999, n-2)\n",
    "    x = np.linspace(x_start, x_stop, 1000)\n",
    "    y = sp.stats.t.pdf(x, n-2)\n",
    "    plt.figure(figsize=(8,3))\n",
    "    plt.plot(x, y, 'k')\n",
    "    \n",
    "    if coef == 'a':\n",
    "        D = np.sqrt(S2 / np.sum((data['x'] - np.mean(data['x']))**2))\n",
    "        t = (a - H0) / D\n",
    "    elif coef == 'b':\n",
    "        D = np.sqrt(S2*np.sum(data['x']**2) / (n*np.sum((data['x'] - np.mean(data['x']))**2)))\n",
    "        t = (b - H0) / D\n",
    "        \n",
    "    if H1 == 'two-sided':\n",
    "        sign = '≠'\n",
    "        inequality_reject = '|t| >= t_alpha'\n",
    "        inequality_keep = '|t| < t_alpha'\n",
    "        t_alpha = sp.stats.t.ppf(1 - alpha/2, n-2)\n",
    "        H = int(abs(t) >= t_alpha)\n",
    "        fill_x1 = np.linspace(x_start, -t_alpha, 500)\n",
    "        fill_x2 = np.linspace(t_alpha, x_stop, 500)\n",
    "        fill_y1 = sp.stats.t.pdf(fill_x1, n-2)\n",
    "        fill_y2 = sp.stats.t.pdf(fill_x2, n-2)\n",
    "        plt.fill_between(fill_x1, fill_y1, color='tab:green')\n",
    "        plt.fill_between(fill_x2, fill_y2, color='tab:green')\n",
    "        \n",
    "    elif H1 == 'less':\n",
    "        sign = '<'\n",
    "        inequality_reject = 't <= t_alpha'\n",
    "        inequality_keep = 't > t_alpha'\n",
    "        t_alpha = sp.stats.t.ppf(alpha, n-2)\n",
    "        H = int(t <= t_alpha)\n",
    "        fill_x = np.linspace(x_start, t_alpha, 500)\n",
    "        fill_y = sp.stats.t.pdf(fill_x, n-2)\n",
    "        plt.fill_between(fill_x, fill_y, color='tab:green')\n",
    "    elif H1 == 'greater':\n",
    "        sign = '>'\n",
    "        inequality_reject = 't >= t_alpha'\n",
    "        inequality_keep = 't < t_alpha'\n",
    "        t_alpha = sp.stats.t.ppf(1 - alpha, n-2)\n",
    "        H = int(t >= t_alpha)\n",
    "        fill_x = np.linspace(t_alpha, x_stop, 500)\n",
    "        fill_y = sp.stats.t.pdf(fill_x, n-2)\n",
    "        plt.fill_between(fill_x, fill_y, color='tab:green')\n",
    "        \n",
    "    \n",
    "    plt.vlines(t, ymin=0, ymax=y.max()/3, color='r')\n",
    "    \n",
    "    if H:\n",
    "        plt.title(f\"\"\"H0: {coef} = {H0}\n",
    "H1: {coef} {sign} {H0}\n",
    "{t = :.4f} {t_alpha = :.4f}\n",
    "{inequality_reject}\n",
    "Odrzucenie H0 na rzecz H1 na poziomie istotności {1-alpha = }\"\"\")\n",
    "    else:\n",
    "        plt.title(f\"\"\"H0: {coef} = {H0}\n",
    "H1: {coef} {sign} {H0}\n",
    "{t = :.4f} {t_alpha = :.4f}\n",
    "{inequality_keep}\n",
    "Wynik testu istotności nie daje podstaw do odrzucenia H0 na rzecz H1 na poziomie istotności {1-alpha = }\"\"\")\n",
    "\n",
    "    return t, t_alpha, H\n",
    "    "
   ]
  },
  {
   "cell_type": "code",
   "execution_count": null,
   "id": "2640fa5e-fedb-4c83-aaa8-769ee930b986",
   "metadata": {
    "deletable": false,
    "editable": false,
    "nbgrader": {
     "cell_type": "code",
     "checksum": "499a2adaaf4023b7ef728783ad1caffd",
     "grade": true,
     "grade_id": "cell-a0701afd37928043",
     "locked": true,
     "points": 10,
     "schema_version": 3,
     "solution": false,
     "task": false
    },
    "tags": []
   },
   "outputs": [],
   "source": [
    "### Komórka testowa\n",
    "\n",
    "assert np.all(np.isclose(regression_coefficient_NHST(test_data_1, \"a\", 0.4, \"two-sided\", 0.05), (-2.4099957692531735, 1.9802722492407059, 1)))\n",
    "assert np.all(np.isclose(regression_coefficient_NHST(test_data_1, \"b\", 4.5, \"two-sided\", 0.05), (0.18283553669953134, 1.9802722492407059, 0)))\n",
    "assert np.all(np.isclose(regression_coefficient_NHST(test_data_2, \"a\", 0.7, \"greater\", 0.02), (1.6790640072789238, 2.084638091603984, 0)))\n",
    "assert np.all(np.isclose(regression_coefficient_NHST(test_data_2, \"b\", 2.4, \"less\", 0.02), (-2.8374847222952546, -2.084638091603984, 1)))\n",
    "assert np.all(np.isclose(regression_coefficient_NHST(test_data_2, \"a\", 0.85, \"less\", 0.01), (-3.56782781135344, -2.369472273998314, 1)))\n",
    "assert np.all(np.isclose(regression_coefficient_NHST(test_data_2, \"b\", 1.5, \"greater\", 0.01), (2.667124457352881, 2.3694722739983134, 1)))"
   ]
  },
  {
   "cell_type": "markdown",
   "id": "c460961d-079a-41a7-92ee-58680372e57a",
   "metadata": {
    "deletable": false,
    "editable": false,
    "nbgrader": {
     "cell_type": "markdown",
     "checksum": "3a07dacf1bb4e92d5fcdb545d2e17870",
     "grade": false,
     "grade_id": "cell-784396e640e15561",
     "locked": true,
     "schema_version": 3,
     "solution": false,
     "task": false
    },
    "tags": []
   },
   "source": [
    "### Zadanie 5: Weryfikacja hipotezy o losowości próby (test serii) [10 pkt]\n",
    "\n",
    "Przygotuj funkcję `sample_randomness_NHST()`, która będzie weryfikować hipotezę o losowości próby i wyświetlać wynik testu statystycznego zgodnie z wytycznymi zawartymi w treści zadania oraz w docstring funkcji.\n",
    "\n",
    "Poza zwracaniem zmiennych wymienionych w docsting funkcji, które są potrzebne do przeprowadzenia automatycznych testów funkcji powinna ona generować wykres zawierający:\n",
    "- funkcję gęstości prawdopodobieństwa rozkładu teoretycznego wykorzystywanego w teście w zakresie od wartości, dla której dystrybuanta tego rozkładu przyjmuje wartość 0.0001 do wartości, dla której dystrybuanta tego rozkładu przyjmuje wartość 0.9999,\n",
    "- zaznaczony wyróżniającym się kolorem fragmentem pola pod krzywą odpowiadający wyznaczonemu w teście obszarowi krytycznemu,\n",
    "- wyróżniającą się kolorem pionowę linię wysokości 1/3 maksymalnej wartości funkcji gęstości prawdopodobieństwa wskazującą obliczoną wartość statystyki u.\n",
    "\n",
    "Tytuł wykresu powinien zawierać w kolejnych liniach informację o:\n",
    "- postaci hipotezy zerowej,\n",
    "- postaci hipotezy alternatywnej,\n",
    "- wartości wyznaczonych statystyk u i u_alpha,\n",
    "- zależność między wartościami statystyk decydującą o wyniku testu,\n",
    "- informację o wyniku testu: \"Wynik testu istotności nie daje podstaw do odrzucenia H0 na rzecz H1 na poziomie istotności 1-alpha = A\" lub \"Odrzucenie H0 na rzecz H1 na poziomie istotności 1-alpha = A\".\n",
    "\n",
    "Wszystkie występujące w tytule wartości liczbowe powinny być automatycznie uzupełniane przez funkcję i odpowiednio sformatowane (4 miejsca po przecinku w przypadku u i u_alpha, pozostałe wartości z formatowaniem domyślnym).\n",
    "\n",
    "Przykład komunikatu zawartego w tytule figury:</br>\n",
    "    `H0: Dobór jednostek do próby jest losowy`</br>\n",
    "    `H1: Dobór jednostek do próby nie jest losowy`</br>\n",
    "    `u = 1.3462, u_alpha = 1.6449`</br>\n",
    "    `|u| < u_alpha`</br>\n",
    "    `Wynik testu istotności nie daje podstaw do odrzucenia H0 na rzecz H1 na poziomie istotności 1-alpha = 0.95`</br>"
   ]
  },
  {
   "cell_type": "code",
   "execution_count": null,
   "id": "3158102d-6e5d-43b5-8d20-c259c302b1ed",
   "metadata": {
    "deletable": false,
    "nbgrader": {
     "cell_type": "code",
     "checksum": "84a9215c657f18ca3961f94e8eac7342",
     "grade": false,
     "grade_id": "cell-24bb3a117e63d1a5",
     "locked": false,
     "schema_version": 3,
     "solution": true,
     "task": false
    },
    "tags": []
   },
   "outputs": [],
   "source": [
    "def sample_randomness_NHST(data, alpha):\n",
    "    \"\"\"\n",
    "    Parameters\n",
    "    -------\n",
    "    data: DataFrame\n",
    "        Tablica zawierająca domyślny indeks oraz kolumny \"x\" i \"y\" z wynikami próby.\n",
    "    alpha: float\n",
    "        Wartość określająca poziom istotności.\n",
    "    \n",
    "    Returns\n",
    "    -------\n",
    "    u: float\n",
    "        Wyliczona na podstawie próby wartość statystyki u.\n",
    "    u_alpha: float\n",
    "        Wartość statystyki u_alpha.\n",
    "    H: int\n",
    "        Wynik testu statystycznego, przyjmuje wartość:\n",
    "        0 - gdy wynik testu istotności nie daje podstaw do odrzucenia H0 na rzecz H1 na poziomie istotności 1-alpha,\n",
    "        1 - gdy następuje odrzucenie H0 na rzecz H1 na poziomie istotności 1-alpha.\n",
    "    \"\"\"\n",
    "    # YOUR CODE HERE\n",
    "    raise NotImplementedError()"
   ]
  },
  {
   "cell_type": "code",
   "execution_count": null,
   "id": "eaf70ee6-0468-4087-85a0-0d190cda9b67",
   "metadata": {
    "deletable": false,
    "editable": false,
    "nbgrader": {
     "cell_type": "code",
     "checksum": "e4a2c65e84f3fa9aff2fa8db50f59c4c",
     "grade": true,
     "grade_id": "cell-243eed59d7b4912a",
     "locked": true,
     "points": 10,
     "schema_version": 3,
     "solution": false,
     "task": false
    },
    "tags": []
   },
   "outputs": [],
   "source": [
    "### Komórka testowa\n",
    "\n",
    "assert np.all(np.isclose(sample_randomness_NHST(test_data_2, 0.05), (1.2774271521862057, 1.959963984540054, 0)))\n",
    "assert np.all(np.isclose(sample_randomness_NHST(test_data_3, 0.05), (-2.2266930916721734, 1.959963984540054, 1)))\n",
    "assert np.all(np.isclose(sample_randomness_NHST(test_data_3, 0.02), (-2.2266930916721734, 2.3263478740408408, 0)))\n",
    "assert np.all(np.isclose(sample_randomness_NHST(test_data_3, 0.1), (-2.2266930916721734, 1.6448536269514722, 1)))"
   ]
  }
 ],
 "metadata": {
  "kernelspec": {
   "display_name": "Python 3 (ipykernel)",
   "language": "python",
   "name": "python3"
  },
  "language_info": {
   "codemirror_mode": {
    "name": "ipython",
    "version": 3
   },
   "file_extension": ".py",
   "mimetype": "text/x-python",
   "name": "python",
   "nbconvert_exporter": "python",
   "pygments_lexer": "ipython3",
   "version": "3.10.9"
  }
 },
 "nbformat": 4,
 "nbformat_minor": 5
}
