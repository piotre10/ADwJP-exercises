{
 "cells": [
  {
   "cell_type": "markdown",
   "id": "9719d5fd",
   "metadata": {
    "deletable": false,
    "editable": false,
    "nbgrader": {
     "cell_type": "markdown",
     "checksum": "4d87ed846e09cbf1c8eae4e0f16bea9b",
     "grade": false,
     "grade_id": "cell-fcd2666579131b77",
     "locked": true,
     "schema_version": 3,
     "solution": false,
     "task": false
    },
    "tags": []
   },
   "source": [
    "# Analiza danych w języku Python - ćwiczenia laboratoryjne 2022/2023\n",
    "\n",
    "Ten notatnik zalicza się do grupy zestawów zadań, na podstawie których odbywa się zaliczenie ćwiczeń i podlega zwrotowi do oceny w ustalonym na zajęciach terminie.\n",
    "\n",
    "Uwagi i wytyczne ogólne dotyczące uzupełniania i oceny notatnika:\n",
    "- Podczas wykonywania zadań należy korzystać wyłącznie z pakietów zaimportowanych na początku notatnika oraz z pakietów wchodzących w skład standardowej biblioteki Pythona, które można zaimportować samodzielnie we wskazanej komórce notatnika.\n",
    "- Swoje rozwiązania należy wprowadzać wyłącznie w miejce następujących fragmentów kodu:<br/> `# YOUR CODE HERE`<br/> `raise NotImplementedError()`<br/> \n",
    "a odpowiedzi tekstowe w komórkach oznaczonych hasłem:<br/> \n",
    "`YOUR ANSWER HERE`<br/> \n",
    "Nie należy w żaden sposób modyfikować pozostałych fragmentów kodu oraz innych elementów notatnika, w szczególności dodawać lub usuwać komórek oraz zmieniać nazwy pliku.\n",
    "- Jeżeli zestaw zadań wymaga skorzystania z fragmentów kodu opracowanego w ramach wcześniejszych zestawów zadań należy je umieścić we wskazanej komórce notatnika.\n",
    "- Otrzymywane wyniki i odpowiedzi mają być rezultatem wykonania napisanego kodu, odpowiedzi uzupełniane manualnie nie podlegają ocenie.\n",
    "- Zadanie należy wykonać w taki sposób, aby podczas wykonywania kodu nie zostały wyświetlone żadne ostrzeżenia.\n",
    "- Zawarte w notatniku automatyczne testy mają charakter poglądowy. Dotyczą one wybranych aspektów zadań i mają za zadanie wyłapać podstawowe błędy. Przejście wszystkich testów nie oznacza, że zadanie jest wykonane w całości poprawnie i zostanie ocenione na maksymalną liczbę punktów.\n",
    "- Zadania, które powodują wyświetlenie komunikatu o błędzie przerywającym wykonywanie kodu nie podlegają ocenie.\n",
    "\n",
    "Uwagi i wytyczne ogólne dotyczące wizualizacji wyników:\n",
    "- Wszystkie wykresy powinny być wykonane w jednolitym, przejrzystym i czytelnym stylu, posiadać odpowiednio dobrane proporcje i zakresy wartości osi.\n",
    "- Wykresy oraz ich osie powinny mieć nadane tytuły. Jeżeli w obrębie figury znajduje się więcej niż jeden wykres to figura również powinna mieć nadany tytuł. \n",
    "- Figury powinny mieć ustawione białe tło, tak, aby niezależnie od ustawień notatnika wszystkie elementy wykresów były dobrze widoczne (domyślnie tło jest przeźroczyste co może powodować problemy w notatnikach z ustawionym ciemnym tłem).\n",
    "- Rozmiar poziomy figur nie powinien przekraczać 20 cali.\n",
    "\n",
    "Przed odesłaniem zestawu zadań do oceny proszę uzupełnić komórkę z danymi autorów rozwiązania (`NAME` - nazwa zespołu, `COLLABORATORS` - imiona, nazwiska i numery indeksów członków zespołu) oraz upewnić się, że notatnik działa zgodnie z oczekiwaniami. W tym celu należy skorzystać z opcji **Restart Kernel and Run All Cells...** dostępnej na górnej belce notatnika pod symbolem $\\blacktriangleright\\blacktriangleright$."
   ]
  },
  {
   "cell_type": "code",
   "execution_count": null,
   "id": "cf200f0e",
   "metadata": {
    "tags": []
   },
   "outputs": [],
   "source": [
    "NAME = \"IAD28\"\n",
    "COLLABORATORS = \"Radosław Matuszczyk 405124, Piotr Łukasiewicz 406163\""
   ]
  },
  {
   "cell_type": "markdown",
   "id": "169e997e",
   "metadata": {
    "deletable": false,
    "editable": false,
    "nbgrader": {
     "cell_type": "markdown",
     "checksum": "eddc8826810e4a6f7bf68319da334bd9",
     "grade": false,
     "grade_id": "cell-109006d425e5cf83",
     "locked": true,
     "schema_version": 3,
     "solution": false,
     "task": false
    },
    "tags": []
   },
   "source": [
    "---"
   ]
  },
  {
   "cell_type": "markdown",
   "id": "fe74743f-1998-4812-ac65-974bd8469d8d",
   "metadata": {
    "deletable": false,
    "editable": false,
    "nbgrader": {
     "cell_type": "markdown",
     "checksum": "afea21673faf8e4e031d657f42e9d28b",
     "grade": false,
     "grade_id": "cell-21ac76da9323c36f",
     "locked": true,
     "schema_version": 3,
     "solution": false,
     "task": false
    },
    "tags": []
   },
   "source": [
    "## Zestaw zadań 1: Elementy statystyki opisowej 1 (Notatnik 1/4)"
   ]
  },
  {
   "cell_type": "code",
   "execution_count": null,
   "id": "7f9968ab-aec5-4893-b0ad-34121d66004f",
   "metadata": {
    "deletable": false,
    "editable": false,
    "nbgrader": {
     "cell_type": "code",
     "checksum": "13fce11c9aa1c5bf83764c476647dd97",
     "grade": false,
     "grade_id": "cell-4a5af93ac80c2e34",
     "locked": true,
     "schema_version": 3,
     "solution": false,
     "task": false
    },
    "tags": []
   },
   "outputs": [],
   "source": [
    "import numpy as np\n",
    "import pandas as pd\n",
    "import scipy as sp\n",
    "import matplotlib as mpl\n",
    "import matplotlib.pyplot as plt\n",
    "import seaborn as sns\n",
    "import dataframe_image as dfi"
   ]
  },
  {
   "cell_type": "code",
   "execution_count": null,
   "id": "c444ab45-1fe7-4008-8c3c-2b1b526a1fbc",
   "metadata": {},
   "outputs": [],
   "source": [
    "# Miejsce do importu pakietów wchodzących w skład standardowej biblioteki Pythona oraz ustawienie opcji wykorzystywanych pakietów"
   ]
  },
  {
   "cell_type": "markdown",
   "id": "3e77dfbb-90cf-463e-b9a7-62e85b221474",
   "metadata": {
    "deletable": false,
    "editable": false,
    "nbgrader": {
     "cell_type": "markdown",
     "checksum": "402700a83e3190463d3229bb7589e90d",
     "grade": false,
     "grade_id": "cell-8251a8dc1dba0354",
     "locked": true,
     "schema_version": 3,
     "solution": false,
     "task": false
    },
    "tags": []
   },
   "source": [
    "### Zadanie 1: Przygotowanie danych [10 pkt]\n",
    "\n",
    "Plik raw_data.csv zawiera informacje na temat erupcji wulkanów pobrane ze strony https://volcano.si.edu/.\n",
    "\n",
    "Zaimportuj zawarte w pliku dane do notatnika a następnie utwórz na ich podstawie tablicę `eruptions_data` wykonaną według następujących wytycznych:\n",
    "\n",
    "- Tablica powinna zawierać wyłącznie następujące elementy:</br>\n",
    "    Indeks: Eruption Number</br>\n",
    "    Kolumny: Volcano Name, Eruption Category, Evidence Type, Evidence Method, VEI, Start Year, Start Month, Start Day, End Year, End Month, End Day, Evidence Type, Evidence Method</br>\n",
    "    Kolumny Evidence Type i Evidence Method powstają poprzez rozbicie kolumny Evidence Method (dating) zawartej w danych wejściowych na dwie osobne kolumny. Zamień brakujące wartości w tych kolumnach (NaN) odpowiednio na 'Uncertain' i 'Unspecified'.\n",
    "- Tablica nie powinna zawierać wierszy dotyczących podważanych (ang. discredited) erupcji oraz erupcji, dla których nie została określona wartość VEI (Volcanic Explosivity Index).\n",
    "- Z nazw zawartych w kolumnie Eruption Category należy usunąć słowo \"Eruption\" pozostawiając tylko pierwsze człony zawartych w niej określeń.\n",
    "- Niektóre z erupcji mają wpisane wartości miesiąca i dnia ich początku lub końca jako 0, należy zmienić te wartości na NaN.\n",
    "Zapisz tablicę do pliku `eruption_data.csv`.\n",
    "\n",
    "Wyświetl przygotowaną tablicę w taki sposób aby widoczne było po 10 pierwszych i ostatnich wierszy, a zawarte w tablicy liczby wyświetlały się bez miejsc po przecinku (przydatne funkcje: `pandas.io.formats.style.Styler.format_index()`, `pandas.io.formats.style.Styler.format()`, `pandas.io.formats.style.Styler.hide()`)."
   ]
  },
  {
   "cell_type": "code",
   "execution_count": null,
   "id": "a1a3f1e9-3392-41a0-a73d-167b235303dd",
   "metadata": {
    "deletable": false,
    "nbgrader": {
     "cell_type": "code",
     "checksum": "69701381bad47b312d4a37590f131714",
     "grade": false,
     "grade_id": "cell-aa85199b5cb633d2",
     "locked": false,
     "schema_version": 3,
     "solution": true,
     "task": false
    },
    "tags": []
   },
   "outputs": [],
   "source": [
    "# YOUR CODE HERE\n",
    "raw_data = pd.read_csv('raw_data.csv', skiprows=1, index_col='Eruption Number')\n",
    "\n",
    "df1 = raw_data[['Volcano Name', 'Eruption Category', 'VEI', 'Start Year', 'Start Month', 'Start Day', 'End Year', 'End Month', 'End Day', 'Evidence Method (dating)']].copy()\n",
    "\n",
    "df1[['Evidence Type','Evidence Method']] = df1['Evidence Method (dating)'].str.split(': ', expand=True)\n",
    "df1['Evidence Type'] = df1['Evidence Type'].astype(object).where(pd.notnull(df1['Evidence Type']), 'Uncertain').astype('string')\n",
    "df1['Evidence Method'] = df1['Evidence Method'].astype(object).where(pd.notnull(df1['Evidence Method']), 'Unspecified').astype('string')\n",
    "df1.drop(columns=['Evidence Method (dating)'], inplace=True)\n",
    "df1.head(10)\n",
    "\n",
    "df2 = df1[(df1['Eruption Category'] != 'Discredited Eruption') & (df1['VEI'].notna())].copy()\n",
    "\n",
    "df3 = df2.copy()\n",
    "df3['Eruption Category'] = df3['Eruption Category'].str.replace(' Eruption', '')\n",
    "\n",
    "df4 = df3.copy()\n",
    "cols = ['Start Day','Start Month', 'End Day', 'End Month']\n",
    "df4[cols] = df4[cols].replace(0, np.nan)\n",
    "\n",
    "eruptions_data = df4.copy()\n",
    "eruptions_data.to_csv('eruptions_data.csv')\n",
    "pd.io.formats.style.Styler(data=eruptions_data, precision=0).hide(eruptions_data.index[10:-10])\n"
   ]
  },
  {
   "cell_type": "code",
   "execution_count": null,
   "id": "e39740a0-38f2-4b64-83f3-28b3c612b28c",
   "metadata": {
    "deletable": false,
    "editable": false,
    "nbgrader": {
     "cell_type": "code",
     "checksum": "90f14148a6cb7533dce094de682912b2",
     "grade": true,
     "grade_id": "cell-683b0a3c6c74d0c6",
     "locked": true,
     "points": 10,
     "schema_version": 3,
     "solution": false,
     "task": false
    },
    "tags": []
   },
   "outputs": [],
   "source": [
    "### Komórka testowa\n",
    "# Test 1 Kształt tablicy\n",
    "assert eruptions_data.shape == (8285, 11)\n",
    "# Test 2 Kolumny\n",
    "assert len(set(list(eruptions_data.columns)) & set(['Volcano Name', 'Eruption Category', 'VEI', 'Start Year', 'Start Month', 'Start Day',\n",
    "                                                    'End Year', 'End Month', 'End Day', \"Evidence Type\", \"Evidence Method\"])) == 11\n",
    "# Test 3 Indeks\n",
    "assert (eruptions_data.index.name == 'Eruption Number') == True\n",
    "assert eruptions_data.index.values.min() == 10018\n",
    "assert eruptions_data.index.values.max() == 22488\n",
    "# Test 4 Zawartość kolumn tekstowych\n",
    "assert len(eruptions_data[\"Volcano Name\"].unique()) == 714\n",
    "assert np.all([eruptions_data[\"Eruption Category\"].unique() == ['Confirmed', 'Uncertain']])\n",
    "assert len(set(list(eruptions_data[\"Evidence Type\"].unique())) & set(['Observations', 'Isotopic', 'Correlation', 'Sidereal', 'Radiogenic', 'Uncertain'])) == 6\n",
    "assert len(set(list(eruptions_data[\"Evidence Method\"].unique())) & set(['Reported', 'Satellite (infrared)', 'Satellite (visual)',\n",
    "                                                    'Seismicity', 'Hydrophonic', 'Photo / Video', 'Aviation', 'Uranium-series',\n",
    "                                                    'Magnetism', '14C (calibrated)', 'Tephrochronology', 'Varve Count', 'Anthropology',\n",
    "                                                    'Dendrochronology', 'Ice Core', '14C (uncalibrated)', 'Cosmic Ray Exposure', 'Ar/Ar',\n",
    "                                                    'Fission track', 'K/Ar', 'Thermoluminescence', 'Unspecified'])) == 22\n",
    "assert eruptions_data[\"Evidence Method\"].isna().sum()==0 or (eruptions_data[\"Evidence Method\"]=='nan').sum()==0 or (eruptions_data[\"Evidence Method\"]=='NaN').sum()==0\n",
    "# Test 5 Wartości NaN w kolumnach liczbowych\n",
    "assert eruptions_data[\"VEI\"].isna().sum() == 0\n",
    "assert eruptions_data[\"Start Year\"].isna().sum() == 0\n",
    "assert eruptions_data[\"Start Month\"].isna().sum() == 2697\n",
    "assert eruptions_data[\"Start Day\"].isna().sum() == 3431\n",
    "assert eruptions_data[\"End Year\"].isna().sum() == 4064\n",
    "assert eruptions_data[\"End Month\"].isna().sum() == 4300\n",
    "assert eruptions_data[\"End Day\"].isna().sum() == 4743"
   ]
  }
 ],
 "metadata": {
  "kernelspec": {
   "display_name": "Python 3 (ipykernel)",
   "language": "python",
   "name": "python3"
  },
  "language_info": {
   "codemirror_mode": {
    "name": "ipython",
    "version": 3
   },
   "file_extension": ".py",
   "mimetype": "text/x-python",
   "name": "python",
   "nbconvert_exporter": "python",
   "pygments_lexer": "ipython3",
   "version": "3.11.2"
  }
 },
 "nbformat": 4,
 "nbformat_minor": 5
}
