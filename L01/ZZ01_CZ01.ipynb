{
 "cells": [
  {
   "cell_type": "markdown",
   "id": "9719d5fd",
   "metadata": {
    "deletable": false,
    "editable": false,
    "nbgrader": {
     "cell_type": "markdown",
     "checksum": "4d87ed846e09cbf1c8eae4e0f16bea9b",
     "grade": false,
     "grade_id": "cell-fcd2666579131b77",
     "locked": true,
     "schema_version": 3,
     "solution": false,
     "task": false
    },
    "tags": []
   },
   "source": [
    "# Analiza danych w języku Python - ćwiczenia laboratoryjne 2022/2023\n",
    "\n",
    "Ten notatnik zalicza się do grupy zestawów zadań, na podstawie których odbywa się zaliczenie ćwiczeń i podlega zwrotowi do oceny w ustalonym na zajęciach terminie.\n",
    "\n",
    "Uwagi i wytyczne ogólne dotyczące uzupełniania i oceny notatnika:\n",
    "- Podczas wykonywania zadań należy korzystać wyłącznie z pakietów zaimportowanych na początku notatnika oraz z pakietów wchodzących w skład standardowej biblioteki Pythona, które można zaimportować samodzielnie we wskazanej komórce notatnika.\n",
    "- Swoje rozwiązania należy wprowadzać wyłącznie w miejce następujących fragmentów kodu:<br/> `# YOUR CODE HERE`<br/> `raise NotImplementedError()`<br/> \n",
    "a odpowiedzi tekstowe w komórkach oznaczonych hasłem:<br/> \n",
    "`YOUR ANSWER HERE`<br/> \n",
    "Nie należy w żaden sposób modyfikować pozostałych fragmentów kodu oraz innych elementów notatnika, w szczególności dodawać lub usuwać komórek oraz zmieniać nazwy pliku.\n",
    "- Jeżeli zestaw zadań wymaga skorzystania z fragmentów kodu opracowanego w ramach wcześniejszych zestawów zadań należy je umieścić we wskazanej komórce notatnika.\n",
    "- Otrzymywane wyniki i odpowiedzi mają być rezultatem wykonania napisanego kodu, odpowiedzi uzupełniane manualnie nie podlegają ocenie.\n",
    "- Zadanie należy wykonać w taki sposób, aby podczas wykonywania kodu nie zostały wyświetlone żadne ostrzeżenia.\n",
    "- Zawarte w notatniku automatyczne testy mają charakter poglądowy. Dotyczą one wybranych aspektów zadań i mają za zadanie wyłapać podstawowe błędy. Przejście wszystkich testów nie oznacza, że zadanie jest wykonane w całości poprawnie i zostanie ocenione na maksymalną liczbę punktów.\n",
    "- Zadania, które powodują wyświetlenie komunikatu o błędzie przerywającym wykonywanie kodu nie podlegają ocenie.\n",
    "\n",
    "Uwagi i wytyczne ogólne dotyczące wizualizacji wyników:\n",
    "- Wszystkie wykresy powinny być wykonane w jednolitym, przejrzystym i czytelnym stylu, posiadać odpowiednio dobrane proporcje i zakresy wartości osi.\n",
    "- Wykresy oraz ich osie powinny mieć nadane tytuły. Jeżeli w obrębie figury znajduje się więcej niż jeden wykres to figura również powinna mieć nadany tytuł. \n",
    "- Figury powinny mieć ustawione białe tło, tak, aby niezależnie od ustawień notatnika wszystkie elementy wykresów były dobrze widoczne (domyślnie tło jest przeźroczyste co może powodować problemy w notatnikach z ustawionym ciemnym tłem).\n",
    "- Rozmiar poziomy figur nie powinien przekraczać 20 cali.\n",
    "\n",
    "Przed odesłaniem zestawu zadań do oceny proszę uzupełnić komórkę z danymi autorów rozwiązania (`NAME` - nazwa zespołu, `COLLABORATORS` - imiona, nazwiska i numery indeksów członków zespołu) oraz upewnić się, że notatnik działa zgodnie z oczekiwaniami. W tym celu należy skorzystać z opcji **Restart Kernel and Run All Cells...** dostępnej na górnej belce notatnika pod symbolem $\\blacktriangleright\\blacktriangleright$."
   ]
  },
  {
   "cell_type": "code",
   "execution_count": 1,
   "id": "cf200f0e",
   "metadata": {
    "tags": []
   },
   "outputs": [],
   "source": [
    "NAME = \"IAD28\"\n",
    "COLLABORATORS = \"Radosław Matuszczyk 405124, Piotr Łukasiewicz 406163\""
   ]
  },
  {
   "cell_type": "markdown",
   "id": "169e997e",
   "metadata": {
    "deletable": false,
    "editable": false,
    "nbgrader": {
     "cell_type": "markdown",
     "checksum": "eddc8826810e4a6f7bf68319da334bd9",
     "grade": false,
     "grade_id": "cell-109006d425e5cf83",
     "locked": true,
     "schema_version": 3,
     "solution": false,
     "task": false
    },
    "tags": []
   },
   "source": [
    "---"
   ]
  },
  {
   "cell_type": "markdown",
   "id": "fe74743f-1998-4812-ac65-974bd8469d8d",
   "metadata": {
    "deletable": false,
    "editable": false,
    "nbgrader": {
     "cell_type": "markdown",
     "checksum": "afea21673faf8e4e031d657f42e9d28b",
     "grade": false,
     "grade_id": "cell-21ac76da9323c36f",
     "locked": true,
     "schema_version": 3,
     "solution": false,
     "task": false
    },
    "tags": []
   },
   "source": [
    "## Zestaw zadań 1: Elementy statystyki opisowej 1 (Notatnik 1/4)"
   ]
  },
  {
   "cell_type": "code",
   "execution_count": 2,
   "id": "7f9968ab-aec5-4893-b0ad-34121d66004f",
   "metadata": {
    "deletable": false,
    "editable": false,
    "nbgrader": {
     "cell_type": "code",
     "checksum": "13fce11c9aa1c5bf83764c476647dd97",
     "grade": false,
     "grade_id": "cell-4a5af93ac80c2e34",
     "locked": true,
     "schema_version": 3,
     "solution": false,
     "task": false
    },
    "tags": []
   },
   "outputs": [],
   "source": [
    "import numpy as np\n",
    "import pandas as pd\n",
    "import scipy as sp\n",
    "import matplotlib as mpl\n",
    "import matplotlib.pyplot as plt\n",
    "import seaborn as sns\n",
    "import dataframe_image as dfi"
   ]
  },
  {
   "cell_type": "code",
   "execution_count": 3,
   "id": "c444ab45-1fe7-4008-8c3c-2b1b526a1fbc",
   "metadata": {},
   "outputs": [],
   "source": [
    "# Miejsce do importu pakietów wchodzących w skład standardowej biblioteki Pythona oraz ustawienie opcji wykorzystywanych pakietów"
   ]
  },
  {
   "cell_type": "markdown",
   "id": "3e77dfbb-90cf-463e-b9a7-62e85b221474",
   "metadata": {
    "deletable": false,
    "editable": false,
    "nbgrader": {
     "cell_type": "markdown",
     "checksum": "402700a83e3190463d3229bb7589e90d",
     "grade": false,
     "grade_id": "cell-8251a8dc1dba0354",
     "locked": true,
     "schema_version": 3,
     "solution": false,
     "task": false
    },
    "tags": []
   },
   "source": [
    "### Zadanie 1: Przygotowanie danych [10 pkt]\n",
    "\n",
    "Plik raw_data.csv zawiera informacje na temat erupcji wulkanów pobrane ze strony https://volcano.si.edu/.\n",
    "\n",
    "Zaimportuj zawarte w pliku dane do notatnika a następnie utwórz na ich podstawie tablicę `eruptions_data` wykonaną według następujących wytycznych:\n",
    "\n",
    "- Tablica powinna zawierać wyłącznie następujące elementy:</br>\n",
    "    Indeks: Eruption Number</br>\n",
    "    Kolumny: Volcano Name, Eruption Category, Evidence Type, Evidence Method, VEI, Start Year, Start Month, Start Day, End Year, End Month, End Day, Evidence Type, Evidence Method</br>\n",
    "    Kolumny Evidence Type i Evidence Method powstają poprzez rozbicie kolumny Evidence Method (dating) zawartej w danych wejściowych na dwie osobne kolumny. Zamień brakujące wartości w tych kolumnach (NaN) odpowiednio na 'Uncertain' i 'Unspecified'.\n",
    "- Tablica nie powinna zawierać wierszy dotyczących podważanych (ang. discredited) erupcji oraz erupcji, dla których nie została określona wartość VEI (Volcanic Explosivity Index).\n",
    "- Z nazw zawartych w kolumnie Eruption Category należy usunąć słowo \"Eruption\" pozostawiając tylko pierwsze człony zawartych w niej określeń.\n",
    "- Niektóre z erupcji mają wpisane wartości miesiąca i dnia ich początku lub końca jako 0, należy zmienić te wartości na NaN.\n",
    "Zapisz tablicę do pliku `eruption_data.csv`.\n",
    "\n",
    "Wyświetl przygotowaną tablicę w taki sposób aby widoczne było po 10 pierwszych i ostatnich wierszy, a zawarte w tablicy liczby wyświetlały się bez miejsc po przecinku (przydatne funkcje: `pandas.io.formats.style.Styler.format_index()`, `pandas.io.formats.style.Styler.format()`, `pandas.io.formats.style.Styler.hide()`)."
   ]
  },
  {
   "cell_type": "code",
   "execution_count": 4,
   "id": "a1a3f1e9-3392-41a0-a73d-167b235303dd",
   "metadata": {
    "deletable": false,
    "nbgrader": {
     "cell_type": "code",
     "checksum": "69701381bad47b312d4a37590f131714",
     "grade": false,
     "grade_id": "cell-aa85199b5cb633d2",
     "locked": false,
     "schema_version": 3,
     "solution": true,
     "task": false
    },
    "tags": []
   },
   "outputs": [
    {
     "ename": "ValueError",
     "evalue": "Your Styled DataFrame has more than 100 rows and will produce a huge image file, possibly causing your computer to crash. Override this error by explicitly setting `max_rows` to -1 for all columns. Styled DataFrames are unable to select a subset of rows or columns and therefore do not work with the `max_rows` and `max_cols` parameters",
     "output_type": "error",
     "traceback": [
      "\u001B[0;31m---------------------------------------------------------------------------\u001B[0m",
      "\u001B[0;31mValueError\u001B[0m                                Traceback (most recent call last)",
      "Cell \u001B[0;32mIn[4], line 24\u001B[0m\n\u001B[1;32m     22\u001B[0m eruptions_data\u001B[38;5;241m.\u001B[39mto_csv(\u001B[38;5;124m'\u001B[39m\u001B[38;5;124meruptions_data.csv\u001B[39m\u001B[38;5;124m'\u001B[39m)\n\u001B[1;32m     23\u001B[0m styled_df \u001B[38;5;241m=\u001B[39m eruptions_data\u001B[38;5;241m.\u001B[39mstyle\u001B[38;5;241m.\u001B[39mformat(precision\u001B[38;5;241m=\u001B[39m\u001B[38;5;241m0\u001B[39m)\u001B[38;5;241m.\u001B[39mhide(eruptions_data\u001B[38;5;241m.\u001B[39mindex[\u001B[38;5;241m10\u001B[39m:\u001B[38;5;241m-\u001B[39m\u001B[38;5;241m10\u001B[39m])\n\u001B[0;32m---> 24\u001B[0m \u001B[43mdfi\u001B[49m\u001B[38;5;241;43m.\u001B[39;49m\u001B[43mexport\u001B[49m\u001B[43m(\u001B[49m\u001B[43mstyled_df\u001B[49m\u001B[43m,\u001B[49m\u001B[43m \u001B[49m\u001B[38;5;124;43m'\u001B[39;49m\u001B[38;5;124;43meruptions_data.png\u001B[39;49m\u001B[38;5;124;43m'\u001B[39;49m\u001B[43m)\u001B[49m\n\u001B[1;32m     25\u001B[0m styled_df\n",
      "File \u001B[0;32m~/.local/lib/python3.11/site-packages/dataframe_image/_pandas_accessor.py:48\u001B[0m, in \u001B[0;36mexport\u001B[0;34m(obj, filename, fontsize, max_rows, max_cols, table_conversion, chrome_path, dpi)\u001B[0m\n\u001B[1;32m     38\u001B[0m \u001B[38;5;28;01mdef\u001B[39;00m \u001B[38;5;21mexport\u001B[39m(\n\u001B[1;32m     39\u001B[0m     obj,\n\u001B[1;32m     40\u001B[0m     filename,\n\u001B[0;32m   (...)\u001B[0m\n\u001B[1;32m     46\u001B[0m     dpi\u001B[38;5;241m=\u001B[39m\u001B[38;5;28;01mNone\u001B[39;00m\n\u001B[1;32m     47\u001B[0m ):\n\u001B[0;32m---> 48\u001B[0m     \u001B[38;5;28;01mreturn\u001B[39;00m \u001B[43m_export\u001B[49m\u001B[43m(\u001B[49m\n\u001B[1;32m     49\u001B[0m \u001B[43m        \u001B[49m\u001B[43mobj\u001B[49m\u001B[43m,\u001B[49m\u001B[43m \u001B[49m\u001B[43mfilename\u001B[49m\u001B[43m,\u001B[49m\u001B[43m \u001B[49m\u001B[43mfontsize\u001B[49m\u001B[43m,\u001B[49m\u001B[43m \u001B[49m\u001B[43mmax_rows\u001B[49m\u001B[43m,\u001B[49m\u001B[43m \u001B[49m\u001B[43mmax_cols\u001B[49m\u001B[43m,\u001B[49m\u001B[43m \u001B[49m\u001B[43mtable_conversion\u001B[49m\u001B[43m,\u001B[49m\u001B[43m \u001B[49m\u001B[43mchrome_path\u001B[49m\u001B[43m,\u001B[49m\u001B[43m \u001B[49m\u001B[43mdpi\u001B[49m\n\u001B[1;32m     50\u001B[0m \u001B[43m   \u001B[49m\u001B[43m)\u001B[49m\n",
      "File \u001B[0;32m~/.local/lib/python3.11/site-packages/dataframe_image/_pandas_accessor.py:88\u001B[0m, in \u001B[0;36m_export\u001B[0;34m(obj, filename, fontsize, max_rows, max_cols, table_conversion, chrome_path, dpi)\u001B[0m\n\u001B[1;32m     80\u001B[0m     \u001B[38;5;28;01mif\u001B[39;00m is_styler:\n\u001B[1;32m     81\u001B[0m         error_msg \u001B[38;5;241m=\u001B[39m (\n\u001B[1;32m     82\u001B[0m             \u001B[38;5;124mf\u001B[39m\u001B[38;5;124m\"\u001B[39m\u001B[38;5;124mYour Styled DataFrame has more than \u001B[39m\u001B[38;5;132;01m{\u001B[39;00mMAX_ROWS\u001B[38;5;132;01m}\u001B[39;00m\u001B[38;5;124m rows and will produce \u001B[39m\u001B[38;5;124m\"\u001B[39m\n\u001B[1;32m     83\u001B[0m             \u001B[38;5;124m\"\u001B[39m\u001B[38;5;124ma huge image file, possibly causing your computer to crash. Override \u001B[39m\u001B[38;5;124m\"\u001B[39m\n\u001B[0;32m   (...)\u001B[0m\n\u001B[1;32m     86\u001B[0m             \u001B[38;5;124m\"\u001B[39m\u001B[38;5;124mand therefore do not work with the `max_rows` and `max_cols` parameters\u001B[39m\u001B[38;5;124m\"\u001B[39m\n\u001B[1;32m     87\u001B[0m         )\n\u001B[0;32m---> 88\u001B[0m     \u001B[38;5;28;01mraise\u001B[39;00m \u001B[38;5;167;01mValueError\u001B[39;00m(error_msg)\n\u001B[1;32m     89\u001B[0m \u001B[38;5;28;01mif\u001B[39;00m max_rows \u001B[38;5;241m==\u001B[39m \u001B[38;5;241m-\u001B[39m\u001B[38;5;241m1\u001B[39m:\n\u001B[1;32m     90\u001B[0m     max_rows \u001B[38;5;241m=\u001B[39m \u001B[38;5;28;01mNone\u001B[39;00m\n",
      "\u001B[0;31mValueError\u001B[0m: Your Styled DataFrame has more than 100 rows and will produce a huge image file, possibly causing your computer to crash. Override this error by explicitly setting `max_rows` to -1 for all columns. Styled DataFrames are unable to select a subset of rows or columns and therefore do not work with the `max_rows` and `max_cols` parameters"
     ]
    }
   ],
   "source": [
    "# YOUR CODE HERE\n",
    "raw_data = pd.read_csv('raw_data.csv', skiprows=1, index_col='Eruption Number')\n",
    "\n",
    "df1 = raw_data[['Volcano Name', 'Eruption Category', 'VEI', 'Start Year', 'Start Month', 'Start Day', 'End Year', 'End Month', 'End Day', 'Evidence Method (dating)']].copy()\n",
    "\n",
    "df1[['Evidence Type','Evidence Method']] = df1['Evidence Method (dating)'].str.split(': ', expand=True)\n",
    "df1['Evidence Type'] = df1['Evidence Type'].astype(object).where(pd.notnull(df1['Evidence Type']), 'Uncertain').astype('string')\n",
    "df1['Evidence Method'] = df1['Evidence Method'].astype(object).where(pd.notnull(df1['Evidence Method']), 'Unspecified').astype('string')\n",
    "df1.drop(columns=['Evidence Method (dating)'], inplace=True)\n",
    "df1.head(10)\n",
    "\n",
    "df2 = df1[(df1['Eruption Category'] != 'Discredited Eruption') & (df1['VEI'].notna())].copy()\n",
    "\n",
    "df3 = df2.copy()\n",
    "df3['Eruption Category'] = df3['Eruption Category'].str.replace(' Eruption', '')\n",
    "\n",
    "df4 = df3.copy()\n",
    "cols = ['Start Day','Start Month', 'End Day', 'End Month']\n",
    "df4[cols] = df4[cols].replace(0, np.nan)\n",
    "\n",
    "eruptions_data = df4.copy()\n",
    "eruptions_data.to_csv('eruptions_data.csv')\n",
    "styled_df = eruptions_data.style.format(precision=0).hide(eruptions_data.index[10:-10])\n",
    "dfi.export(styled_df, 'eruptions_data.png')\n",
    "styled_df"
   ]
  },
  {
   "cell_type": "code",
   "execution_count": 6,
   "outputs": [
    {
     "data": {
      "text/plain": "<pandas.io.formats.style.Styler at 0x7fcb70604910>",
      "text/html": "<style type=\"text/css\">\n</style>\n<table id=\"T_63c80\">\n  <thead>\n    <tr>\n      <th class=\"blank level0\" >&nbsp;</th>\n      <th id=\"T_63c80_level0_col0\" class=\"col_heading level0 col0\" >Volcano Name</th>\n      <th id=\"T_63c80_level0_col1\" class=\"col_heading level0 col1\" >Eruption Category</th>\n      <th id=\"T_63c80_level0_col2\" class=\"col_heading level0 col2\" >VEI</th>\n      <th id=\"T_63c80_level0_col3\" class=\"col_heading level0 col3\" >Start Year</th>\n      <th id=\"T_63c80_level0_col4\" class=\"col_heading level0 col4\" >Start Month</th>\n      <th id=\"T_63c80_level0_col5\" class=\"col_heading level0 col5\" >Start Day</th>\n      <th id=\"T_63c80_level0_col6\" class=\"col_heading level0 col6\" >End Year</th>\n      <th id=\"T_63c80_level0_col7\" class=\"col_heading level0 col7\" >End Month</th>\n      <th id=\"T_63c80_level0_col8\" class=\"col_heading level0 col8\" >End Day</th>\n      <th id=\"T_63c80_level0_col9\" class=\"col_heading level0 col9\" >Evidence Type</th>\n      <th id=\"T_63c80_level0_col10\" class=\"col_heading level0 col10\" >Evidence Method</th>\n    </tr>\n    <tr>\n      <th class=\"index_name level0\" >Eruption Number</th>\n      <th class=\"blank col0\" >&nbsp;</th>\n      <th class=\"blank col1\" >&nbsp;</th>\n      <th class=\"blank col2\" >&nbsp;</th>\n      <th class=\"blank col3\" >&nbsp;</th>\n      <th class=\"blank col4\" >&nbsp;</th>\n      <th class=\"blank col5\" >&nbsp;</th>\n      <th class=\"blank col6\" >&nbsp;</th>\n      <th class=\"blank col7\" >&nbsp;</th>\n      <th class=\"blank col8\" >&nbsp;</th>\n      <th class=\"blank col9\" >&nbsp;</th>\n      <th class=\"blank col10\" >&nbsp;</th>\n    </tr>\n  </thead>\n  <tbody>\n    <tr>\n      <th id=\"T_63c80_level0_row0\" class=\"row_heading level0 row0\" >22486</th>\n      <td id=\"T_63c80_row0_col0\" class=\"data row0 col0\" >Cotopaxi</td>\n      <td id=\"T_63c80_row0_col1\" class=\"data row0 col1\" >Confirmed</td>\n      <td id=\"T_63c80_row0_col2\" class=\"data row0 col2\" >2</td>\n      <td id=\"T_63c80_row0_col3\" class=\"data row0 col3\" >2022</td>\n      <td id=\"T_63c80_row0_col4\" class=\"data row0 col4\" >10</td>\n      <td id=\"T_63c80_row0_col5\" class=\"data row0 col5\" >21</td>\n      <td id=\"T_63c80_row0_col6\" class=\"data row0 col6\" >2022</td>\n      <td id=\"T_63c80_row0_col7\" class=\"data row0 col7\" >12</td>\n      <td id=\"T_63c80_row0_col8\" class=\"data row0 col8\" >19</td>\n      <td id=\"T_63c80_row0_col9\" class=\"data row0 col9\" >Observations</td>\n      <td id=\"T_63c80_row0_col10\" class=\"data row0 col10\" >Reported</td>\n    </tr>\n    <tr>\n      <th id=\"T_63c80_level0_row1\" class=\"row_heading level0 row1\" >22481</th>\n      <td id=\"T_63c80_row1_col0\" class=\"data row1 col0\" >Taal</td>\n      <td id=\"T_63c80_row1_col1\" class=\"data row1 col1\" >Confirmed</td>\n      <td id=\"T_63c80_row1_col2\" class=\"data row1 col2\" >1</td>\n      <td id=\"T_63c80_row1_col3\" class=\"data row1 col3\" >2022</td>\n      <td id=\"T_63c80_row1_col4\" class=\"data row1 col4\" >10</td>\n      <td id=\"T_63c80_row1_col5\" class=\"data row1 col5\" >5</td>\n      <td id=\"T_63c80_row1_col6\" class=\"data row1 col6\" >2022</td>\n      <td id=\"T_63c80_row1_col7\" class=\"data row1 col7\" >10</td>\n      <td id=\"T_63c80_row1_col8\" class=\"data row1 col8\" >29</td>\n      <td id=\"T_63c80_row1_col9\" class=\"data row1 col9\" >Observations</td>\n      <td id=\"T_63c80_row1_col10\" class=\"data row1 col10\" >Reported</td>\n    </tr>\n    <tr>\n      <th id=\"T_63c80_level0_row2\" class=\"row_heading level0 row2\" >22458</th>\n      <td id=\"T_63c80_row2_col0\" class=\"data row2 col0\" >Turrialba</td>\n      <td id=\"T_63c80_row2_col1\" class=\"data row2 col1\" >Confirmed</td>\n      <td id=\"T_63c80_row2_col2\" class=\"data row2 col2\" >1</td>\n      <td id=\"T_63c80_row2_col3\" class=\"data row2 col3\" >2022</td>\n      <td id=\"T_63c80_row2_col4\" class=\"data row2 col4\" >7</td>\n      <td id=\"T_63c80_row2_col5\" class=\"data row2 col5\" >17</td>\n      <td id=\"T_63c80_row2_col6\" class=\"data row2 col6\" >2022</td>\n      <td id=\"T_63c80_row2_col7\" class=\"data row2 col7\" >7</td>\n      <td id=\"T_63c80_row2_col8\" class=\"data row2 col8\" >17</td>\n      <td id=\"T_63c80_row2_col9\" class=\"data row2 col9\" >Observations</td>\n      <td id=\"T_63c80_row2_col10\" class=\"data row2 col10\" >Reported</td>\n    </tr>\n    <tr>\n      <th id=\"T_63c80_level0_row3\" class=\"row_heading level0 row3\" >22453</th>\n      <td id=\"T_63c80_row3_col0\" class=\"data row3 col0\" >Ulawun</td>\n      <td id=\"T_63c80_row3_col1\" class=\"data row3 col1\" >Confirmed</td>\n      <td id=\"T_63c80_row3_col2\" class=\"data row3 col2\" >2</td>\n      <td id=\"T_63c80_row3_col3\" class=\"data row3 col3\" >2022</td>\n      <td id=\"T_63c80_row3_col4\" class=\"data row3 col4\" >6</td>\n      <td id=\"T_63c80_row3_col5\" class=\"data row3 col5\" >2</td>\n      <td id=\"T_63c80_row3_col6\" class=\"data row3 col6\" >2022</td>\n      <td id=\"T_63c80_row3_col7\" class=\"data row3 col7\" >6</td>\n      <td id=\"T_63c80_row3_col8\" class=\"data row3 col8\" >2</td>\n      <td id=\"T_63c80_row3_col9\" class=\"data row3 col9\" >Observations</td>\n      <td id=\"T_63c80_row3_col10\" class=\"data row3 col10\" >Reported</td>\n    </tr>\n    <tr>\n      <th id=\"T_63c80_level0_row4\" class=\"row_heading level0 row4\" >22454</th>\n      <td id=\"T_63c80_row4_col0\" class=\"data row4 col0\" >Raung</td>\n      <td id=\"T_63c80_row4_col1\" class=\"data row4 col1\" >Confirmed</td>\n      <td id=\"T_63c80_row4_col2\" class=\"data row4 col2\" >2</td>\n      <td id=\"T_63c80_row4_col3\" class=\"data row4 col3\" >2022</td>\n      <td id=\"T_63c80_row4_col4\" class=\"data row4 col4\" >5</td>\n      <td id=\"T_63c80_row4_col5\" class=\"data row4 col5\" >14</td>\n      <td id=\"T_63c80_row4_col6\" class=\"data row4 col6\" >2022</td>\n      <td id=\"T_63c80_row4_col7\" class=\"data row4 col7\" >9</td>\n      <td id=\"T_63c80_row4_col8\" class=\"data row4 col8\" >27</td>\n      <td id=\"T_63c80_row4_col9\" class=\"data row4 col9\" >Observations</td>\n      <td id=\"T_63c80_row4_col10\" class=\"data row4 col10\" >Satellite (infrared)</td>\n    </tr>\n    <tr>\n      <th id=\"T_63c80_level0_row5\" class=\"row_heading level0 row5\" >22445</th>\n      <td id=\"T_63c80_row5_col0\" class=\"data row5 col0\" >Gaua</td>\n      <td id=\"T_63c80_row5_col1\" class=\"data row5 col1\" >Confirmed</td>\n      <td id=\"T_63c80_row5_col2\" class=\"data row5 col2\" >1</td>\n      <td id=\"T_63c80_row5_col3\" class=\"data row5 col3\" >2022</td>\n      <td id=\"T_63c80_row5_col4\" class=\"data row5 col4\" >5</td>\n      <td id=\"T_63c80_row5_col5\" class=\"data row5 col5\" >3</td>\n      <td id=\"T_63c80_row5_col6\" class=\"data row5 col6\" >2022</td>\n      <td id=\"T_63c80_row5_col7\" class=\"data row5 col7\" >5</td>\n      <td id=\"T_63c80_row5_col8\" class=\"data row5 col8\" >3</td>\n      <td id=\"T_63c80_row5_col9\" class=\"data row5 col9\" >Observations</td>\n      <td id=\"T_63c80_row5_col10\" class=\"data row5 col10\" >Reported</td>\n    </tr>\n    <tr>\n      <th id=\"T_63c80_level0_row6\" class=\"row_heading level0 row6\" >22451</th>\n      <td id=\"T_63c80_row6_col0\" class=\"data row6 col0\" >Purace</td>\n      <td id=\"T_63c80_row6_col1\" class=\"data row6 col1\" >Confirmed</td>\n      <td id=\"T_63c80_row6_col2\" class=\"data row6 col2\" >1</td>\n      <td id=\"T_63c80_row6_col3\" class=\"data row6 col3\" >2022</td>\n      <td id=\"T_63c80_row6_col4\" class=\"data row6 col4\" >3</td>\n      <td id=\"T_63c80_row6_col5\" class=\"data row6 col5\" >29</td>\n      <td id=\"T_63c80_row6_col6\" class=\"data row6 col6\" >2022</td>\n      <td id=\"T_63c80_row6_col7\" class=\"data row6 col7\" >3</td>\n      <td id=\"T_63c80_row6_col8\" class=\"data row6 col8\" >29</td>\n      <td id=\"T_63c80_row6_col9\" class=\"data row6 col9\" >Observations</td>\n      <td id=\"T_63c80_row6_col10\" class=\"data row6 col10\" >Reported</td>\n    </tr>\n    <tr>\n      <th id=\"T_63c80_level0_row7\" class=\"row_heading level0 row7\" >22430</th>\n      <td id=\"T_63c80_row7_col0\" class=\"data row7 col0\" >Ambrym</td>\n      <td id=\"T_63c80_row7_col1\" class=\"data row7 col1\" >Confirmed</td>\n      <td id=\"T_63c80_row7_col2\" class=\"data row7 col2\" >1</td>\n      <td id=\"T_63c80_row7_col3\" class=\"data row7 col3\" >2022</td>\n      <td id=\"T_63c80_row7_col4\" class=\"data row7 col4\" >1</td>\n      <td id=\"T_63c80_row7_col5\" class=\"data row7 col5\" >25</td>\n      <td id=\"T_63c80_row7_col6\" class=\"data row7 col6\" >2022</td>\n      <td id=\"T_63c80_row7_col7\" class=\"data row7 col7\" >2</td>\n      <td id=\"T_63c80_row7_col8\" class=\"data row7 col8\" >2</td>\n      <td id=\"T_63c80_row7_col9\" class=\"data row7 col9\" >Observations</td>\n      <td id=\"T_63c80_row7_col10\" class=\"data row7 col10\" >Reported</td>\n    </tr>\n    <tr>\n      <th id=\"T_63c80_level0_row8\" class=\"row_heading level0 row8\" >22456</th>\n      <td id=\"T_63c80_row8_col0\" class=\"data row8 col0\" >Chikurachki</td>\n      <td id=\"T_63c80_row8_col1\" class=\"data row8 col1\" >Confirmed</td>\n      <td id=\"T_63c80_row8_col2\" class=\"data row8 col2\" >2</td>\n      <td id=\"T_63c80_row8_col3\" class=\"data row8 col3\" >2022</td>\n      <td id=\"T_63c80_row8_col4\" class=\"data row8 col4\" >1</td>\n      <td id=\"T_63c80_row8_col5\" class=\"data row8 col5\" >17</td>\n      <td id=\"T_63c80_row8_col6\" class=\"data row8 col6\" >2022</td>\n      <td id=\"T_63c80_row8_col7\" class=\"data row8 col7\" >10</td>\n      <td id=\"T_63c80_row8_col8\" class=\"data row8 col8\" >17</td>\n      <td id=\"T_63c80_row8_col9\" class=\"data row8 col9\" >Observations</td>\n      <td id=\"T_63c80_row8_col10\" class=\"data row8 col10\" >Satellite (visual)</td>\n    </tr>\n    <tr>\n      <th id=\"T_63c80_level0_row9\" class=\"row_heading level0 row9\" >22431</th>\n      <td id=\"T_63c80_row9_col0\" class=\"data row9 col0\" >Wolf</td>\n      <td id=\"T_63c80_row9_col1\" class=\"data row9 col1\" >Confirmed</td>\n      <td id=\"T_63c80_row9_col2\" class=\"data row9 col2\" >2</td>\n      <td id=\"T_63c80_row9_col3\" class=\"data row9 col3\" >2022</td>\n      <td id=\"T_63c80_row9_col4\" class=\"data row9 col4\" >1</td>\n      <td id=\"T_63c80_row9_col5\" class=\"data row9 col5\" >6</td>\n      <td id=\"T_63c80_row9_col6\" class=\"data row9 col6\" >2022</td>\n      <td id=\"T_63c80_row9_col7\" class=\"data row9 col7\" >4</td>\n      <td id=\"T_63c80_row9_col8\" class=\"data row9 col8\" >14</td>\n      <td id=\"T_63c80_row9_col9\" class=\"data row9 col9\" >Observations</td>\n      <td id=\"T_63c80_row9_col10\" class=\"data row9 col10\" >Reported</td>\n    </tr>\n    <tr>\n      <th id=\"T_63c80_level0_row8275\" class=\"row_heading level0 row8275\" >14557</th>\n      <td id=\"T_63c80_row8275_col0\" class=\"data row8275 col0\" >Tongariro</td>\n      <td id=\"T_63c80_row8275_col1\" class=\"data row8275 col1\" >Confirmed</td>\n      <td id=\"T_63c80_row8275_col2\" class=\"data row8275 col2\" >5</td>\n      <td id=\"T_63c80_row8275_col3\" class=\"data row8275 col3\" >-9450</td>\n      <td id=\"T_63c80_row8275_col4\" class=\"data row8275 col4\" >nan</td>\n      <td id=\"T_63c80_row8275_col5\" class=\"data row8275 col5\" >nan</td>\n      <td id=\"T_63c80_row8275_col6\" class=\"data row8275 col6\" >nan</td>\n      <td id=\"T_63c80_row8275_col7\" class=\"data row8275 col7\" >nan</td>\n      <td id=\"T_63c80_row8275_col8\" class=\"data row8275 col8\" >nan</td>\n      <td id=\"T_63c80_row8275_col9\" class=\"data row8275 col9\" >Isotopic</td>\n      <td id=\"T_63c80_row8275_col10\" class=\"data row8275 col10\" >14C (calibrated)</td>\n    </tr>\n    <tr>\n      <th id=\"T_63c80_level0_row8276\" class=\"row_heading level0 row8276\" >14530</th>\n      <td id=\"T_63c80_row8276_col0\" class=\"data row8276 col0\" >Taupo</td>\n      <td id=\"T_63c80_row8276_col1\" class=\"data row8276 col1\" >Confirmed</td>\n      <td id=\"T_63c80_row8276_col2\" class=\"data row8276 col2\" >5</td>\n      <td id=\"T_63c80_row8276_col3\" class=\"data row8276 col3\" >-9460</td>\n      <td id=\"T_63c80_row8276_col4\" class=\"data row8276 col4\" >nan</td>\n      <td id=\"T_63c80_row8276_col5\" class=\"data row8276 col5\" >nan</td>\n      <td id=\"T_63c80_row8276_col6\" class=\"data row8276 col6\" >nan</td>\n      <td id=\"T_63c80_row8276_col7\" class=\"data row8276 col7\" >nan</td>\n      <td id=\"T_63c80_row8276_col8\" class=\"data row8276 col8\" >nan</td>\n      <td id=\"T_63c80_row8276_col9\" class=\"data row8276 col9\" >Isotopic</td>\n      <td id=\"T_63c80_row8276_col10\" class=\"data row8276 col10\" >14C (calibrated)</td>\n    </tr>\n    <tr>\n      <th id=\"T_63c80_level0_row8277\" class=\"row_heading level0 row8277\" >18091</th>\n      <td id=\"T_63c80_row8277_col0\" class=\"data row8277 col0\" >Towada</td>\n      <td id=\"T_63c80_row8277_col1\" class=\"data row8277 col1\" >Confirmed</td>\n      <td id=\"T_63c80_row8277_col2\" class=\"data row8277 col2\" >3</td>\n      <td id=\"T_63c80_row8277_col3\" class=\"data row8277 col3\" >-9490</td>\n      <td id=\"T_63c80_row8277_col4\" class=\"data row8277 col4\" >nan</td>\n      <td id=\"T_63c80_row8277_col5\" class=\"data row8277 col5\" >nan</td>\n      <td id=\"T_63c80_row8277_col6\" class=\"data row8277 col6\" >nan</td>\n      <td id=\"T_63c80_row8277_col7\" class=\"data row8277 col7\" >nan</td>\n      <td id=\"T_63c80_row8277_col8\" class=\"data row8277 col8\" >nan</td>\n      <td id=\"T_63c80_row8277_col9\" class=\"data row8277 col9\" >Isotopic</td>\n      <td id=\"T_63c80_row8277_col10\" class=\"data row8277 col10\" >14C (calibrated)</td>\n    </tr>\n    <tr>\n      <th id=\"T_63c80_level0_row8278\" class=\"row_heading level0 row8278\" >19487</th>\n      <td id=\"T_63c80_row8278_col0\" class=\"data row8278 col0\" >Khangar</td>\n      <td id=\"T_63c80_row8278_col1\" class=\"data row8278 col1\" >Confirmed</td>\n      <td id=\"T_63c80_row8278_col2\" class=\"data row8278 col2\" >4</td>\n      <td id=\"T_63c80_row8278_col3\" class=\"data row8278 col3\" >-9500</td>\n      <td id=\"T_63c80_row8278_col4\" class=\"data row8278 col4\" >nan</td>\n      <td id=\"T_63c80_row8278_col5\" class=\"data row8278 col5\" >nan</td>\n      <td id=\"T_63c80_row8278_col6\" class=\"data row8278 col6\" >nan</td>\n      <td id=\"T_63c80_row8278_col7\" class=\"data row8278 col7\" >nan</td>\n      <td id=\"T_63c80_row8278_col8\" class=\"data row8278 col8\" >nan</td>\n      <td id=\"T_63c80_row8278_col9\" class=\"data row8278 col9\" >Isotopic</td>\n      <td id=\"T_63c80_row8278_col10\" class=\"data row8278 col10\" >14C (calibrated)</td>\n    </tr>\n    <tr>\n      <th id=\"T_63c80_level0_row8279\" class=\"row_heading level0 row8279\" >12954</th>\n      <td id=\"T_63c80_row8279_col0\" class=\"data row8279 col0\" >Theistareykir</td>\n      <td id=\"T_63c80_row8279_col1\" class=\"data row8279 col1\" >Confirmed</td>\n      <td id=\"T_63c80_row8279_col2\" class=\"data row8279 col2\" >0</td>\n      <td id=\"T_63c80_row8279_col3\" class=\"data row8279 col3\" >-9500</td>\n      <td id=\"T_63c80_row8279_col4\" class=\"data row8279 col4\" >nan</td>\n      <td id=\"T_63c80_row8279_col5\" class=\"data row8279 col5\" >nan</td>\n      <td id=\"T_63c80_row8279_col6\" class=\"data row8279 col6\" >nan</td>\n      <td id=\"T_63c80_row8279_col7\" class=\"data row8279 col7\" >nan</td>\n      <td id=\"T_63c80_row8279_col8\" class=\"data row8279 col8\" >nan</td>\n      <td id=\"T_63c80_row8279_col9\" class=\"data row8279 col9\" >Correlation</td>\n      <td id=\"T_63c80_row8279_col10\" class=\"data row8279 col10\" >Tephrochronology</td>\n    </tr>\n    <tr>\n      <th id=\"T_63c80_level0_row8280\" class=\"row_heading level0 row8280\" >14556</th>\n      <td id=\"T_63c80_row8280_col0\" class=\"data row8280 col0\" >Tongariro</td>\n      <td id=\"T_63c80_row8280_col1\" class=\"data row8280 col1\" >Confirmed</td>\n      <td id=\"T_63c80_row8280_col2\" class=\"data row8280 col2\" >5</td>\n      <td id=\"T_63c80_row8280_col3\" class=\"data row8280 col3\" >-9650</td>\n      <td id=\"T_63c80_row8280_col4\" class=\"data row8280 col4\" >nan</td>\n      <td id=\"T_63c80_row8280_col5\" class=\"data row8280 col5\" >nan</td>\n      <td id=\"T_63c80_row8280_col6\" class=\"data row8280 col6\" >nan</td>\n      <td id=\"T_63c80_row8280_col7\" class=\"data row8280 col7\" >nan</td>\n      <td id=\"T_63c80_row8280_col8\" class=\"data row8280 col8\" >nan</td>\n      <td id=\"T_63c80_row8280_col9\" class=\"data row8280 col9\" >Correlation</td>\n      <td id=\"T_63c80_row8280_col10\" class=\"data row8280 col10\" >Tephrochronology</td>\n    </tr>\n    <tr>\n      <th id=\"T_63c80_level0_row8281\" class=\"row_heading level0 row8281\" >21101</th>\n      <td id=\"T_63c80_row8281_col0\" class=\"data row8281 col0\" >Craters of the Moon</td>\n      <td id=\"T_63c80_row8281_col1\" class=\"data row8281 col1\" >Confirmed</td>\n      <td id=\"T_63c80_row8281_col2\" class=\"data row8281 col2\" >0</td>\n      <td id=\"T_63c80_row8281_col3\" class=\"data row8281 col3\" >-10060</td>\n      <td id=\"T_63c80_row8281_col4\" class=\"data row8281 col4\" >nan</td>\n      <td id=\"T_63c80_row8281_col5\" class=\"data row8281 col5\" >nan</td>\n      <td id=\"T_63c80_row8281_col6\" class=\"data row8281 col6\" >nan</td>\n      <td id=\"T_63c80_row8281_col7\" class=\"data row8281 col7\" >nan</td>\n      <td id=\"T_63c80_row8281_col8\" class=\"data row8281 col8\" >nan</td>\n      <td id=\"T_63c80_row8281_col9\" class=\"data row8281 col9\" >Isotopic</td>\n      <td id=\"T_63c80_row8281_col10\" class=\"data row8281 col10\" >14C (uncalibrated)</td>\n    </tr>\n    <tr>\n      <th id=\"T_63c80_level0_row8282\" class=\"row_heading level0 row8282\" >22141</th>\n      <td id=\"T_63c80_row8282_col0\" class=\"data row8282 col0\" >Igwisi Hills</td>\n      <td id=\"T_63c80_row8282_col1\" class=\"data row8282 col1\" >Confirmed</td>\n      <td id=\"T_63c80_row8282_col2\" class=\"data row8282 col2\" >1</td>\n      <td id=\"T_63c80_row8282_col3\" class=\"data row8282 col3\" >-10450</td>\n      <td id=\"T_63c80_row8282_col4\" class=\"data row8282 col4\" >nan</td>\n      <td id=\"T_63c80_row8282_col5\" class=\"data row8282 col5\" >nan</td>\n      <td id=\"T_63c80_row8282_col6\" class=\"data row8282 col6\" >nan</td>\n      <td id=\"T_63c80_row8282_col7\" class=\"data row8282 col7\" >nan</td>\n      <td id=\"T_63c80_row8282_col8\" class=\"data row8282 col8\" >nan</td>\n      <td id=\"T_63c80_row8282_col9\" class=\"data row8282 col9\" >Isotopic</td>\n      <td id=\"T_63c80_row8282_col10\" class=\"data row8282 col10\" >Cosmic Ray Exposure</td>\n    </tr>\n    <tr>\n      <th id=\"T_63c80_level0_row8283\" class=\"row_heading level0 row8283\" >22351</th>\n      <td id=\"T_63c80_row8283_col0\" class=\"data row8283 col0\" >Quetrupillan</td>\n      <td id=\"T_63c80_row8283_col1\" class=\"data row8283 col1\" >Confirmed</td>\n      <td id=\"T_63c80_row8283_col2\" class=\"data row8283 col2\" >3</td>\n      <td id=\"T_63c80_row8283_col3\" class=\"data row8283 col3\" >-10658</td>\n      <td id=\"T_63c80_row8283_col4\" class=\"data row8283 col4\" >nan</td>\n      <td id=\"T_63c80_row8283_col5\" class=\"data row8283 col5\" >nan</td>\n      <td id=\"T_63c80_row8283_col6\" class=\"data row8283 col6\" >nan</td>\n      <td id=\"T_63c80_row8283_col7\" class=\"data row8283 col7\" >nan</td>\n      <td id=\"T_63c80_row8283_col8\" class=\"data row8283 col8\" >nan</td>\n      <td id=\"T_63c80_row8283_col9\" class=\"data row8283 col9\" >Isotopic</td>\n      <td id=\"T_63c80_row8283_col10\" class=\"data row8283 col10\" >14C (calibrated)</td>\n    </tr>\n    <tr>\n      <th id=\"T_63c80_level0_row8284\" class=\"row_heading level0 row8284\" >22352</th>\n      <td id=\"T_63c80_row8284_col0\" class=\"data row8284 col0\" >Quetrupillan</td>\n      <td id=\"T_63c80_row8284_col1\" class=\"data row8284 col1\" >Confirmed</td>\n      <td id=\"T_63c80_row8284_col2\" class=\"data row8284 col2\" >3</td>\n      <td id=\"T_63c80_row8284_col3\" class=\"data row8284 col3\" >-11345</td>\n      <td id=\"T_63c80_row8284_col4\" class=\"data row8284 col4\" >nan</td>\n      <td id=\"T_63c80_row8284_col5\" class=\"data row8284 col5\" >nan</td>\n      <td id=\"T_63c80_row8284_col6\" class=\"data row8284 col6\" >nan</td>\n      <td id=\"T_63c80_row8284_col7\" class=\"data row8284 col7\" >nan</td>\n      <td id=\"T_63c80_row8284_col8\" class=\"data row8284 col8\" >nan</td>\n      <td id=\"T_63c80_row8284_col9\" class=\"data row8284 col9\" >Isotopic</td>\n      <td id=\"T_63c80_row8284_col10\" class=\"data row8284 col10\" >14C (calibrated)</td>\n    </tr>\n  </tbody>\n</table>\n"
     },
     "execution_count": 6,
     "metadata": {},
     "output_type": "execute_result"
    }
   ],
   "source": [
    "styled_df"
   ],
   "metadata": {
    "collapsed": false
   }
  },
  {
   "cell_type": "code",
   "execution_count": 5,
   "id": "e39740a0-38f2-4b64-83f3-28b3c612b28c",
   "metadata": {
    "deletable": false,
    "editable": false,
    "nbgrader": {
     "cell_type": "code",
     "checksum": "90f14148a6cb7533dce094de682912b2",
     "grade": true,
     "grade_id": "cell-683b0a3c6c74d0c6",
     "locked": true,
     "points": 10,
     "schema_version": 3,
     "solution": false,
     "task": false
    },
    "tags": []
   },
   "outputs": [],
   "source": [
    "### Komórka testowa\n",
    "# Test 1 Kształt tablicy\n",
    "assert eruptions_data.shape == (8285, 11)\n",
    "# Test 2 Kolumny\n",
    "assert len(set(list(eruptions_data.columns)) & set(['Volcano Name', 'Eruption Category', 'VEI', 'Start Year', 'Start Month', 'Start Day',\n",
    "                                                    'End Year', 'End Month', 'End Day', \"Evidence Type\", \"Evidence Method\"])) == 11\n",
    "# Test 3 Indeks\n",
    "assert (eruptions_data.index.name == 'Eruption Number') == True\n",
    "assert eruptions_data.index.values.min() == 10018\n",
    "assert eruptions_data.index.values.max() == 22488\n",
    "# Test 4 Zawartość kolumn tekstowych\n",
    "assert len(eruptions_data[\"Volcano Name\"].unique()) == 714\n",
    "assert np.all([eruptions_data[\"Eruption Category\"].unique() == ['Confirmed', 'Uncertain']])\n",
    "assert len(set(list(eruptions_data[\"Evidence Type\"].unique())) & set(['Observations', 'Isotopic', 'Correlation', 'Sidereal', 'Radiogenic', 'Uncertain'])) == 6\n",
    "assert len(set(list(eruptions_data[\"Evidence Method\"].unique())) & set(['Reported', 'Satellite (infrared)', 'Satellite (visual)',\n",
    "                                                    'Seismicity', 'Hydrophonic', 'Photo / Video', 'Aviation', 'Uranium-series',\n",
    "                                                    'Magnetism', '14C (calibrated)', 'Tephrochronology', 'Varve Count', 'Anthropology',\n",
    "                                                    'Dendrochronology', 'Ice Core', '14C (uncalibrated)', 'Cosmic Ray Exposure', 'Ar/Ar',\n",
    "                                                    'Fission track', 'K/Ar', 'Thermoluminescence', 'Unspecified'])) == 22\n",
    "assert eruptions_data[\"Evidence Method\"].isna().sum()==0 or (eruptions_data[\"Evidence Method\"]=='nan').sum()==0 or (eruptions_data[\"Evidence Method\"]=='NaN').sum()==0\n",
    "# Test 5 Wartości NaN w kolumnach liczbowych\n",
    "assert eruptions_data[\"VEI\"].isna().sum() == 0\n",
    "assert eruptions_data[\"Start Year\"].isna().sum() == 0\n",
    "assert eruptions_data[\"Start Month\"].isna().sum() == 2697\n",
    "assert eruptions_data[\"Start Day\"].isna().sum() == 3431\n",
    "assert eruptions_data[\"End Year\"].isna().sum() == 4064\n",
    "assert eruptions_data[\"End Month\"].isna().sum() == 4300\n",
    "assert eruptions_data[\"End Day\"].isna().sum() == 4743"
   ]
  }
 ],
 "metadata": {
  "kernelspec": {
   "display_name": "Python 3 (ipykernel)",
   "language": "python",
   "name": "python3"
  },
  "language_info": {
   "codemirror_mode": {
    "name": "ipython",
    "version": 3
   },
   "file_extension": ".py",
   "mimetype": "text/x-python",
   "name": "python",
   "nbconvert_exporter": "python",
   "pygments_lexer": "ipython3",
   "version": "3.11.2"
  }
 },
 "nbformat": 4,
 "nbformat_minor": 5
}
