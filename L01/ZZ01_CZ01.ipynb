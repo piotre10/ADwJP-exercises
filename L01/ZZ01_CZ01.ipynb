{
 "cells": [
  {
   "cell_type": "markdown",
   "id": "f0a50825",
   "metadata": {
    "deletable": false,
    "editable": false,
    "nbgrader": {
     "cell_type": "markdown",
     "checksum": "4d87ed846e09cbf1c8eae4e0f16bea9b",
     "grade": false,
     "grade_id": "cell-fcd2666579131b77",
     "locked": true,
     "schema_version": 3,
     "solution": false,
     "task": false
    },
    "tags": []
   },
   "source": [
    "# Analiza danych w języku Python - ćwiczenia laboratoryjne 2022/2023\n",
    "\n",
    "Ten notatnik zalicza się do grupy zestawów zadań, na podstawie których odbywa się zaliczenie ćwiczeń i podlega zwrotowi do oceny w ustalonym na zajęciach terminie.\n",
    "\n",
    "Uwagi i wytyczne ogólne dotyczące uzupełniania i oceny notatnika:\n",
    "- Podczas wykonywania zadań należy korzystać wyłącznie z pakietów zaimportowanych na początku notatnika oraz z pakietów wchodzących w skład standardowej biblioteki Pythona, które można zaimportować samodzielnie we wskazanej komórce notatnika.\n",
    "- Swoje rozwiązania należy wprowadzać wyłącznie w miejce następujących fragmentów kodu:<br/> `# YOUR CODE HERE`<br/> `raise NotImplementedError()`<br/> \n",
    "a odpowiedzi tekstowe w komórkach oznaczonych hasłem:<br/> \n",
    "`YOUR ANSWER HERE`<br/> \n",
    "Nie należy w żaden sposób modyfikować pozostałych fragmentów kodu oraz innych elementów notatnika, w szczególności dodawać lub usuwać komórek oraz zmieniać nazwy pliku.\n",
    "- Jeżeli zestaw zadań wymaga skorzystania z fragmentów kodu opracowanego w ramach wcześniejszych zestawów zadań należy je umieścić we wskazanej komórce notatnika.\n",
    "- Otrzymywane wyniki i odpowiedzi mają być rezultatem wykonania napisanego kodu, odpowiedzi uzupełniane manualnie nie podlegają ocenie.\n",
    "- Zadanie należy wykonać w taki sposób, aby podczas wykonywania kodu nie zostały wyświetlone żadne ostrzeżenia.\n",
    "- Zawarte w notatniku automatyczne testy mają charakter poglądowy. Dotyczą one wybranych aspektów zadań i mają za zadanie wyłapać podstawowe błędy. Przejście wszystkich testów nie oznacza, że zadanie jest wykonane w całości poprawnie i zostanie ocenione na maksymalną liczbę punktów.\n",
    "- Zadania, które powodują wyświetlenie komunikatu o błędzie przerywającym wykonywanie kodu nie podlegają ocenie.\n",
    "\n",
    "Uwagi i wytyczne ogólne dotyczące wizualizacji wyników:\n",
    "- Wszystkie wykresy powinny być wykonane w jednolitym, przejrzystym i czytelnym stylu, posiadać odpowiednio dobrane proporcje i zakresy wartości osi.\n",
    "- Wykresy oraz ich osie powinny mieć nadane tytuły. Jeżeli w obrębie figury znajduje się więcej niż jeden wykres to figura również powinna mieć nadany tytuł. \n",
    "- Figury powinny mieć ustawione białe tło, tak, aby niezależnie od ustawień notatnika wszystkie elementy wykresów były dobrze widoczne (domyślnie tło jest przeźroczyste co może powodować problemy w notatnikach z ustawionym ciemnym tłem).\n",
    "- Rozmiar poziomy figur nie powinien przekraczać 20 cali.\n",
    "\n",
    "Przed odesłaniem zestawu zadań do oceny proszę uzupełnić komórkę z danymi autorów rozwiązania (`NAME` - nazwa zespołu, `COLLABORATORS` - imiona, nazwiska i numery indeksów członków zespołu) oraz upewnić się, że notatnik działa zgodnie z oczekiwaniami. W tym celu należy skorzystać z opcji **Restart Kernel and Run All Cells...** dostępnej na górnej belce notatnika pod symbolem $\\blacktriangleright\\blacktriangleright$."
   ]
  },
  {
   "cell_type": "code",
   "execution_count": null,
   "id": "8330f03f",
   "metadata": {},
   "outputs": [],
   "source": [
    "NAME = \"IAD28\"\n",
    "COLLABORATORS = \"Radosław Matuszczyk 405124, Piotr Łukasiewicz 406163\""
   ]
  },
  {
   "cell_type": "markdown",
   "id": "28388017",
   "metadata": {
    "deletable": false,
    "editable": false,
    "nbgrader": {
     "cell_type": "markdown",
     "checksum": "eddc8826810e4a6f7bf68319da334bd9",
     "grade": false,
     "grade_id": "cell-109006d425e5cf83",
     "locked": true,
     "schema_version": 3,
     "solution": false,
     "task": false
    },
    "tags": []
   },
   "source": [
    "---"
   ]
  },
  {
   "cell_type": "markdown",
   "id": "fe74743f-1998-4812-ac65-974bd8469d8d",
   "metadata": {
    "deletable": false,
    "editable": false,
    "nbgrader": {
     "cell_type": "markdown",
     "checksum": "6e336b484476801024363997b689da87",
     "grade": false,
     "grade_id": "cell-21ac76da9323c36f",
     "locked": true,
     "schema_version": 3,
     "solution": false,
     "task": false
    },
    "tags": []
   },
   "source": [
    "## Zestaw zadań 1: Elementy statystyki opisowej"
   ]
  },
  {
   "cell_type": "code",
   "execution_count": null,
   "id": "7f9968ab-aec5-4893-b0ad-34121d66004f",
   "metadata": {
    "deletable": false,
    "editable": false,
    "nbgrader": {
     "cell_type": "code",
     "checksum": "20798ed090b7142168484e8e89c74ddf",
     "grade": false,
     "grade_id": "cell-4a5af93ac80c2e34",
     "locked": true,
     "schema_version": 3,
     "solution": false,
     "task": false
    },
    "tags": []
   },
   "outputs": [],
   "source": [
    "import numpy as np\n",
    "import pandas as pd\n",
    "import scipy as sp\n",
    "import matplotlib as mpl\n",
    "import matplotlib.pyplot as plt\n",
    "import seaborn as sns"
   ]
  },
  {
   "cell_type": "code",
   "execution_count": null,
   "id": "c444ab45-1fe7-4008-8c3c-2b1b526a1fbc",
   "metadata": {},
   "outputs": [],
   "source": [
    "# Miejsce do importu pakietów wchodzących w skład standardowej biblioteki Pythona oraz ustawienie opcji wykorzystywanych pakietów\n",
    "sns.set() \n",
    "sns.set_theme(style=\"whitegrid\")"
   ]
  },
  {
   "cell_type": "markdown",
   "id": "3e77dfbb-90cf-463e-b9a7-62e85b221474",
   "metadata": {
    "deletable": false,
    "editable": false,
    "nbgrader": {
     "cell_type": "markdown",
     "checksum": "2a063a55b75d7c41515f3ded6add5baf",
     "grade": false,
     "grade_id": "cell-8251a8dc1dba0354",
     "locked": true,
     "schema_version": 3,
     "solution": false,
     "task": false
    },
    "tags": []
   },
   "source": [
    "### Zadanie 1: Przygotowanie danych [10 pkt]\n",
    "\n",
    "Plik raw_data.csv zawiera informacje na temat erupcji wulkanów pobrane ze strony https://volcano.si.edu/.\n",
    "\n",
    "Zaimportuj zawarte w pliku dane do notatnika a następnie utwórz na ich podstawie tablicę `eruptions_data` wykonaną według następujących wytycznych:\n",
    "\n",
    "- Tablica powinna zawierać wyłącznie następujące elementy:</br>\n",
    "    Indeks: Eruption Number</br>\n",
    "    Kolumny: Volcano Name, Eruption Category, Evidence Type, Evidence Method, VEI, Start Year, Start Month, Start Day, End Year, End Month, End Day, Evidence Type, Evidence Method</br>\n",
    "    Kolumny Evidence Type i Evidence Method powstają poprzez rozbicie kolumny Evidence Method (dating) zawartej w danych wejściowych na dwie osobne kolumny.\n",
    "- Tablica nie powinna zawierać wierszy dotyczących podważanych (ang. discredited) erupcji oraz erupcji, dla których nie została określona wartość VEI (Volcanic Explosivity Index).\n",
    "- Z nazw zawartych w kolumnie Eruption Category należy usunąć słowo \"Eruption\" pozostawiając tylko pierwsze człony zawartych w niej określeń.\n",
    "- Niektóre z erupcji mają wpisane wartości miesiąca i dnia ich początku lub końca jako 0, należy zmienić te wartości na NaN.\n",
    "- Każda z kolumn powinna mieć ustawiony format danych odpowiedni dla jej zawartości. Kolumny zawierające wartości NaN wymagają specjalnej uwagi.\n",
    "\n",
    "Zapisz tablicę do pliku `eruptions_data.csv`.\n",
    "\n",
    "Wyświetl przygotowaną tablicę."
   ]
  },
  {
   "cell_type": "code",
   "execution_count": null,
   "id": "a1a3f1e9-3392-41a0-a73d-167b235303dd",
   "metadata": {
    "deletable": false,
    "nbgrader": {
     "cell_type": "code",
     "checksum": "69701381bad47b312d4a37590f131714",
     "grade": false,
     "grade_id": "cell-aa85199b5cb633d2",
     "locked": false,
     "schema_version": 3,
     "solution": true,
     "task": false
    },
    "tags": []
   },
   "outputs": [],
   "source": [
    "raw_data = pd.read_csv('raw_data.csv', skiprows=1, index_col='Eruption Number')\n",
    "\n",
    "raw_data1 = raw_data[['Volcano Name', 'Eruption Category', 'VEI', 'Start Year', 'Start Month', 'Start Day', 'End Year', 'End Month', 'End Day']]\n",
    "\n",
    "raw_data2 = raw_data1.copy()\n",
    "raw_data2[['Evidence Type','Evidence Method']] = raw_data['Evidence Method (dating)'].str.split(': ', expand=True)\n",
    "\n",
    "raw_data3 = raw_data2.dropna(subset = 'VEI')\n",
    "\n",
    "raw_data4 = raw_data3[raw_data3['Eruption Category'] != 'Discredited Eruption']\n",
    "\n",
    "raw_data5 = raw_data4.copy()\n",
    "raw_data5['Eruption Category'] = raw_data4['Eruption Category'].str.replace(' Eruption', '')\n",
    "\n",
    "raw_data6 = raw_data5.copy()\n",
    "cols = ['Start Month', 'Start Day', 'End Month', 'End Day']\n",
    "raw_data6[cols] = raw_data5[cols].replace(0, np.nan)\n",
    "\n",
    "eruptions_data = raw_data6.convert_dtypes()\n",
    "\n",
    "eruptions_data.to_csv('eruptions_data.csv')"
   ]
  },
  {
   "cell_type": "code",
   "execution_count": null,
   "id": "b5d6ff85-0eb8-4dc0-889b-7e68e8a43519",
   "metadata": {},
   "outputs": [],
   "source": [
    "eruptions_data[\"Evidence Type\"].unique()"
   ]
  },
  {
   "cell_type": "code",
   "execution_count": null,
   "id": "eee094e3-6dca-4270-a8d6-038743c7051c",
   "metadata": {},
   "outputs": [],
   "source": [
    "eruptions_data[\"Evidence Type\"].unique()[1] is np.nan"
   ]
  },
  {
   "cell_type": "code",
   "execution_count": null,
   "id": "2866dff9-8e37-4f22-8574-3de4f288fb97",
   "metadata": {},
   "outputs": [],
   "source": [
    "eruptions_data[\"Evidence Type\"].unique()[1] is pd.NA"
   ]
  },
  {
   "cell_type": "code",
   "execution_count": null,
   "id": "e39740a0-38f2-4b64-83f3-28b3c612b28c",
   "metadata": {
    "deletable": false,
    "editable": false,
    "nbgrader": {
     "cell_type": "code",
     "checksum": "7daeb5272851d19131e2a76822d83e11",
     "grade": true,
     "grade_id": "cell-683b0a3c6c74d0c6",
     "locked": true,
     "points": 10,
     "schema_version": 3,
     "solution": false,
     "task": false
    },
    "tags": []
   },
   "outputs": [],
   "source": [
    "### Komórka testowa\n",
    "# Test 1 Kształt tablicy\n",
    "assert eruptions_data.shape == (8285, 11)\n",
    "# Test 2 Kolumny\n",
    "assert len(set(list(eruptions_data.columns)) & set(['Volcano Name', 'Eruption Number', 'Eruption Category', 'VEI', 'Start Year',\n",
    "                                          'Start Month', 'Start Day', 'End Year', 'End Month', 'End Day', \"Evidence Type\",\n",
    "                                          \"Evidence Method\"])) == 11\n",
    "# Test 3 Indeks\n",
    "assert (eruptions_data.index.name == 'Eruption Number') == True\n",
    "assert eruptions_data.index.values.min() == 10018\n",
    "assert eruptions_data.index.values.max() == 22488\n",
    "# Test 4 Zawartość kolumn tekstowych\n",
    "assert len(eruptions_data[\"Volcano Name\"].unique()) == 714\n",
    "assert np.all([eruptions_data[\"Eruption Category\"].unique() == ['Confirmed', 'Uncertain']])\n",
    "assert np.all([eruptions_data[\"Evidence Type\"].unique() == ['Observations', 'nan', 'Isotopic', 'Correlation', 'Sidereal', 'Radiogenic', 'Uncertain']])\n",
    "assert np.all([eruptions_data[\"Evidence Method\"].unique() == ['Reported', 'Satellite (infrared)', 'Satellite (visual)',\n",
    "                                                    'Seismicity', 'Hydrophonic', 'nan', 'Photo / Video', 'Aviation', 'Uranium-series',\n",
    "                                                    'Magnetism', '14C (calibrated)', 'Tephrochronology', 'Varve Count', 'Anthropology',\n",
    "                                                    'Dendrochronology', 'Ice Core', '14C (uncalibrated)', 'Cosmic Ray Exposure', 'Ar/Ar',\n",
    "                                                    'Fission track', 'None', 'K/Ar', 'Thermoluminescence']])\n",
    "# Test 5 Wartości NaN w kolumnach liczbowych\n",
    "assert eruptions_data[\"VEI\"].isna().sum() == 0\n",
    "assert eruptions_data[\"Start Year\"].isna().sum() == 0\n",
    "assert eruptions_data[\"Start Month\"].isna().sum() == 2697\n",
    "assert eruptions_data[\"Start Day\"].isna().sum() == 3431\n",
    "assert eruptions_data[\"End Year\"].isna().sum() == 4064\n",
    "assert eruptions_data[\"End Month\"].isna().sum() == 4300\n",
    "assert eruptions_data[\"End Day\"].isna().sum() == 4743"
   ]
  }
 ],
 "metadata": {
  "kernelspec": {
   "display_name": "Python 3 (ipykernel)",
   "language": "python",
   "name": "python3"
  },
  "language_info": {
   "codemirror_mode": {
    "name": "ipython",
    "version": 3
   },
   "file_extension": ".py",
   "mimetype": "text/x-python",
   "name": "python",
   "nbconvert_exporter": "python",
   "pygments_lexer": "ipython3",
   "version": "3.10.2"
  }
 },
 "nbformat": 4,
 "nbformat_minor": 5
}
