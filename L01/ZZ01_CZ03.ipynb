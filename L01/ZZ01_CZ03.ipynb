{
 "cells": [
  {
   "cell_type": "markdown",
   "id": "2a8626dd",
   "metadata": {
    "deletable": false,
    "editable": false,
    "nbgrader": {
     "cell_type": "markdown",
     "checksum": "4d87ed846e09cbf1c8eae4e0f16bea9b",
     "grade": false,
     "grade_id": "cell-fcd2666579131b77",
     "locked": true,
     "schema_version": 3,
     "solution": false,
     "task": false
    },
    "tags": []
   },
   "source": [
    "# Analiza danych w języku Python - ćwiczenia laboratoryjne 2022/2023\n",
    "\n",
    "Ten notatnik zalicza się do grupy zestawów zadań, na podstawie których odbywa się zaliczenie ćwiczeń i podlega zwrotowi do oceny w ustalonym na zajęciach terminie.\n",
    "\n",
    "Uwagi i wytyczne ogólne dotyczące uzupełniania i oceny notatnika:\n",
    "- Podczas wykonywania zadań należy korzystać wyłącznie z pakietów zaimportowanych na początku notatnika oraz z pakietów wchodzących w skład standardowej biblioteki Pythona, które można zaimportować samodzielnie we wskazanej komórce notatnika.\n",
    "- Swoje rozwiązania należy wprowadzać wyłącznie w miejce następujących fragmentów kodu:<br/> `# YOUR CODE HERE`<br/> `raise NotImplementedError()`<br/> \n",
    "a odpowiedzi tekstowe w komórkach oznaczonych hasłem:<br/> \n",
    "`YOUR ANSWER HERE`<br/> \n",
    "Nie należy w żaden sposób modyfikować pozostałych fragmentów kodu oraz innych elementów notatnika, w szczególności dodawać lub usuwać komórek oraz zmieniać nazwy pliku.\n",
    "- Jeżeli zestaw zadań wymaga skorzystania z fragmentów kodu opracowanego w ramach wcześniejszych zestawów zadań należy je umieścić we wskazanej komórce notatnika.\n",
    "- Otrzymywane wyniki i odpowiedzi mają być rezultatem wykonania napisanego kodu, odpowiedzi uzupełniane manualnie nie podlegają ocenie.\n",
    "- Zadanie należy wykonać w taki sposób, aby podczas wykonywania kodu nie zostały wyświetlone żadne ostrzeżenia.\n",
    "- Zawarte w notatniku automatyczne testy mają charakter poglądowy. Dotyczą one wybranych aspektów zadań i mają za zadanie wyłapać podstawowe błędy. Przejście wszystkich testów nie oznacza, że zadanie jest wykonane w całości poprawnie i zostanie ocenione na maksymalną liczbę punktów.\n",
    "- Zadania, które powodują wyświetlenie komunikatu o błędzie przerywającym wykonywanie kodu nie podlegają ocenie.\n",
    "\n",
    "Uwagi i wytyczne ogólne dotyczące wizualizacji wyników:\n",
    "- Wszystkie wykresy powinny być wykonane w jednolitym, przejrzystym i czytelnym stylu, posiadać odpowiednio dobrane proporcje i zakresy wartości osi.\n",
    "- Wykresy oraz ich osie powinny mieć nadane tytuły. Jeżeli w obrębie figury znajduje się więcej niż jeden wykres to figura również powinna mieć nadany tytuł. \n",
    "- Figury powinny mieć ustawione białe tło, tak, aby niezależnie od ustawień notatnika wszystkie elementy wykresów były dobrze widoczne (domyślnie tło jest przeźroczyste co może powodować problemy w notatnikach z ustawionym ciemnym tłem).\n",
    "- Rozmiar poziomy figur nie powinien przekraczać 20 cali.\n",
    "\n",
    "Przed odesłaniem zestawu zadań do oceny proszę uzupełnić komórkę z danymi autorów rozwiązania (`NAME` - nazwa zespołu, `COLLABORATORS` - imiona, nazwiska i numery indeksów członków zespołu) oraz upewnić się, że notatnik działa zgodnie z oczekiwaniami. W tym celu należy skorzystać z opcji **Restart Kernel and Run All Cells...** dostępnej na górnej belce notatnika pod symbolem $\\blacktriangleright\\blacktriangleright$."
   ]
  },
  {
   "cell_type": "code",
   "execution_count": null,
   "id": "4e845b41",
   "metadata": {
    "tags": []
   },
   "outputs": [],
   "source": [
    "NAME = \"IAD28\"\n",
    "COLLABORATORS = \"Radosław Matuszczyk 405124, Piotr Łukasiewicz 406163\""
   ]
  },
  {
   "cell_type": "markdown",
   "id": "295cad7f",
   "metadata": {
    "deletable": false,
    "editable": false,
    "nbgrader": {
     "cell_type": "markdown",
     "checksum": "eddc8826810e4a6f7bf68319da334bd9",
     "grade": false,
     "grade_id": "cell-109006d425e5cf83",
     "locked": true,
     "schema_version": 3,
     "solution": false,
     "task": false
    },
    "tags": []
   },
   "source": [
    "---"
   ]
  },
  {
   "cell_type": "markdown",
   "id": "3dc8b5f1-8b22-4781-876f-27826679533d",
   "metadata": {
    "deletable": false,
    "editable": false,
    "nbgrader": {
     "cell_type": "markdown",
     "checksum": "3a9bb0e23f4b56c120f0115427eea2cd",
     "grade": false,
     "grade_id": "cell-a12f05a1065ccf65",
     "locked": true,
     "schema_version": 3,
     "solution": false,
     "task": false
    },
    "tags": []
   },
   "source": [
    "## Zestaw zadań 1: Elementy statystyki opisowej 1 (Notatnik 3/4)"
   ]
  },
  {
   "cell_type": "code",
   "execution_count": null,
   "id": "7f9968ab-aec5-4893-b0ad-34121d66004f",
   "metadata": {
    "deletable": false,
    "editable": false,
    "nbgrader": {
     "cell_type": "code",
     "checksum": "6a1e029ad976005b8bbf36e1fca0fca7",
     "grade": false,
     "grade_id": "cell-d7c9c710c5b409e6",
     "locked": true,
     "schema_version": 3,
     "solution": false,
     "task": false
    },
    "tags": []
   },
   "outputs": [],
   "source": [
    "import numpy as np\n",
    "import pandas as pd\n",
    "import scipy as sp\n",
    "import matplotlib as mpl\n",
    "import matplotlib.pyplot as plt\n",
    "import seaborn as sns\n",
    "import dataframe_image as dfi"
   ]
  },
  {
   "cell_type": "code",
   "execution_count": null,
   "id": "2876bbec-f433-4b3e-8187-0184b66bcbe9",
   "metadata": {
    "tags": []
   },
   "outputs": [],
   "source": [
    "# Miejsce do importu pakietów wchodzących w skład standardowej biblioteki Pythona oraz ustawienie opcji wykorzystywanych pakietów"
   ]
  },
  {
   "cell_type": "markdown",
   "id": "73cb2852-79f3-4f76-9303-a091a9be7623",
   "metadata": {
    "deletable": false,
    "editable": false,
    "nbgrader": {
     "cell_type": "markdown",
     "checksum": "7960d2d7c30c9c6d0f8e6b16e947f7cf",
     "grade": false,
     "grade_id": "cell-7e0c91af7d9408af",
     "locked": true,
     "schema_version": 3,
     "solution": false,
     "task": false
    },
    "tags": []
   },
   "source": [
    "### Wczytanie danych\n",
    "Wczytaj dane z przygotowanego wcześniej pliku eruption_data.csv do tablicy `eruptions_data` w taki sposób, aby kolumna Eruption Number stanowiła indeks tablicy.\n",
    "\n",
    "Wyświetl przygotowaną tablicę."
   ]
  },
  {
   "cell_type": "code",
   "execution_count": null,
   "id": "bb86cffa-4841-45db-b09e-06fb353a4250",
   "metadata": {
    "deletable": false,
    "nbgrader": {
     "cell_type": "code",
     "checksum": "68bec47ead37b0063f7536f252c32c14",
     "grade": true,
     "grade_id": "cell-184ec13f50fb3bfe",
     "locked": false,
     "points": 0,
     "schema_version": 3,
     "solution": true,
     "task": false
    },
    "tags": []
   },
   "outputs": [],
   "source": [
    "eruptions_data = pd.read_csv('eruptions_data.csv', index_col='Eruption Number')\n",
    "eruptions_data"
   ]
  },
  {
   "cell_type": "markdown",
   "id": "4fe49a2f-9894-4d23-a69f-2a0ff96569b9",
   "metadata": {
    "deletable": false,
    "editable": false,
    "nbgrader": {
     "cell_type": "markdown",
     "checksum": "e62e944b05a0ec03b8938fa1e75fa013",
     "grade": false,
     "grade_id": "cell-482f00a43192f793",
     "locked": true,
     "schema_version": 3,
     "solution": false,
     "task": false
    },
    "tags": []
   },
   "source": [
    "### Zadanie 4: Konstrukcja szeregów rodzielczych - bardziej skomplikowane tablice [10 pkt]"
   ]
  },
  {
   "cell_type": "markdown",
   "id": "e9080333-e7dc-48fe-a214-c95756301996",
   "metadata": {
    "deletable": false,
    "editable": false,
    "nbgrader": {
     "cell_type": "markdown",
     "checksum": "4c468ae1e86a18d9db3054da26a236c2",
     "grade": false,
     "grade_id": "cell-df7e7e832751b528",
     "locked": true,
     "schema_version": 3,
     "solution": false,
     "task": false
    },
    "tags": []
   },
   "source": [
    "#### a) Forma tabelaryczna\n",
    "Przygotuj szeregi rozdzielcze VEI w formie tablicy `vei_data` zawierającej następujące elementy:\n",
    "\n",
    "Indeks:\n",
    "- VEI - wartości VEI posortowane od najmniejszej do największej.\n",
    "\n",
    "Kolumny: </br>\n",
    "- Nagłówki 1 poziomu:\n",
    "    - Eruption category - All, Confirmed Eruption, Uncertain Eruption\n",
    "- Nagłówki 2 poziomu (dla każdego z nagłówków 1 poziomu ten sam zestaw kolumn):\n",
    "    - f - zliczenia poszczególnych kategorii (ang. frequency, absolute frequency),\n",
    "    - cf - zliczenia skumulowane poszczególnych kategorii (ang. cumulative frequency, cumulative absolute frequency),\n",
    "    - rf - częstość zliczeń poszczególnych kategorii (ang. relative frequency),\n",
    "    - crf - skumulowana częstość zliczeń poszczególnych kategorii (ang. cumulative relative frequency).\n",
    "\n",
    "Wyświetl przygotowane tablicę w taki sposób, aby liczby w kolumnach f i cf oraz indeks tablicy VEI wyświetlały się bez miejsc po przecinku, a liczby z kolumn rf i crf z dokładnością do 4 miejsca po przecinku."
   ]
  },
  {
   "cell_type": "code",
   "execution_count": null,
   "id": "cc1f71ef-62c1-4fbe-9ad3-ef018e3ee22e",
   "metadata": {
    "deletable": false,
    "nbgrader": {
     "cell_type": "code",
     "checksum": "78d6079a4b5e4fc3cc597cf29d0c3dfe",
     "grade": false,
     "grade_id": "cell-10bd4bdf7a80603c",
     "locked": false,
     "schema_version": 3,
     "solution": true,
     "task": false
    },
    "tags": []
   },
   "outputs": [],
   "source": [
    "df = eruptions_data.copy()\n",
    "vei_breakdown = pd.get_dummies(eruptions_data['VEI'].astype(int))\n",
    "df['All eruptions'] = True\n",
    "df['Confirmed Eruptions'] = df['Eruption Category'] == 'Confirmed'\n",
    "df['Uncertain Eruptions'] = df['Eruption Category'] == 'Uncertain'\n",
    "\n",
    "df_grouped = df.groupby('VEI').agg({'All eruptions': [np.sum], 'Confirmed Eruptions': [np.sum], 'Uncertain Eruptions': [np.sum]})\n",
    "\n",
    "vei_data = pd.DataFrame(columns=pd.MultiIndex.from_product([['All eruptions', 'Confirmed Eruptions','Uncertain Eruptions'],['f', 'cf', 'rf', 'crf']]), index=df_grouped.index)\n",
    "for category in ['All eruptions', 'Confirmed Eruptions','Uncertain Eruptions']:\n",
    "    category_count = df_grouped[category]['sum'].sum()\n",
    "    vei_data[category, 'f'] = np.where(df_grouped[category, 'sum'] == 0, np.nan, df_grouped[category, 'sum'])\n",
    "    vei_data[category, 'cf'] = vei_data[category, 'f'].cumsum()\n",
    "    vei_data[category, 'rf'] = vei_data[category, 'f'] / category_count\n",
    "    vei_data[category, 'crf'] = vei_data[category, 'rf'].cumsum()\n",
    "vei_data_styled = vei_data.style.format_index(precision=0).format(precision=4, subset=[c for c in vei_data.columns if c[1] in ('rf', 'crf')]).format(precision=0, subset=[c for c in vei_data.columns if c[1] in ('f', 'cf')])\n",
    "dfi.export(vei_data_styled, 'vei_data.png')\n",
    "vei_data_styled"
   ]
  },
  {
   "cell_type": "code",
   "execution_count": null,
   "id": "c548946a-a7ad-4c86-9263-002b14e32767",
   "metadata": {
    "deletable": false,
    "editable": false,
    "nbgrader": {
     "cell_type": "code",
     "checksum": "e9674b48641e9dfa3031f4f71b51d6ce",
     "grade": true,
     "grade_id": "cell-37f309620c903da9",
     "locked": true,
     "points": 5,
     "schema_version": 3,
     "solution": false,
     "task": false
    },
    "tags": []
   },
   "outputs": [],
   "source": [
    "## Komórka testowa\n",
    "# Test 1: Indeks\n",
    "assert (vei_data.index.name == 'VEI') == True\n",
    "assert list(vei_data.index) == [0, 1, 2, 3, 4, 5, 6, 7]\n",
    "# Test 2: Kolumny\n",
    "assert len(set(list(vei_data.columns.levels[0])) & set(['All eruptions', 'Confirmed Eruptions', 'Uncertain Eruptions'])) == 3\n",
    "assert set(list(vei_data.columns.levels[1])) == set(['f', 'cf', 'rf', 'crf'])\n",
    "# Test 3: Wartości w kolumnach f\n",
    "assert list(vei_data['All eruptions']['f'].values) == [1007, 1384, 3991, 1152, 511, 180, 53, 7]\n",
    "assert list(vei_data['Confirmed Eruptions']['f'].values) == [803, 1227, 3727, 1133, 510, 180, 53, 7]\n",
    "assert list(vei_data['Uncertain Eruptions']['f'].values[:5]) == [204, 157, 264, 19, 1] \n",
    "assert np.all(np.isnan(vei_data['Uncertain Eruptions']['f'].values[5:]))"
   ]
  },
  {
   "cell_type": "markdown",
   "id": "7532fe1a-76c1-4fbf-8986-11339132667e",
   "metadata": {
    "deletable": false,
    "editable": false,
    "nbgrader": {
     "cell_type": "markdown",
     "checksum": "dbd9edc3c07a1d20f444785674863831",
     "grade": false,
     "grade_id": "cell-1d60b063399b4076",
     "locked": true,
     "schema_version": 3,
     "solution": false,
     "task": false
    },
    "tags": []
   },
   "source": [
    "#### b) Forma graficzna\n",
    "Zwizualizuj dane z przygotowanych tablic za pomocą wykresów słupkowych zliczeń (lewa oś wykresu) z nałożonymi na nie łamanymi częstości skumulowanej (prawa oś wykresu). Zestaw wykresy na pojedynczej figurze (siatka wykresów 1x3). Przygotuj figurę zgodnie z wytycznymi z nagłówka notatnika. Dodatkowo ustaw:\n",
    "- identyczne zakresy wartości na odpowiadających sobie osiach wszystkich trzech wykresów,\n",
    "- różne od domyślnych i od siebie nawzajem kolory wykresu słupkowego oraz łamanej częstości,\n",
    "- kolory lewej i prawej osi oraz ich opisów identyczne z kolorem elementu wykresu, którego dotyczą,\n",
    "- format wyświetlania wartości VEI bez miejsc po przecinku."
   ]
  },
  {
   "cell_type": "code",
   "execution_count": null,
   "id": "4ef136d3-a7c7-4830-96df-f210dff6b1b3",
   "metadata": {
    "deletable": false,
    "nbgrader": {
     "cell_type": "code",
     "checksum": "5a0c2fd2f6d7c92526e82b2046f0ec3c",
     "grade": true,
     "grade_id": "cell-4291e1fff2828e80",
     "locked": false,
     "points": 5,
     "schema_version": 3,
     "solution": true,
     "task": false
    },
    "tags": []
   },
   "outputs": [],
   "source": [
    "# YOUR CODE HERE\n",
    "fig, ax1 = plt.subplots(1, 3, figsize=(12,4))\n",
    "fig.subplots_adjust(wspace=0.75)\n",
    "\n",
    "def displayPlot(axL, data, title):\n",
    "    color = 'tab:blue'\n",
    "    axL.set_xlabel('VEI')\n",
    "    axL.set_ylabel('f', color = color)\n",
    "    axL.set_title(title)\n",
    "    axL.bar(data.index, data['f'], color = color)\n",
    "    axL.tick_params(axis ='y', labelcolor = color)\n",
    "    axL.set_xlim([-0.5,7.5])\n",
    "    axL.set_xticks(np.arange(0,8))\n",
    "    axL.set_ylim([0,4500])\n",
    "    axR = axL.twinx()\n",
    "    color = 'tab:red'\n",
    "    axR.set_ylabel('cf', color = color)\n",
    "    axR.plot(data.index, data['cf'], color = color)\n",
    "    axR.tick_params(axis ='y', labelcolor = color)\n",
    "    axR.set_ylim([0,9000])\n",
    "\n",
    "displayPlot(ax1[0], vei_data['All eruptions'], \"All eruptions\")\n",
    "displayPlot(ax1[1], vei_data['Confirmed Eruptions'], \"Eruptions confirmed\")\n",
    "displayPlot(ax1[2], vei_data['Uncertain Eruptions'], \"Eruptions uncertain\")\n",
    "fig.savefig('vei_data_freq.png')"
   ]
  },
  {
   "cell_type": "markdown",
   "id": "7bea9f77-bd9d-4d4e-9317-7cea9bfa420a",
   "metadata": {
    "deletable": false,
    "editable": false,
    "nbgrader": {
     "cell_type": "markdown",
     "checksum": "cd76e9e6953bfeca5c998fb7347f4da1",
     "grade": false,
     "grade_id": "cell-0441be7180503b87",
     "locked": true,
     "schema_version": 3,
     "solution": false,
     "task": false
    },
    "tags": []
   },
   "source": [
    "### Zadanie 5: Rodzaje metod wykrywania erupcji [10 pkt]\n",
    "\n",
    "Przygotuj tablice `evidence_data` zawiarającą informacje o tym ile erupcji o poszczególnych wartościach VEI zostało potwierdzonych przy użyciu poszczególnych metod weryfikacji.\n",
    "Tablica powinna zawierać następujące elementy:\n",
    "\n",
    "Indeks:\n",
    "- Nagłówki 1 poziomu\n",
    "    - kategoria dowodów\n",
    "- Nagłówki 2 poziomu:\n",
    "    - metoda, która dostarczyła dowodów\n",
    "\n",
    "Kolumny: </br>\n",
    "- VEI - wartości VEI posortowane od najmniejszej do największej oraz kolumna \"All\", w której znajdują się dane dotyczące wszystkich erupcji, bez podziału na VEI.\n",
    "\n",
    "Wyświetl przygotowane tablicę w taki sposób, aby zawarte w tablicy liczby (w tym wartości VEI w nagłówkach kolumn) wyświetlały się bez miejsc po przecinku."
   ]
  },
  {
   "cell_type": "code",
   "execution_count": null,
   "id": "416988da-0226-4b30-b5b0-e7614c25f1a5",
   "metadata": {
    "deletable": false,
    "nbgrader": {
     "cell_type": "code",
     "checksum": "49765b57195cef2d0800113a70000492",
     "grade": false,
     "grade_id": "cell-57304971296e4e92",
     "locked": false,
     "schema_version": 3,
     "solution": true,
     "task": false
    },
    "tags": []
   },
   "outputs": [],
   "source": [
    "# YOUR CODE HERE\n",
    "vei_breakdown = pd.get_dummies(eruptions_data['VEI'].astype(int))\n",
    "vei_breakdown['All'] = 1\n",
    "df_merged = pd.concat([eruptions_data[['Evidence Type', 'Evidence Method']], vei_breakdown], axis=1)\n",
    "evidence_data = df_merged.groupby(by=['Evidence Type', 'Evidence Method']).sum()\n",
    "dfi.export(evidence_data.style, 'evidence_data.png')\n",
    "evidence_data"
   ]
  },
  {
   "cell_type": "code",
   "execution_count": null,
   "id": "0996fabd-7d10-4237-bc8f-e8b4b01dbdd9",
   "metadata": {
    "deletable": false,
    "editable": false,
    "nbgrader": {
     "cell_type": "code",
     "checksum": "73f30e82434685a9c9b666a360910cb9",
     "grade": true,
     "grade_id": "cell-49e4af55295b70a6",
     "locked": true,
     "points": 10,
     "schema_version": 3,
     "solution": false,
     "task": false
    },
    "tags": []
   },
   "outputs": [],
   "source": [
    "# Test 1 Kształt tablicy\n",
    "assert evidence_data.shape == (22, 9)\n",
    "# # Test 2 Kolumny\n",
    "assert len(set(list(evidence_data.columns)) & set([0.0, 1.0, 2.0, 3.0, 4.0, 5.0, 6.0, 7.0, 'All'])) == 9\n",
    "# Test 3 Indeks\n",
    "assert (eruptions_data.index.name == 'Eruption Number') == True\n",
    "assert len(set(list(evidence_data.index)) & set([('Observations', 'Reported'), ('Observations', 'Satellite (infrared)'), ('Observations', 'Satellite (visual)'),\n",
    "                                ('Observations', 'Seismicity'), ('Observations', 'Hydrophonic'), ('Observations', 'Photo / Video'), ('Observations', 'Aviation'),\n",
    "                                ('Uncertain', 'Unspecified'), ('Isotopic', 'Uranium-series'), ('Isotopic', '14C (calibrated)'), ('Isotopic', '14C (uncalibrated)'),\n",
    "                                ('Isotopic', 'Cosmic Ray Exposure'), ('Isotopic', 'Ar/Ar'), ('Isotopic', 'K/Ar'), ('Correlation', 'Magnetism'), ('Correlation', 'Tephrochronology'),\n",
    "                                ('Correlation', 'Anthropology'), ('Sidereal', 'Varve Count'), ('Sidereal', 'Dendrochronology'), ('Sidereal', 'Ice Core'), ('Radiogenic', 'Fission track'),\n",
    "                                ('Radiogenic', 'Thermoluminescence')])) == 22\n",
    "# Test 4 Kilka losowo wybranych wartości w tablicy\n",
    "assert evidence_data.loc[('Observations', 'Reported'), 0] == 376\n",
    "assert evidence_data.loc[('Uncertain', 'Unspecified'), 3] == 22\n",
    "assert evidence_data.loc[('Sidereal', 'Ice Core'), 7] == 2\n",
    "assert evidence_data.loc[('Isotopic', '14C (uncalibrated)'), 5] == 41\n",
    "assert evidence_data.loc[('Correlation', 'Anthropology'), 6] == 0"
   ]
  },
  {
   "cell_type": "markdown",
   "id": "96eec0fa-5f8a-49f6-8721-9828c10d0da5",
   "metadata": {
    "deletable": false,
    "editable": false,
    "nbgrader": {
     "cell_type": "markdown",
     "checksum": "cdf4a46477faa1cc9eb15007c44b7a5f",
     "grade": false,
     "grade_id": "cell-49205cfa3f959d2a",
     "locked": true,
     "schema_version": 3,
     "solution": false,
     "task": false
    },
    "tags": []
   },
   "source": [
    "### Zadanie 6: Wizualizacja rozkładu zarejestrowanych erupcji w czasie [2 pkt]\n",
    "\n",
    "Korzystając z funkcji `seaborn.stripplot()` zwizualizuj jak rozkładały się w czasie wystąpienia zarejestrowanych erupcji. Do rozróżnienia erupcji w czasie wykorzystaj rok, w którym nastąpił ich początek.\n",
    "\n",
    "Wyniki zestaw na pojedynczej figurze (siatka wykresów 2x1). Na górnym wykresie przedstaw dane rozróżnione tylko po kątem VEI, a na dolnym wykresie przedstaw dane rozróżnione zarówno po VEI jak i rodzaju dowodu ich wystąpienia (Evidence Type). Przygotuj figurę zgodnie z wytycznymi z nagłówka notatnika. Dodatkowo:\n",
    "- dodaj legendę do dolnego wykresu w taki sposób, aby nie zasłaniała znajdujących nię na nim danych,\n",
    "- ustaw format wyświetlania wartości VEI bez miejsc po przecinku."
   ]
  },
  {
   "cell_type": "code",
   "execution_count": null,
   "id": "72ee0e77-2407-4d3c-b929-9306230edbbe",
   "metadata": {
    "deletable": false,
    "nbgrader": {
     "cell_type": "code",
     "checksum": "26a73022f362cb3ad3880e6ee9dd8d4e",
     "grade": true,
     "grade_id": "cell-02f74843f3b61c8d",
     "locked": false,
     "points": 2,
     "schema_version": 3,
     "solution": true,
     "task": false
    },
    "tags": []
   },
   "outputs": [],
   "source": [
    "# YOUR CODE HERE\n",
    "fig, (ax1, ax2)= plt.subplots(2,1, figsize=(15,10))\n",
    "sns.stripplot(data=eruptions_data, x='VEI', y='Start Year', ax=ax1, s=1.3, alpha=0.5)\n",
    "sns.stripplot(data=eruptions_data, x='VEI', y='Start Year', hue='Evidence Type', dodge=True, ax=ax2, s=1.3, alpha=0.7)\n",
    "ax2.legend(loc='lower right', bbox_to_anchor=(1.15, 0.5))\n",
    "fig.savefig('vei_data_by_date.png')"
   ]
  }
 ],
 "metadata": {
  "kernelspec": {
   "display_name": "Python 3 (ipykernel)",
   "language": "python",
   "name": "python3"
  },
  "language_info": {
   "codemirror_mode": {
    "name": "ipython",
    "version": 3
   },
   "file_extension": ".py",
   "mimetype": "text/x-python",
   "name": "python",
   "nbconvert_exporter": "python",
   "pygments_lexer": "ipython3",
   "version": "3.11.2"
  }
 },
 "nbformat": 4,
 "nbformat_minor": 5
}
