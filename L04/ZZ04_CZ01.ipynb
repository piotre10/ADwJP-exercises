{
 "cells": [
  {
   "cell_type": "markdown",
   "id": "cc938c5d",
   "metadata": {
    "deletable": false,
    "editable": false,
    "nbgrader": {
     "cell_type": "markdown",
     "checksum": "4d87ed846e09cbf1c8eae4e0f16bea9b",
     "grade": false,
     "grade_id": "cell-fcd2666579131b77",
     "locked": true,
     "schema_version": 3,
     "solution": false,
     "task": false
    },
    "tags": []
   },
   "source": [
    "# Analiza danych w języku Python - ćwiczenia laboratoryjne 2022/2023\n",
    "\n",
    "Ten notatnik zalicza się do grupy zestawów zadań, na podstawie których odbywa się zaliczenie ćwiczeń i podlega zwrotowi do oceny w ustalonym na zajęciach terminie.\n",
    "\n",
    "Uwagi i wytyczne ogólne dotyczące uzupełniania i oceny notatnika:\n",
    "- Podczas wykonywania zadań należy korzystać wyłącznie z pakietów zaimportowanych na początku notatnika oraz z pakietów wchodzących w skład standardowej biblioteki Pythona, które można zaimportować samodzielnie we wskazanej komórce notatnika.\n",
    "- Swoje rozwiązania należy wprowadzać wyłącznie w miejce następujących fragmentów kodu:<br/> `# YOUR CODE HERE`<br/> `raise NotImplementedError()`<br/> \n",
    "a odpowiedzi tekstowe w komórkach oznaczonych hasłem:<br/> \n",
    "`YOUR ANSWER HERE`<br/> \n",
    "Nie należy w żaden sposób modyfikować pozostałych fragmentów kodu oraz innych elementów notatnika, w szczególności dodawać lub usuwać komórek oraz zmieniać nazwy pliku.\n",
    "- Jeżeli zestaw zadań wymaga skorzystania z fragmentów kodu opracowanego w ramach wcześniejszych zestawów zadań należy je umieścić we wskazanej komórce notatnika.\n",
    "- Otrzymywane wyniki i odpowiedzi mają być rezultatem wykonania napisanego kodu, odpowiedzi uzupełniane manualnie nie podlegają ocenie.\n",
    "- Zadanie należy wykonać w taki sposób, aby podczas wykonywania kodu nie zostały wyświetlone żadne ostrzeżenia.\n",
    "- Zawarte w notatniku automatyczne testy mają charakter poglądowy. Dotyczą one wybranych aspektów zadań i mają za zadanie wyłapać podstawowe błędy. Przejście wszystkich testów nie oznacza, że zadanie jest wykonane w całości poprawnie i zostanie ocenione na maksymalną liczbę punktów.\n",
    "- Zadania, które powodują wyświetlenie komunikatu o błędzie przerywającym wykonywanie kodu nie podlegają ocenie.\n",
    "\n",
    "Uwagi i wytyczne ogólne dotyczące wizualizacji wyników:\n",
    "- Wszystkie wykresy powinny być wykonane w jednolitym, przejrzystym i czytelnym stylu, posiadać odpowiednio dobrane proporcje i zakresy wartości osi.\n",
    "- Wykresy oraz ich osie powinny mieć nadane tytuły. Jeżeli w obrębie figury znajduje się więcej niż jeden wykres to figura również powinna mieć nadany tytuł. \n",
    "- Figury powinny mieć ustawione białe tło, tak, aby niezależnie od ustawień notatnika wszystkie elementy wykresów były dobrze widoczne (domyślnie tło jest przeźroczyste co może powodować problemy w notatnikach z ustawionym ciemnym tłem).\n",
    "- Rozmiar poziomy figur nie powinien przekraczać 20 cali.\n",
    "\n",
    "Przed odesłaniem zestawu zadań do oceny proszę uzupełnić komórkę z danymi autorów rozwiązania (`NAME` - nazwa zespołu, `COLLABORATORS` - imiona, nazwiska i numery indeksów członków zespołu) oraz upewnić się, że notatnik działa zgodnie z oczekiwaniami. W tym celu należy skorzystać z opcji **Restart Kernel and Run All Cells...** dostępnej na górnej belce notatnika pod symbolem $\\blacktriangleright\\blacktriangleright$."
   ]
  },
  {
   "cell_type": "code",
   "execution_count": null,
   "id": "98ad40dd",
   "metadata": {},
   "outputs": [],
   "source": [
    "NAME = \"IAD28\"\n",
    "COLLABORATORS = \"Radosław Matuszczyk 405124, Piotr Łukasiewicz 406163\""
   ]
  },
  {
   "cell_type": "markdown",
   "id": "12cc1039",
   "metadata": {
    "deletable": false,
    "editable": false,
    "nbgrader": {
     "cell_type": "markdown",
     "checksum": "eddc8826810e4a6f7bf68319da334bd9",
     "grade": false,
     "grade_id": "cell-109006d425e5cf83",
     "locked": true,
     "schema_version": 3,
     "solution": false,
     "task": false
    },
    "tags": []
   },
   "source": [
    "---"
   ]
  },
  {
   "cell_type": "markdown",
   "id": "96a0cd78-e072-4528-9944-c39b0e4c017f",
   "metadata": {
    "deletable": false,
    "editable": false,
    "nbgrader": {
     "cell_type": "markdown",
     "checksum": "55352f1ea371f2a921052ded96ec34fe",
     "grade": false,
     "grade_id": "cell-e5c882543cfca0d9",
     "locked": true,
     "schema_version": 3,
     "solution": false,
     "task": false
    },
    "tags": []
   },
   "source": [
    "## Zestaw zadań 4: Wybrane teoretyczne rozkłady prawdopodobieństwa oraz elementy teorii estymacji (Notatnik 1/3)"
   ]
  },
  {
   "cell_type": "code",
   "execution_count": null,
   "id": "c95155fc-2d90-4af9-acb3-a00c48fc7de4",
   "metadata": {
    "deletable": false,
    "editable": false,
    "nbgrader": {
     "cell_type": "code",
     "checksum": "5017419fdda9f045b081fbef04570c63",
     "grade": false,
     "grade_id": "cell-06ce59cf91ac7138",
     "locked": true,
     "schema_version": 3,
     "solution": false,
     "task": false
    },
    "tags": []
   },
   "outputs": [],
   "source": [
    "import numpy as np\n",
    "import pandas as pd\n",
    "import scipy as sp\n",
    "import matplotlib as mpl\n",
    "import matplotlib.pyplot as plt\n",
    "import seaborn as sns"
   ]
  },
  {
   "cell_type": "code",
   "execution_count": null,
   "id": "8310f065-f587-49f9-80f4-ae1041632a4b",
   "metadata": {},
   "outputs": [],
   "source": [
    "# Miejsce do importu pakietów wchodzących w skład standardowej biblioteki Pythona oraz ustawienie opcji wykorzystywanych pakietów"
   ]
  },
  {
   "cell_type": "markdown",
   "id": "e47bea4b-3a81-4efe-b0de-e7c934e2d65f",
   "metadata": {
    "deletable": false,
    "editable": false,
    "nbgrader": {
     "cell_type": "markdown",
     "checksum": "0a69a2a0c47151f8fb4cf8c276581228",
     "grade": false,
     "grade_id": "cell-3a67c8da7e58b777",
     "locked": true,
     "schema_version": 3,
     "solution": false,
     "task": false
    },
    "tags": []
   },
   "source": [
    "### Zadanie 1: Podstawowe rozkłady teoretyczne wykorzystywane w statystyce matematycznej [15 pkt]\n",
    "Przeanalizuj własności podstawowych teoretycznych rozkładów prawdopodobieństwa wykorzystywane w statystyce matematycznej - rozkładu normalnego, rozkładu t-Studenta, rozkładu chi-kwadrat i rozkładu F Snedecora."
   ]
  },
  {
   "cell_type": "markdown",
   "id": "b45b7adb-d78c-4b20-bdf5-04a8a36d21da",
   "metadata": {
    "deletable": false,
    "editable": false,
    "nbgrader": {
     "cell_type": "markdown",
     "checksum": "5c834b2b75f22d19087d712717de982e",
     "grade": false,
     "grade_id": "cell-a08bdec00537923a",
     "locked": true,
     "schema_version": 3,
     "solution": false,
     "task": false
    },
    "tags": []
   },
   "source": [
    "#### a) Wizualizacja\n",
    "\n",
    "Zwizualizuj funkcje gęstości prawdopodobieństwa następujących rozkładów teoretycznych:\n",
    "- Wykres 1: $N(0, 1)$, $N(0, 0.75)$, $N(0, 1.25)$, $N(-2, 1)$, $N(2, 1)$\n",
    "- Wykres 2: $N(0, 1)$, $t(1)$, $t(2)$, $t(5)$, $t(30)$\n",
    "- Wykres 3: $\\chi^2(1)$, $\\chi^2(2)$, $\\chi^2(3)$, $\\chi^2(5)$, $\\chi^2(8)$\n",
    "- Wykres 4: $F(10, 1)$, $F(10, 2)$, $F(10, 5)$, $F(10, 10)$, $F(10, 20)$\n",
    "- Wykres 5: $F(1, 10)$, $F(2, 10)$, $F(5, 10)$, $F(10, 10)$, $F(20, 10)$\n",
    "- Wykres 6: $F(1, 1)$, $F(2, 2)$, $F(5, 5)$, $F(25, 25)$, $F(50, 50)$\n",
    "\n",
    "gdzie:\n",
    "- $N(\\mu, \\sigma)$ - rozkład normalny o wartości oczekiwanej $\\mu$ i odchyleniu standardowym $\\sigma$,\n",
    "- $t(df)$ - rozkład t-Studenta o $df$ stopniach swobody,\n",
    "- $\\chi^2(df)$ - rozkład chi-kwadrat o $df$ stopniach swobody,\n",
    "- $F(df1, df2)$ - rozkład F Snedecora o $df1$ i $df2$ stopniach swobody.\n",
    "\n",
    "Zestaw wykresy na pojedynczej figurze (siatka wykresów 2x3). Przygotuj figurę zgodnie z wytycznymi z nagłówka notatnika. Dodatkowo:\n",
    "- ustaw identyczne zakresy osi x i y wykresów 1, 2,\n",
    "- ustaw identyczne zakresy osi x i y wykresów 4, 5, 6,\n",
    "- dobierz zakresy osi x wszystkiech wykresów w taki sposób, aby dobrze widoczny był charakter znajdujących się na nich funkcji,\n",
    "- zadbaj o to aby rozkład $N(0, 1)$ na obu wykresach był oznaczony w ten sam sposób (kolor, grubość, styl linii itd.),\n",
    "- do każdego wykresów dodaj legendę opisującą widoczne na nim rozkłady i zadbaj o to, aby legenda nie zasłaniała innych elementów wykresu."
   ]
  },
  {
   "cell_type": "code",
   "execution_count": null,
   "id": "2cee4374-def7-4bef-9aba-738e83cbafc6",
   "metadata": {
    "deletable": false,
    "nbgrader": {
     "cell_type": "code",
     "checksum": "924b2904740a9ed588778b1c7af4dfef",
     "grade": true,
     "grade_id": "cell-4831d3956629a5fb",
     "locked": false,
     "points": 10,
     "schema_version": 3,
     "solution": true,
     "task": false
    },
    "tags": []
   },
   "outputs": [],
   "source": [
    "x1 = np.linspace(-5, 5, 1000)\n",
    "x2 = np.linspace(0, 10, 1000)\n",
    "\n",
    "plot1 = [\n",
    "    sp.stats.norm.pdf(x1, loc=0, scale=1),\n",
    "    sp.stats.norm.pdf(x1, loc=0, scale=0.75),\n",
    "    sp.stats.norm.pdf(x1, loc=0, scale=1.25),\n",
    "    sp.stats.norm.pdf(x1, loc=-2, scale=1),\n",
    "    sp.stats.norm.pdf(x1, loc=2, scale=1)\n",
    "]\n",
    "plot2 = [\n",
    "    sp.stats.norm.pdf(x1, loc=0, scale=1),\n",
    "    sp.stats.t.pdf(x1, df=1),\n",
    "    sp.stats.t.pdf(x1, df=2),\n",
    "    sp.stats.t.pdf(x1, df=5),\n",
    "    sp.stats.t.pdf(x1, df=30)\n",
    "]\n",
    "plot3 = [\n",
    "    sp.stats.chi2.pdf(x2, df=1),\n",
    "    sp.stats.chi2.pdf(x2, df=2),\n",
    "    sp.stats.chi2.pdf(x2, df=3),\n",
    "    sp.stats.chi2.pdf(x2, df=5),\n",
    "    sp.stats.chi2.pdf(x2, df=8)\n",
    "]\n",
    "plot4 = [\n",
    "    sp.stats.f.pdf(x2, dfn=10, dfd=1),\n",
    "    sp.stats.f.pdf(x2, dfn=10, dfd=2),\n",
    "    sp.stats.f.pdf(x2, dfn=10, dfd=5),\n",
    "    sp.stats.f.pdf(x2, dfn=10, dfd=10),\n",
    "    sp.stats.f.pdf(x2, dfn=10, dfd=20)\n",
    "]\n",
    "plot5 = [\n",
    "    sp.stats.f.pdf(x2, dfn=1, dfd=10),\n",
    "    sp.stats.f.pdf(x2, dfn=2, dfd=10),\n",
    "    sp.stats.f.pdf(x2, dfn=5, dfd=10),\n",
    "    sp.stats.f.pdf(x2, dfn=10, dfd=10),\n",
    "    sp.stats.f.pdf(x2, dfn=20, dfd=10)\n",
    "]\n",
    "plot6 = [\n",
    "    sp.stats.f.pdf(x2, dfn=1, dfd=1),\n",
    "    sp.stats.f.pdf(x2, dfn=2, dfd=2),\n",
    "    sp.stats.f.pdf(x2, dfn=5, dfd=5),\n",
    "    sp.stats.f.pdf(x2, dfn=25, dfd=25),\n",
    "    sp.stats.f.pdf(x2, dfn=50, dfd=50)\n",
    "]\n",
    "\n",
    "colors = ['black', 'blue', 'green', 'tab:red', 'orange']\n",
    "\n",
    "fig, axes = plt.subplots(2, 3, figsize=(16,8))\n",
    "fig.tight_layout(h_pad=4, w_pad=4)\n",
    "fig.suptitle('Wizualizacja funkcji gęstości prawdopodobieństwa podstawowych rozkładów', fontsize=18, y=1.075)\n",
    "\n",
    "def display_plot(ax, x, plots, range_x, range_y, title, labels):\n",
    "    for i, pplot in enumerate(plots):\n",
    "        ax.plot(x, pplot, color=colors[i])\n",
    "        ax.set_xlim(range_x)\n",
    "        ax.set_ylim(range_y)\n",
    "        ax.set_xlabel('x')\n",
    "        ax.set_ylabel('y')\n",
    "        ax.set_title(title)\n",
    "        ax.legend(handles=[plt.Line2D([], [], color=colors[0], label=labels[0]),\n",
    "                           plt.Line2D([], [], color=colors[1], label=labels[1]),\n",
    "                           plt.Line2D([], [], color=colors[2], label=labels[2]),\n",
    "                           plt.Line2D([], [], color=colors[3], label=labels[3]),\n",
    "                           plt.Line2D([], [], color=colors[4], label=labels[4])], \n",
    "                  loc='best', fontsize=10, title='rozkład')\n",
    "\n",
    "display_plot(axes[0][0], x1, plot1, [-5, 5], [0, 0.8], title='rozkład normalny', labels=['N(0,1)', 'N(0,0.75)', 'N(0,1.25)', 'N(−2,1)', 'N(2,1)'])\n",
    "display_plot(axes[0][1], x1, plot2, [-5, 5], [0, 0.8], title='rozkład t-Studenta', labels=['N(0,1)', 't(1)', 't(2)', 't(5)', 't(30)'])\n",
    "display_plot(axes[0][2], x2, plot3, [0, 10], [0, 0.8], title='rozkład chi2', labels=['chi2(1)', 'chi2(2)', 'chi2(3)', 'chi2(5)', 'chi2(8)'])\n",
    "display_plot(axes[1][0], x2, plot4, [0, 3], [0, 1.6], title='rozkład F Snedecora', labels=['F(10,1)', 'F(10,2)', 'F(10,5)', 'F(10,10)', 'F(10,20)'])\n",
    "display_plot(axes[1][1], x2, plot5, [0, 3], [0, 1.6], title='rozkład F Snedecora', labels=['F(1,10)', 'F(2,10)', 'F(5,10)', 'F(10,10)', 'F(20,10)'])\n",
    "display_plot(axes[1][2], x2, plot6, [0, 3], [0, 1.6], title='rozkład F Snedecora', labels=['F(1,1)', 'F(2,2)', 'F(5,5)', 'F(25,25)', 'F(50,50)'])"
   ]
  },
  {
   "cell_type": "markdown",
   "id": "a25268ac-bf0c-4b06-862f-4eb91369f16d",
   "metadata": {
    "deletable": false,
    "editable": false,
    "nbgrader": {
     "cell_type": "markdown",
     "checksum": "041e92a70da000fc6ee391ed9ee28877",
     "grade": false,
     "grade_id": "cell-6bf09b19d88efb7a",
     "locked": true,
     "schema_version": 3,
     "solution": false,
     "task": false
    },
    "tags": []
   },
   "source": [
    "#### b) Charakterystyka rozkładów\n",
    "Na podstawie przygotowanych wykresów scharakteryzuje opisane rozkłady teoretyczne i odpowiedz na pytanie w jaki sposób zmiana wartości parametrów rozkładów wpływa na położenie i kształt ich funkcji gęstości prawdopodobieństwa."
   ]
  },
  {
   "cell_type": "markdown",
   "id": "f6835840-842f-46d9-9cb5-a3012f3d5584",
   "metadata": {
    "deletable": false,
    "nbgrader": {
     "cell_type": "markdown",
     "checksum": "927b81669e1f55600fd71d2380980225",
     "grade": true,
     "grade_id": "cell-d6f6af864a438137",
     "locked": false,
     "points": 5,
     "schema_version": 3,
     "solution": true,
     "task": false
    },
    "tags": []
   },
   "source": [
    "**Rozkład normalny** - rozkład na kształt krzywej dzwonowej, jest symetryczny. Średnia wpływa na lokalizację piku, a odchylenie standardowe na szerokość \"dzwonu\". Im większe odchylenie tym szerszy \"dzwon\".\n",
    "\n",
    "**Rozkład t-Studenta** - dla dużych stopni swobody przypomina rozkład normalny, dla małych jest nieco szerszy, tzn. wartości mocno odbiegające od średniej są bardziej prawdopodobne niż w przypadku rozkładu normalnego. Jest rozkładem symetrycznym, jednomodalnym.\n",
    "\n",
    "**Rozkład chi2** - rozkład nieujemny, jednomodalny, niesymetryczny, prawostronny - wartości gęstości prawdopodobieństwa z prawej strony piku wolniej się zmniejszają. Wraz ze wzrostem stopnia swobody, rozkład staje się coraz bardziej spłaszczony i wydłużony, a pik przesuwa się w prawą stronę.\n",
    "\n",
    "**Rozkład F Snedecora** - rozkład nieujemny, jednomodalny, niesymetryczny, prawostronny. Zwiększenie stopni swobody licznika (dfn) powoduje, że rozkład staje się bardziej symetryczny - obszar centralny staje się bardziej koncentryczny. Zwiększenie stopni swobody mianownika (dfd) skutkuje zmniejszeniem skośności rozkładu - pik przesuwany jest w kierunku większych wartości, a różnica między prawą i lewą stroną rozkładu maleje. Dla bardzo dużych wartości stopni swobody, rozkład F zbiega do rozkładu normalnego."
   ]
  },
  {
   "cell_type": "markdown",
   "id": "6da88c5a-ae8b-41dd-a5b3-363029b106a3",
   "metadata": {
    "deletable": false,
    "editable": false,
    "nbgrader": {
     "cell_type": "markdown",
     "checksum": "73a8bf00b684c3e3f644c65e009eeedc",
     "grade": false,
     "grade_id": "cell-b4e1683ecb4ceb70",
     "locked": true,
     "schema_version": 3,
     "solution": false,
     "task": false
    },
    "tags": []
   },
   "source": [
    "### Zadanie 2: Praca z rozkładami teoretycznymi [10 pkt]"
   ]
  },
  {
   "cell_type": "markdown",
   "id": "83964d6a-5107-4796-8098-a5b861df34f3",
   "metadata": {
    "deletable": false,
    "editable": false,
    "nbgrader": {
     "cell_type": "markdown",
     "checksum": "675216517a92a606448a7a3408dc0dc7",
     "grade": false,
     "grade_id": "cell-7f9849004a04a9ca",
     "locked": true,
     "schema_version": 3,
     "solution": false,
     "task": false
    },
    "tags": []
   },
   "source": [
    "#### a) Wyliczanie prawdopodobieństw na podstawie wartości\n",
    "\n",
    "Oblicz i zapisz do zmiennych o podanych nazwach następujące wartości prawdopodobieństwa:\n",
    "- `p1` - $P(X < -1.5)$, gdzie $X$ to zmienna losowa ciągła posiadająca rozkład t-Studenta o 10 stopniach swobody - $t(10)$,\n",
    "- `p2` - $P(X > 2)$, gdzie $X$ to zmienna losowa ciągła posiadająca rozkład F Snedecora o 5 i 50 stopniach swobody - $F(5, 50)$,\n",
    "- `p3` - $P(3 < X < 10)$, gdzie $X$ to zmienna losowa ciągła posiadająca rozkład chi-kwadrat o 4 stopniach swobody - $\\chi^2(4)$,\n",
    "- `p4` - $P(X < -2.75 | X > 1.5)$, gdzie $X$ to zmienna losowa ciągła posiadająca rozkład normalny o wartości oczewiwanej równej -0.5 i odchyleniu standardowym równym 1.5 - $N(-0.5, 1.5)$,\n",
    "\n",
    "Każde z rozwiązań zilustruj wykresem zawierającym krzywą gęstości prawdopodobieństwa rozkładu z zaznaczonym kolorem fragmentem pola pod krzywą odpowiadający wyznaczonej wartości prawdopodobieństwa. Przygotuj figurę zgodnie z wytycznymi z nagłówka notatnika. Dodatkowo:\n",
    "- ustaw zakres osi x od wartości zmiennej $X$, dla której dystrybuanta analizowanego rozkładu przyjmuje wartość 0.0001 do wartości zmiennej $X$, dla której dystrybuanta analizowanego rozkładu przyjmuje wartość 0.9999,\n",
    "- w tytule wykresu zawrzyj uzupełniony wzór na prawdopodobieństwo uzupełniony o wyliczoną wartość prawdopodobieństwa podaną do 4 miejsca po przecinku (np. P(X < -1.5) = x.xxxx, gdzie x.xxxx to obliczona wartość)."
   ]
  },
  {
   "cell_type": "code",
   "execution_count": null,
   "id": "ca0c1146-93cb-48d4-9ea6-592e074463f4",
   "metadata": {
    "deletable": false,
    "nbgrader": {
     "cell_type": "code",
     "checksum": "0d10ecb16b244ca1600d12c10260f57f",
     "grade": false,
     "grade_id": "cell-e8b63c48ec18e621",
     "locked": false,
     "schema_version": 3,
     "solution": true,
     "task": false
    },
    "tags": []
   },
   "outputs": [],
   "source": [
    "# p1\n",
    "p1 = sp.stats.t.cdf(x=-1.5, df=10)\n",
    "\n",
    "xL = sp.stats.t.ppf(q=0.0001, df=10)\n",
    "xR = sp.stats.t.ppf(q=0.9999, df=10)\n",
    "x = np.linspace(xL, xR, 1000)\n",
    "y = sp.stats.t.pdf(x=x, df=10)\n",
    "plt.plot(x, y, 'k')\n",
    "stop = np.searchsorted(x, -1.5)\n",
    "plt.fill_between(x[:stop], y[:stop], color='tab:green')\n",
    "plt.title('P(X < -1.5) = {:.4f}'.format(p1))\n",
    "plt.xlabel('x')\n",
    "plt.ylabel('y');"
   ]
  },
  {
   "cell_type": "code",
   "execution_count": null,
   "id": "de0ecce6-3bd7-4fee-bdca-13bab51754da",
   "metadata": {
    "deletable": false,
    "nbgrader": {
     "cell_type": "code",
     "checksum": "438705ab1637592dfbeddee6f31e3db3",
     "grade": false,
     "grade_id": "cell-e1993944ea90eb0f",
     "locked": false,
     "schema_version": 3,
     "solution": true,
     "task": false
    },
    "tags": []
   },
   "outputs": [],
   "source": [
    "# p2\n",
    "p2 = 1 - sp.stats.f.cdf(x=2, dfn=5, dfd=50)\n",
    "\n",
    "xL = sp.stats.f.ppf(q=0.0001, dfn=5, dfd=50)\n",
    "xR = sp.stats.f.ppf(q=0.9999, dfn=5, dfd=50)\n",
    "x = np.linspace(xL, xR, 1000)\n",
    "y = sp.stats.f.pdf(x=x, dfn=5, dfd=50)\n",
    "plt.plot(x, y, 'k')\n",
    "start = np.searchsorted(x, 2)\n",
    "plt.fill_between(x[start:], y[start:], color='tab:green')\n",
    "plt.title('P(X > 2) = {:.4f}'.format(p2))\n",
    "plt.xlabel('x')\n",
    "plt.ylabel('y');"
   ]
  },
  {
   "cell_type": "code",
   "execution_count": null,
   "id": "3b0d6f75-78b0-4eed-9cfe-74b55e71129d",
   "metadata": {
    "deletable": false,
    "nbgrader": {
     "cell_type": "code",
     "checksum": "d6e7bb5d99bfabb8af95da60431ffe67",
     "grade": false,
     "grade_id": "cell-8844111764c19f52",
     "locked": false,
     "schema_version": 3,
     "solution": true,
     "task": false
    },
    "tags": []
   },
   "outputs": [],
   "source": [
    "# p3\n",
    "p3 = sp.stats.chi2.cdf(x=10, df=4) - sp.stats.chi2.cdf(x=3, df=4)\n",
    "\n",
    "xL = sp.stats.chi2.ppf(q=0.0001, df=4)\n",
    "xR = sp.stats.chi2.ppf(q=0.9999, df=4)\n",
    "x = np.linspace(xL, xR, 1000)\n",
    "y = sp.stats.chi2.pdf(x=x, df=4)\n",
    "plt.plot(x, y, 'k')\n",
    "start = np.searchsorted(x, 3)\n",
    "stop = np.searchsorted(x, 10)\n",
    "plt.fill_between(x[start:stop], y[start:stop], color='tab:green')\n",
    "plt.title('P(3 < X < 10) = {:.4f}'.format(p3))\n",
    "plt.xlabel('x')\n",
    "plt.ylabel('y');"
   ]
  },
  {
   "cell_type": "code",
   "execution_count": null,
   "id": "a851194e-e4c2-4cd0-94ab-0ebea9e4be3f",
   "metadata": {
    "deletable": false,
    "nbgrader": {
     "cell_type": "code",
     "checksum": "3e26950b8fb228358e65d7474e748bd1",
     "grade": false,
     "grade_id": "cell-65717becaa4148fc",
     "locked": false,
     "schema_version": 3,
     "solution": true,
     "task": false
    },
    "tags": []
   },
   "outputs": [],
   "source": [
    "# p4\n",
    "p4 = sp.stats.norm.cdf(x=-2.75, loc=-0.5, scale=1.5) + 1 - sp.stats.norm.cdf(x=1.5, loc=-0.5, scale=1.5)\n",
    "\n",
    "xL = sp.stats.norm.ppf(q=0.0001, loc=-0.5, scale=1.5)\n",
    "xR = sp.stats.norm.ppf(q=0.9999, loc=-0.5, scale=1.5)\n",
    "x = np.linspace(xL, xR, 1000)\n",
    "y = sp.stats.norm.pdf(x=x, loc=-0.5, scale=1.5)\n",
    "plt.plot(x, y, 'k')\n",
    "stop = np.searchsorted(x, -2.75)\n",
    "start = np.searchsorted(x, 1.5)\n",
    "plt.fill_between(x[:stop], y[:stop], color='tab:green')\n",
    "plt.fill_between(x[start:], y[start:], color='tab:green')\n",
    "plt.title('P(X < -2.75 | X > 1.5) = {:.4f}'.format(p4))\n",
    "plt.xlabel('x')\n",
    "plt.ylabel('y');"
   ]
  },
  {
   "cell_type": "code",
   "execution_count": null,
   "id": "5f868b3a-dcc3-4f6f-b2a0-ee89a8f3aa32",
   "metadata": {
    "deletable": false,
    "editable": false,
    "nbgrader": {
     "cell_type": "code",
     "checksum": "cf81354f9b55127b03a5c4e961559085",
     "grade": true,
     "grade_id": "cell-76ab68be8461d402",
     "locked": true,
     "points": 5,
     "schema_version": 3,
     "solution": false,
     "task": false
    },
    "tags": []
   },
   "outputs": [],
   "source": [
    "### Komórka testowa\n",
    "assert p1 == 0.08225366322272008\n",
    "assert p2 == 0.0947529020300999\n",
    "assert p3 == 0.5173977183765621\n",
    "assert p4 == 0.15801842099472596"
   ]
  },
  {
   "cell_type": "markdown",
   "id": "ca66192c-9afb-45b8-a5a7-cbdab3807559",
   "metadata": {
    "deletable": false,
    "editable": false,
    "nbgrader": {
     "cell_type": "markdown",
     "checksum": "01a5d45be4acb9779ed5fa95a2ed0de4",
     "grade": false,
     "grade_id": "cell-876e4ca2cfd97763",
     "locked": true,
     "schema_version": 3,
     "solution": false,
     "task": false
    },
    "tags": []
   },
   "source": [
    "#### b) Wyliczanie wartości na podstawie prawdopodobieństw\n",
    "\n",
    "Rozwiąż i zapisz do zmiennych o podanych nazwach rozwiązania następujących równań:\n",
    "- `s1` - $P(X < s) = 0.25$, gdzie X to zmienna losowa ciągła posiadająca rozkład chi-kwadrat o 5 stopniach swobody - $\\chi^2(5)$,\n",
    "- `s2` - $P(X > s) = 0.15$, gdzie X to zmienna losowa ciągła posiadająca rozkład F Snedecora o 5 i 20 stopniach swobody - $F(5, 20)$,\n",
    "- `s3` - $P(-1.25 < X < s) = 0.35$, gdzie x to zmienna losowa ciągła posiadająca rozkład normalny o wartości oczewiwanej równej -0.4 i odchyleniu standardowym równym 0.75 - $N(-0.4, 0.75)$,\n",
    "\n",
    "Każde z rozwiązań zilustruj wykresem zawierającym krzywą gęstości prawdopodobieństwa rozkładu z zaznaczonym kolorem fragmentem pola pod krzywą odpowiadający wartości prawdopodobieństwa określonej przez rozwiązywane równanie. Przygotuj figurę zgodnie z wytycznymi z nagłówka notatnika. Dodatkowo:\n",
    "- ustaw zakres osi x od wartości zmiennej $X$, dla której dystrybuanta analizowanego rozkładu przyjmuje wartość 0.0001 do wartości zmiennej $X$, dla której dystrybuanta analizowanego rozkładu przyjmuje wartość 0.9999,\n",
    "- oznacz krawędź obszaru, na której znajduje się wyznaczona wartość $s$ linią w wyróżniającym się kolorze,\n",
    "- w tytule wykresu zawrzyj uzupełniony wzór na prawdopodobieństwo uzupełniony o wyliczoną wartość zmiennej $X$ podaną do 4 miejsca po przecinku (np. P(X < s.ssss) = 0.25, gdzie s.ssss to obliczona wartość)."
   ]
  },
  {
   "cell_type": "code",
   "execution_count": null,
   "id": "e2276d88-9327-4d56-a039-a58eccef46cd",
   "metadata": {
    "deletable": false,
    "nbgrader": {
     "cell_type": "code",
     "checksum": "3d88b8239ce30dc85a23e34fe4cee669",
     "grade": false,
     "grade_id": "cell-7c67b0379d415bec",
     "locked": false,
     "schema_version": 3,
     "solution": true,
     "task": false
    },
    "tags": []
   },
   "outputs": [],
   "source": [
    "# s1\n",
    "s1 = sp.stats.chi2.ppf(q=0.25, df=5)\n",
    "\n",
    "xL = sp.stats.chi2.ppf(q=0.0001, df=5)\n",
    "xR = sp.stats.chi2.ppf(q=0.9999, df=5)\n",
    "x = np.linspace(xL, xR, 1000)\n",
    "y = sp.stats.chi2.pdf(x=x, df=5)\n",
    "plt.plot(x, y, 'k')\n",
    "edge = np.searchsorted(x, s1)\n",
    "plt.fill_between(x[:edge], y[:edge], color='tab:green')\n",
    "plt.fill_between(x[edge-2:edge+2], y[edge-2:edge+2], color='red')\n",
    "plt.title('P(X < {:.4f}) = 0.25'.format(s1))\n",
    "plt.xlabel('x')\n",
    "plt.ylabel('y');"
   ]
  },
  {
   "cell_type": "code",
   "execution_count": null,
   "id": "85691fd0-556e-4ad1-b2e4-719c5b71bedd",
   "metadata": {
    "deletable": false,
    "nbgrader": {
     "cell_type": "code",
     "checksum": "ae6abafb7e7a1a8a4988a5ee7351fa72",
     "grade": false,
     "grade_id": "cell-bc3bb3a5ab319d0b",
     "locked": false,
     "schema_version": 3,
     "solution": true,
     "task": false
    },
    "tags": []
   },
   "outputs": [],
   "source": [
    "# s2\n",
    "s2 = sp.stats.f.ppf(q=1-0.15, dfn=5, dfd=20)\n",
    "\n",
    "xL = sp.stats.f.ppf(q=0.0001, dfn=5, dfd=20)\n",
    "xR = sp.stats.f.ppf(q=0.9999, dfn=5, dfd=20)\n",
    "x = np.linspace(xL, xR, 1000)\n",
    "y = sp.stats.f.pdf(x=x, dfn=5, dfd=20)\n",
    "plt.plot(x, y, 'k')\n",
    "edge = np.searchsorted(x, s2)\n",
    "plt.fill_between(x[edge:], y[edge:], color='tab:green')\n",
    "plt.fill_between(x[edge-2:edge+2], y[edge-2:edge+2], color='red')\n",
    "plt.title('P(X > {:.4f}) = 0.15'.format(s2))\n",
    "plt.xlabel('x')\n",
    "plt.ylabel('y');"
   ]
  },
  {
   "cell_type": "code",
   "execution_count": null,
   "id": "70bdfafd-ea8f-462e-a298-6f7cdf87d357",
   "metadata": {
    "deletable": false,
    "nbgrader": {
     "cell_type": "code",
     "checksum": "dba10b866fd20f8543efac61af29df30",
     "grade": false,
     "grade_id": "cell-835a0cb518f4150e",
     "locked": false,
     "schema_version": 3,
     "solution": true,
     "task": false
    },
    "tags": []
   },
   "outputs": [],
   "source": [
    "# s3\n",
    "q = 0.35 + sp.stats.norm.cdf(x=-1.25, loc=-0.4, scale=0.75)\n",
    "s3 = sp.stats.norm.ppf(q=q, loc=-0.4, scale=0.75)\n",
    "\n",
    "xL = sp.stats.norm.ppf(q=0.0001, loc=-0.4, scale=0.75)\n",
    "xR = sp.stats.norm.ppf(q=0.9999, loc=-0.4, scale=0.75)\n",
    "x = np.linspace(xL, xR, 1000)\n",
    "y = sp.stats.norm.pdf(x=x, loc=-0.4, scale=0.75)\n",
    "plt.plot(x, y, 'k')\n",
    "edge_start = np.searchsorted(x, -1.25)\n",
    "edge = np.searchsorted(x, s3)\n",
    "plt.fill_between(x[edge_start:edge], y[edge_start:edge], color='tab:green')\n",
    "plt.fill_between(x[edge-2:edge+2], y[edge-2:edge+2], color='red')\n",
    "plt.title('P(-1.25 < X < {:.4f}) = 0.35'.format(s3))\n",
    "plt.xlabel('x')\n",
    "plt.ylabel('y');"
   ]
  },
  {
   "cell_type": "code",
   "execution_count": null,
   "id": "3072adb7-9abd-4523-8a27-fcfadcc59e90",
   "metadata": {},
   "outputs": [],
   "source": [
    "print(s1) # błąd zaokrąglenia\n",
    "print(s2)\n",
    "print(s3) # niezidentyfikowany błąd"
   ]
  },
  {
   "cell_type": "code",
   "execution_count": null,
   "id": "625394a4-f1c4-42f5-a579-1dc1739cd4f8",
   "metadata": {
    "deletable": false,
    "editable": false,
    "nbgrader": {
     "cell_type": "code",
     "checksum": "1cda804e9c55f7aebc3288715fcc6281",
     "grade": true,
     "grade_id": "cell-5beafcc4cebdbc21",
     "locked": true,
     "points": 5,
     "schema_version": 3,
     "solution": false,
     "task": false
    },
    "tags": []
   },
   "outputs": [],
   "source": [
    "### Komórka testowa\n",
    "assert s1 == 2.6746028094321637\n",
    "assert s2 == 1.843305229426929\n",
    "assert s3 == -0.4835496337042254"
   ]
  }
 ],
 "metadata": {
  "kernelspec": {
   "display_name": "Python 3 (ipykernel)",
   "language": "python",
   "name": "python3"
  },
  "language_info": {
   "codemirror_mode": {
    "name": "ipython",
    "version": 3
   },
   "file_extension": ".py",
   "mimetype": "text/x-python",
   "name": "python",
   "nbconvert_exporter": "python",
   "pygments_lexer": "ipython3",
   "version": "3.11.3"
  }
 },
 "nbformat": 4,
 "nbformat_minor": 5
}
